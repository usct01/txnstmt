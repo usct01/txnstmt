{
 "cells": [
  {
   "cell_type": "code",
   "execution_count": null,
   "metadata": {},
   "outputs": [],
   "source": [
    "import boto3\n",
    "import json\n",
    "# instantiate a new comprehend client by reading credentials from config file\n",
    "comprehend = boto3.client(service_name='comprehend') "
   ]
  },
  {
   "cell_type": "code",
   "execution_count": 2,
   "metadata": {
    "ExecuteTime": {
     "end_time": "2020-10-08T11:36:07.324544Z",
     "start_time": "2020-10-08T11:36:07.300068Z"
    }
   },
   "outputs": [
    {
     "data": {
      "text/plain": [
       "13"
      ]
     },
     "execution_count": 2,
     "metadata": {},
     "output_type": "execute_result"
    }
   ],
   "source": [
    "batch_string=[\n",
    "    'PAYMENT TO ANZ BANK MERCHANT FEE',\n",
    "    'PAYMENT TO MYOB AUSTRALIA   MYOB 1-10327685617'\n",
    "    'ANZ INTERNET BANKING FUNDS TFER TRANSFER 866802  TO  015208384929555',\n",
    "    'ANZ INTERNET BANKING BPAY NEWS - SUBSCRIPTIO            {184786}',\n",
    "    'VISA DEBIT PURCHASE CARD 8061 GOOGLE*ADWS8409660624 SINGAPORE',\n",
    "    'VISA DEBIT PURCHASE CARD 8061 RENTALCARTOLLPH131865 PARRAMATTA',\n",
    "    'Gutschrift Onlinebanking ner 2014 BG/000000217 OPSKATWW AT916000050110110437 Piratenpartei Österreichs Mitgliedsbeiträge LO-Anteil Jänner 2014',\n",
    "    'SWITCH Energievertriebsgesellschaft Bel. 613661801 EUR 3700 OG/000001242'\n",
    " ,'SIX Payment Services (Europe) S.A.'\n",
    ",'Stadt Wien Buchhaltungsabteilung 33 POS 6507 280 K001 26.08. 16:45 JET-TANKSTELLEMUENCHEN80687'\n",
    ",'Entgelt für Buchungsposten und Belege'\n",
    ",'Entgelt für Manipulation'\n",
    ",'Entgelt für Buchungsposten und Belege'\n",
    ",'INTER-BANK CREDIT, SO1000 Grumpy Donuts SOL Products Pty'\n",
    "             ]\n",
    "len(batch_string)"
   ]
  },
  {
   "cell_type": "code",
   "execution_count": 16,
   "metadata": {
    "ExecuteTime": {
     "end_time": "2020-10-08T11:48:41.321395Z",
     "start_time": "2020-10-08T11:48:40.274862Z"
    }
   },
   "outputs": [
    {
     "data": {
      "text/plain": [
       "{'Entities': [{'Score': 0.8370881676673889,\n",
       "   'Type': 'ORGANIZATION',\n",
       "   'Text': 'SWITCH Energievertriebsgesellschaft',\n",
       "   'BeginOffset': 0,\n",
       "   'EndOffset': 35},\n",
       "  {'Score': 0.9381502270698547,\n",
       "   'Type': 'OTHER',\n",
       "   'Text': '613661801',\n",
       "   'BeginOffset': 41,\n",
       "   'EndOffset': 50},\n",
       "  {'Score': 0.7416148781776428,\n",
       "   'Type': 'OTHER',\n",
       "   'Text': 'EUR 3700',\n",
       "   'BeginOffset': 51,\n",
       "   'EndOffset': 59},\n",
       "  {'Score': 0.5299660563468933,\n",
       "   'Type': 'OTHER',\n",
       "   'Text': 'OG/000001242',\n",
       "   'BeginOffset': 60,\n",
       "   'EndOffset': 72}],\n",
       " 'ResponseMetadata': {'RequestId': '322584e8-8610-49ef-9998-3554affdb2d2',\n",
       "  'HTTPStatusCode': 200,\n",
       "  'HTTPHeaders': {'x-amzn-requestid': '322584e8-8610-49ef-9998-3554affdb2d2',\n",
       "   'content-type': 'application/x-amz-json-1.1',\n",
       "   'content-length': '428',\n",
       "   'date': 'Thu, 08 Oct 2020 11:48:40 GMT'},\n",
       "  'RetryAttempts': 0}}"
      ]
     },
     "execution_count": 16,
     "metadata": {},
     "output_type": "execute_result"
    }
   ],
   "source": [
    "comprehend.detect_entities(Text='SWITCH Energievertriebsgesellschaft Bel. 613661801 EUR 3700 OG/000001242',LanguageCode='en')"
   ]
  },
  {
   "cell_type": "code",
   "execution_count": 3,
   "metadata": {
    "ExecuteTime": {
     "end_time": "2020-10-08T11:36:11.285281Z",
     "start_time": "2020-10-08T11:36:09.847046Z"
    },
    "scrolled": true
   },
   "outputs": [
    {
     "name": "stdout",
     "output_type": "stream",
     "text": [
      "Stadt Wien Buchhaltungsabteilung 33 POS 6507 280 K001 26.08. 16:45 JET-TANKSTELLEMUENCHEN80687\n",
      "de\n"
     ]
    },
    {
     "data": {
      "text/plain": [
       "[{'Score': 0.6825277209281921,\n",
       "  'Type': 'ORGANIZATION',\n",
       "  'Text': 'Stadt Wien Buchhaltungsabteilung',\n",
       "  'BeginOffset': 0,\n",
       "  'EndOffset': 32},\n",
       " {'Score': 0.8785567879676819,\n",
       "  'Type': 'OTHER',\n",
       "  'Text': '33 POS 6507 280 K001',\n",
       "  'BeginOffset': 33,\n",
       "  'EndOffset': 53},\n",
       " {'Score': 0.9966641664505005,\n",
       "  'Type': 'DATE',\n",
       "  'Text': '26.08. 16:45',\n",
       "  'BeginOffset': 54,\n",
       "  'EndOffset': 66}]"
      ]
     },
     "execution_count": 3,
     "metadata": {},
     "output_type": "execute_result"
    }
   ],
   "source": [
    "s=batch_string[8]\n",
    "s=' '.join(x for x in s.split() if x)\n",
    "print(s)\n",
    "detlang=comprehend.detect_dominant_language(Text=s)['Languages'][0]['LanguageCode']\n",
    "print(detlang)\n",
    "detent=comprehend.detect_entities(Text = s, LanguageCode=detlang)['Entities']\n",
    "detent"
   ]
  },
  {
   "cell_type": "code",
   "execution_count": 9,
   "metadata": {
    "ExecuteTime": {
     "end_time": "2020-10-08T11:40:55.745433Z",
     "start_time": "2020-10-08T11:40:54.707231Z"
    }
   },
   "outputs": [
    {
     "data": {
      "text/plain": [
       "[{'Score': 0.9985055327415466,\n",
       "  'Text': 'Stadt Wien',\n",
       "  'BeginOffset': 0,\n",
       "  'EndOffset': 10},\n",
       " {'Score': 0.9356321096420288,\n",
       "  'Text': 'Buchhaltungsabteilung',\n",
       "  'BeginOffset': 11,\n",
       "  'EndOffset': 32},\n",
       " {'Score': 0.7592402696609497,\n",
       "  'Text': '33 POS',\n",
       "  'BeginOffset': 33,\n",
       "  'EndOffset': 39},\n",
       " {'Score': 0.999977707862854,\n",
       "  'Text': '6507',\n",
       "  'BeginOffset': 40,\n",
       "  'EndOffset': 44},\n",
       " {'Score': 0.9838687777519226,\n",
       "  'Text': '280 K001',\n",
       "  'BeginOffset': 45,\n",
       "  'EndOffset': 53},\n",
       " {'Score': 0.989812433719635,\n",
       "  'Text': '26.08. 16:45',\n",
       "  'BeginOffset': 54,\n",
       "  'EndOffset': 66}]"
      ]
     },
     "execution_count": 9,
     "metadata": {},
     "output_type": "execute_result"
    }
   ],
   "source": [
    "detkeyph=comprehend.detect_key_phrases(Text = s, LanguageCode=detlang)['KeyPhrases']\n",
    "detkeyph"
   ]
  },
  {
   "cell_type": "code",
   "execution_count": null,
   "metadata": {},
   "outputs": [],
   "source": []
  },
  {
   "cell_type": "code",
   "execution_count": null,
   "metadata": {},
   "outputs": [],
   "source": [
    "bd=comprehend.batch_detect_entities(TextList = batch_string, LanguageCode='de')['ResultList']\n",
    "bd"
   ]
  },
  {
   "cell_type": "code",
   "execution_count": null,
   "metadata": {
    "scrolled": true
   },
   "outputs": [],
   "source": [
    "dtbd=pd.DataFrame.from_dict(bd)\n",
    "# dtbd=dtbd.Entities.apply(lambda x : pd.json_normalize(x))\n",
    "dtbd"
   ]
  },
  {
   "cell_type": "code",
   "execution_count": null,
   "metadata": {},
   "outputs": [],
   "source": []
  },
  {
   "cell_type": "code",
   "execution_count": 14,
   "metadata": {
    "ExecuteTime": {
     "end_time": "2020-10-08T11:44:08.517358Z",
     "start_time": "2020-10-08T11:44:06.068244Z"
    }
   },
   "outputs": [
    {
     "name": "stdout",
     "output_type": "stream",
     "text": [
      "Stadt Wien\n",
      "[{'Score': 0.8093973398208618, 'Type': 'LOCATION', 'Text': 'Stadt Wien', 'BeginOffset': 0, 'EndOffset': 10}]\n",
      "Buchhaltungsabteilung\n",
      "[]\n",
      "33 POS\n",
      "[{'Score': 0.4266717731952667, 'Type': 'QUANTITY', 'Text': '33', 'BeginOffset': 0, 'EndOffset': 2}]\n",
      "6507\n",
      "[{'Score': 0.5639507174491882, 'Type': 'OTHER', 'Text': '6507', 'BeginOffset': 0, 'EndOffset': 4}]\n",
      "280 K001\n",
      "[{'Score': 0.5401226282119751, 'Type': 'COMMERCIAL_ITEM', 'Text': '280 K001', 'BeginOffset': 0, 'EndOffset': 8}]\n",
      "26.08. 16:45\n",
      "[{'Score': 0.993584394454956, 'Type': 'DATE', 'Text': '26.08. 16:45', 'BeginOffset': 0, 'EndOffset': 12}]\n"
     ]
    }
   ],
   "source": [
    "for kp in detkeyph:\n",
    "    print(kp['Text'])\n",
    "    print(comprehend.detect_entities(Text = kp['Text'], LanguageCode=detlang)['Entities'])\n"
   ]
  },
  {
   "cell_type": "code",
   "execution_count": 15,
   "metadata": {
    "ExecuteTime": {
     "end_time": "2020-10-08T11:45:20.089584Z",
     "start_time": "2020-10-08T11:45:19.060893Z"
    },
    "scrolled": true
   },
   "outputs": [
    {
     "data": {
      "text/plain": [
       "[{'TokenId': 1,\n",
       "  'Text': 'Stadt',\n",
       "  'BeginOffset': 0,\n",
       "  'EndOffset': 5,\n",
       "  'PartOfSpeech': {'Tag': 'NOUN', 'Score': 0.9006140232086182}},\n",
       " {'TokenId': 2,\n",
       "  'Text': 'Wien',\n",
       "  'BeginOffset': 6,\n",
       "  'EndOffset': 10,\n",
       "  'PartOfSpeech': {'Tag': 'PROPN', 'Score': 0.998957633972168}},\n",
       " {'TokenId': 3,\n",
       "  'Text': 'Buchhaltungsabteilung',\n",
       "  'BeginOffset': 11,\n",
       "  'EndOffset': 32,\n",
       "  'PartOfSpeech': {'Tag': 'NOUN', 'Score': 0.5653969049453735}},\n",
       " {'TokenId': 4,\n",
       "  'Text': '33',\n",
       "  'BeginOffset': 33,\n",
       "  'EndOffset': 35,\n",
       "  'PartOfSpeech': {'Tag': 'NUM', 'Score': 0.9811906218528748}},\n",
       " {'TokenId': 5,\n",
       "  'Text': 'POS',\n",
       "  'BeginOffset': 36,\n",
       "  'EndOffset': 39,\n",
       "  'PartOfSpeech': {'Tag': 'PROPN', 'Score': 0.9334350228309631}},\n",
       " {'TokenId': 6,\n",
       "  'Text': '6507',\n",
       "  'BeginOffset': 40,\n",
       "  'EndOffset': 44,\n",
       "  'PartOfSpeech': {'Tag': 'PROPN', 'Score': 0.9570008516311646}},\n",
       " {'TokenId': 7,\n",
       "  'Text': '280',\n",
       "  'BeginOffset': 45,\n",
       "  'EndOffset': 48,\n",
       "  'PartOfSpeech': {'Tag': 'PROPN', 'Score': 0.9490844011306763}},\n",
       " {'TokenId': 8,\n",
       "  'Text': 'K001',\n",
       "  'BeginOffset': 49,\n",
       "  'EndOffset': 53,\n",
       "  'PartOfSpeech': {'Tag': 'PROPN', 'Score': 0.9980143308639526}},\n",
       " {'TokenId': 9,\n",
       "  'Text': '26.08',\n",
       "  'BeginOffset': 54,\n",
       "  'EndOffset': 59,\n",
       "  'PartOfSpeech': {'Tag': 'NUM', 'Score': 0.6638805270195007}},\n",
       " {'TokenId': 10,\n",
       "  'Text': '.',\n",
       "  'BeginOffset': 59,\n",
       "  'EndOffset': 60,\n",
       "  'PartOfSpeech': {'Tag': 'PUNCT', 'Score': 0.9958935976028442}},\n",
       " {'TokenId': 11,\n",
       "  'Text': '16:45',\n",
       "  'BeginOffset': 61,\n",
       "  'EndOffset': 66,\n",
       "  'PartOfSpeech': {'Tag': 'NUM', 'Score': 0.99760901927948}},\n",
       " {'TokenId': 12,\n",
       "  'Text': 'JET',\n",
       "  'BeginOffset': 67,\n",
       "  'EndOffset': 70,\n",
       "  'PartOfSpeech': {'Tag': 'PROPN', 'Score': 0.9822942018508911}},\n",
       " {'TokenId': 13,\n",
       "  'Text': '-',\n",
       "  'BeginOffset': 70,\n",
       "  'EndOffset': 71,\n",
       "  'PartOfSpeech': {'Tag': 'PUNCT', 'Score': 0.9999819993972778}},\n",
       " {'TokenId': 14,\n",
       "  'Text': 'TANKSTELLEMUENCHEN80687',\n",
       "  'BeginOffset': 71,\n",
       "  'EndOffset': 94,\n",
       "  'PartOfSpeech': {'Tag': 'PROPN', 'Score': 0.9853224754333496}}]"
      ]
     },
     "execution_count": 15,
     "metadata": {},
     "output_type": "execute_result"
    }
   ],
   "source": [
    "detsyn=comprehend.detect_syntax(Text=s, LanguageCode=detlang)['SyntaxTokens']\n",
    "detsyn"
   ]
  },
  {
   "cell_type": "code",
   "execution_count": null,
   "metadata": {},
   "outputs": [],
   "source": [
    "detsyn[0]"
   ]
  },
  {
   "cell_type": "code",
   "execution_count": null,
   "metadata": {},
   "outputs": [],
   "source": [
    "import pandas as pd\n",
    "pd.DataFrame.from_dict(detsyn[0])"
   ]
  },
  {
   "cell_type": "code",
   "execution_count": null,
   "metadata": {
    "scrolled": true
   },
   "outputs": [],
   "source": [
    "print('Calling DetectDominantLanguage')\n",
    "\n",
    "print('english_string result:')\n",
    "# json.dumps() writes JSON data to a Python string\n",
    "print(json.dumps(comprehend.detect_dominant_language(Text = english_string), sort_keys=True, indent=4))\n",
    "\n",
    "print('\\n spanish_string result:')\n",
    "print(json.dumps(comprehend.detect_dominant_language(Text = spanish_string), sort_keys=True, indent=4))\n",
    "print('End of DetectDominantLanguage\\n')\n",
    "\n",
    "print('Calling DetectEntities')\n",
    "# json.dumps() writes JSON data to a Python string\n",
    "print(json.dumps(comprehend.detect_entities(Text = english_string, LanguageCode='en'), sort_keys=True, indent=4))\n",
    "print(json.dumps(comprehend.detect_entities(Text = spanish_string, LanguageCode='de'), sort_keys=True, indent=4))\n",
    "print('End of DetectEntities\\n')"
   ]
  },
  {
   "cell_type": "code",
   "execution_count": null,
   "metadata": {},
   "outputs": [],
   "source": []
  },
  {
   "cell_type": "code",
   "execution_count": null,
   "metadata": {},
   "outputs": [],
   "source": []
  },
  {
   "cell_type": "code",
   "execution_count": null,
   "metadata": {
    "scrolled": true
   },
   "outputs": [],
   "source": [
    "print('Calling BatchDetectDominantLanguage')\n",
    "\n",
    "print('english_string_list results:')\n",
    "# json.dumps() writes JSON data to a Python string\n",
    "print(json.dumps(comprehend.batch_detect_dominant_language(TextList = batch_string), sort_keys=True, indent=4))\n",
    "\n",
    "# print('\\nspanish_string_list results:')\n",
    "# print(json.dumps(comprehend.batch_detect_dominant_language(TextList = batch_string), sort_keys=True, indent=4))\n",
    "print('End of BatchDetectDominantLanguage\\n')"
   ]
  },
  {
   "cell_type": "code",
   "execution_count": null,
   "metadata": {},
   "outputs": [],
   "source": [
    "# print(json.dumps(comprehend.batch_detect_entities(TextList = batch_string, LanguageCode='de'), sort_keys=True, indent=4))\n",
    "comprehend.batch_detect_entities(TextList = batch_string, LanguageCode='de')\n"
   ]
  },
  {
   "cell_type": "code",
   "execution_count": null,
   "metadata": {},
   "outputs": [],
   "source": [
    "# dtkp=comprehend.batch_detect_key_phrases(TextList = batch_string, LanguageCode='de')['ResultList']\n",
    "# dtkp=pd.DataFrame.from_dict(dtkp)\n",
    "# pd.read_json(dtkp,orient='records')\n",
    "dtkp"
   ]
  },
  {
   "cell_type": "code",
   "execution_count": null,
   "metadata": {},
   "outputs": [],
   "source": [
    "for s in batch_string:\n",
    "    print(json.dumps(comprehend.detect_entities(Text = s, LanguageCode='de'), sort_keys=True, indent=4))"
   ]
  },
  {
   "cell_type": "code",
   "execution_count": null,
   "metadata": {},
   "outputs": [],
   "source": [
    "print(s)\n",
    "detent=comprehend.detect_entities(Text = s, LanguageCode='de')\n",
    "print(detent)\n",
    "\n",
    "# detent.keys()\n",
    "print(detent.values())\n",
    "print(detent['Entities'])\n",
    "len(detent['Entities'])"
   ]
  },
  {
   "cell_type": "code",
   "execution_count": null,
   "metadata": {},
   "outputs": [],
   "source": [
    "s"
   ]
  },
  {
   "cell_type": "code",
   "execution_count": null,
   "metadata": {
    "scrolled": true
   },
   "outputs": [],
   "source": [
    "print('Calling DetectKeyPhrases')\n",
    "# json.dumps() writes JSON data to a Python string\n",
    "for s in batch_string:\n",
    "    print(json.dumps(comprehend.detect_key_phrases(Text = s, LanguageCode='en'), sort_keys=True, indent=4))\n",
    "print('End of DetectKeyPhrases\\n')"
   ]
  },
  {
   "cell_type": "code",
   "execution_count": null,
   "metadata": {
    "scrolled": true
   },
   "outputs": [],
   "source": [
    "# provide a text string to analyze\n",
    "english_string = 'Today is my birthday, I am so happy.'\n",
    "\n",
    "print('Calling DetectSentiment')\n",
    "# json.dumps() writes JSON data to a Python string\n",
    "print('english_string results:')\n",
    "print(json.dumps(comprehend.detect_sentiment(Text = english_string, LanguageCode='en'), sort_keys=True, indent=4))\n",
    "print('End of DetectSentiment\\n')"
   ]
  },
  {
   "cell_type": "code",
   "execution_count": null,
   "metadata": {},
   "outputs": [],
   "source": []
  },
  {
   "cell_type": "code",
   "execution_count": null,
   "metadata": {},
   "outputs": [],
   "source": [
    "# LOAD AND READ DATA FROM S3 BUCKET\n",
    "# Setup a region\n",
    "region = 'us-east-2'\n",
    "# Create an S3 client\n",
    "s3 = boto3.client('s3',region_name = region)\n",
    "\n",
    "# Creates a variable with the bucket name\n",
    "bucket_name = 'dm-sagemaker-s3' #'<insert a unique bucket name>' \n",
    "\n",
    "# Create a location Constraint\n",
    "location = {'LocationConstraint': region}\n",
    "# Creates a new bucket \n",
    "s3.create_bucket(Bucket=bucket_name,CreateBucketConfiguration=location)\n",
    "# Create a list of file names\n",
    "filenames_list = ['doc-topics.csv', 'topic-terms.csv']\n",
    "\n",
    "# Iterates on each file in the  filenames_list\n",
    "for filename in filenames_list:\n",
    "    # Uploads each CSV to the created bucket\n",
    "    s3.upload_file(filename, bucket_name, filename)\n",
    "    # checks if the filename is 'doc-topics.csv'\n",
    "    if filename == 'doc-topics.csv':\n",
    "        # gets the 'doc-topics.csv' file as an object\n",
    "        obj = s3.get_object(Bucket=bucket_name, Key=filename)\n",
    "        # reads the csv and assigns to doc_topics \n",
    "        doc_topics = pd.read_csv(obj['Body'])\n",
    "    else:\n",
    "        obj = s3.get_object(Bucket=bucket_name, Key=filename)\n",
    "        topic_terms = pd.read_csv(obj['Body'])\n",
    "\n",
    "# merge files on topic column to obtain the most common terms per document\n",
    "merged_df = pd.merge(doc_topics, topic_terms, on='topic')\n",
    "\n",
    "# print the merged_df to the console\n",
    "print(merged_df)"
   ]
  },
  {
   "cell_type": "code",
   "execution_count": null,
   "metadata": {},
   "outputs": [],
   "source": []
  },
  {
   "cell_type": "code",
   "execution_count": null,
   "metadata": {},
   "outputs": [],
   "source": []
  },
  {
   "cell_type": "code",
   "execution_count": null,
   "metadata": {},
   "outputs": [],
   "source": [
    "import boto3\n",
    "import json\n",
    "\n",
    "def lambda_handler(event, context):\n",
    "    # create a s3 object\n",
    "    s3 = boto3.client(\"s3\")\n",
    "    \n",
    "    # check if an event is True \n",
    "    if event:\n",
    "        # enter the specific bucket name to the 'bucket' variable\n",
    "        bucket = \"<input bucket name>\"\n",
    "        \n",
    "        # event – AWS Lambda uses this parameter to pass in event data to the handler. \n",
    "        # This parameter is usually of the Python dict type. It can also be list, str, int, float, or NoneType type\n",
    "        text_file_obj = event[\"Records\"][0]\n",
    "        # assign the uploaded text file name to the 'filename' variable \n",
    "        filename = str(text_file_obj['s3']['object']['key'])\n",
    "        \n",
    "        # print the filename \n",
    "        print(\"filename: \", filename)\n",
    "\n",
    "        # create the file object\n",
    "        file_obj = s3.get_object(Bucket = bucket, Key = filename)\n",
    "        \n",
    "        # access the file_obj's body. Invoke the read() function and convert to a str object. \n",
    "        # assign to the variable 'body_str_obj' \n",
    "        body_str_obj = str(file_obj['Body'].read())\n",
    "        \n",
    "        # create a comprehend object\n",
    "        comprehend = boto3.client(service_name=\"comprehend\")\n",
    "        \n",
    "        # call detect_sentiment()\n",
    "        sentiment_response = comprehend.detect_sentiment(Text = body_str_obj, LanguageCode = \"en\")\n",
    "        print(\"sentiment_response: \\n\", sentiment_response)\n",
    "        \n",
    "        # call detect_entities()\n",
    "        entity_response = comprehend.detect_entities(Text = body_str_obj, LanguageCode = \"en\")\n",
    "        print(\"\\n\\nentity_response: \\n\", entity_response)\n",
    "        \n",
    "        # call detect_key_phrases()\n",
    "        key_phases_response = comprehend.detect_key_phrases(Text = body_str_obj, LanguageCode = \"en\") \n",
    "        print(\"\\n\\nkey_phases_response: \\n\", key_phases_response)\n",
    "      \n",
    "        return {\n",
    "            'statusCode' :200,\n",
    "            'body' : json.dumps('Hello from Lambda')\n",
    "        }"
   ]
  }
 ],
 "metadata": {
  "kernelspec": {
   "display_name": "Python 3",
   "language": "python",
   "name": "python3"
  },
  "language_info": {
   "codemirror_mode": {
    "name": "ipython",
    "version": 3
   },
   "file_extension": ".py",
   "mimetype": "text/x-python",
   "name": "python",
   "nbconvert_exporter": "python",
   "pygments_lexer": "ipython3",
   "version": "3.8.2"
  },
  "toc": {
   "base_numbering": 1,
   "nav_menu": {},
   "number_sections": true,
   "sideBar": true,
   "skip_h1_title": false,
   "title_cell": "Table of Contents",
   "title_sidebar": "Contents",
   "toc_cell": false,
   "toc_position": {},
   "toc_section_display": true,
   "toc_window_display": false
  },
  "varInspector": {
   "cols": {
    "lenName": 16,
    "lenType": 16,
    "lenVar": 40
   },
   "kernels_config": {
    "python": {
     "delete_cmd_postfix": "",
     "delete_cmd_prefix": "del ",
     "library": "var_list.py",
     "varRefreshCmd": "print(var_dic_list())"
    },
    "r": {
     "delete_cmd_postfix": ") ",
     "delete_cmd_prefix": "rm(",
     "library": "var_list.r",
     "varRefreshCmd": "cat(var_dic_list()) "
    }
   },
   "types_to_exclude": [
    "module",
    "function",
    "builtin_function_or_method",
    "instance",
    "_Feature"
   ],
   "window_display": false
  }
 },
 "nbformat": 4,
 "nbformat_minor": 4
}
