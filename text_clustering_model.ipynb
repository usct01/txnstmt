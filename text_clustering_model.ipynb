{
 "cells": [
  {
   "cell_type": "markdown",
   "metadata": {
    "heading_collapsed": true
   },
   "source": [
    "### Load Libraries"
   ]
  },
  {
   "cell_type": "code",
   "execution_count": 1,
   "metadata": {
    "ExecuteTime": {
     "end_time": "2020-11-09T05:33:25.288331Z",
     "start_time": "2020-11-09T05:33:24.563821Z"
    },
    "hidden": true
   },
   "outputs": [
    {
     "data": {
      "text/plain": [
       "'/Users/deepakm/mywork/mynlp/txnstmt'"
      ]
     },
     "execution_count": 1,
     "metadata": {},
     "output_type": "execute_result"
    }
   ],
   "source": [
    "import pandas as pd\n",
    "import numpy as np\n",
    "import os\n",
    "os.getcwd()"
   ]
  },
  {
   "cell_type": "markdown",
   "metadata": {
    "heading_collapsed": true
   },
   "source": [
    "### Load the Data"
   ]
  },
  {
   "cell_type": "code",
   "execution_count": 3,
   "metadata": {
    "ExecuteTime": {
     "end_time": "2020-11-09T05:33:28.073535Z",
     "start_time": "2020-11-09T05:33:26.992332Z"
    },
    "hidden": true
   },
   "outputs": [
    {
     "data": {
      "text/html": [
       "<div>\n",
       "<style scoped>\n",
       "    .dataframe tbody tr th:only-of-type {\n",
       "        vertical-align: middle;\n",
       "    }\n",
       "\n",
       "    .dataframe tbody tr th {\n",
       "        vertical-align: top;\n",
       "    }\n",
       "\n",
       "    .dataframe thead th {\n",
       "        text-align: right;\n",
       "    }\n",
       "</style>\n",
       "<table border=\"1\" class=\"dataframe\">\n",
       "  <thead>\n",
       "    <tr style=\"text-align: right;\">\n",
       "      <th></th>\n",
       "      <th>kde_id</th>\n",
       "      <th>id</th>\n",
       "      <th>country</th>\n",
       "      <th>description</th>\n",
       "      <th>transactionDate</th>\n",
       "      <th>transactionAmount</th>\n",
       "      <th>transactionAmountCurrency</th>\n",
       "      <th>bankTransactionFlowType</th>\n",
       "      <th>currentBalanceAmount</th>\n",
       "      <th>currentBalanceCurrency</th>\n",
       "      <th>accountIdentifier</th>\n",
       "      <th>bankIdentifier</th>\n",
       "      <th>amountInFunctionalCurrencyAmount</th>\n",
       "      <th>amountInFunctionalCurrencyCurrency</th>\n",
       "      <th>currentBalanceInFunctionalCurrencyAmount</th>\n",
       "      <th>currentBalanceInFunctionalCurrencyCurrency</th>\n",
       "      <th>bankDataSource</th>\n",
       "    </tr>\n",
       "  </thead>\n",
       "  <tbody>\n",
       "    <tr>\n",
       "      <th>0</th>\n",
       "      <td>10048</td>\n",
       "      <td>1</td>\n",
       "      <td>NL</td>\n",
       "      <td>AUTOMAT S6EE6080 0063 Karte3 27.06.2015 UM 18:...</td>\n",
       "      <td>2015-06-29</td>\n",
       "      <td>-400.00</td>\n",
       "      <td>EUR</td>\n",
       "      <td>OUTFLOW</td>\n",
       "      <td>-6006.540039</td>\n",
       "      <td>EUR</td>\n",
       "      <td>170331</td>\n",
       "      <td>Bawag</td>\n",
       "      <td>-400.00</td>\n",
       "      <td>EUR</td>\n",
       "      <td>-6006.540039</td>\n",
       "      <td>EUR</td>\n",
       "      <td>titanium-db</td>\n",
       "    </tr>\n",
       "    <tr>\n",
       "      <th>1</th>\n",
       "      <td>10048</td>\n",
       "      <td>2</td>\n",
       "      <td>NL</td>\n",
       "      <td>---- 0103619245 / 200003507629 ----Rechnungsnr...</td>\n",
       "      <td>2015-06-29</td>\n",
       "      <td>-38.08</td>\n",
       "      <td>EUR</td>\n",
       "      <td>OUTFLOW</td>\n",
       "      <td>-6406.540039</td>\n",
       "      <td>EUR</td>\n",
       "      <td>170331</td>\n",
       "      <td>Bawag</td>\n",
       "      <td>-38.08</td>\n",
       "      <td>EUR</td>\n",
       "      <td>-6406.540039</td>\n",
       "      <td>EUR</td>\n",
       "      <td>titanium-db</td>\n",
       "    </tr>\n",
       "    <tr>\n",
       "      <th>2</th>\n",
       "      <td>10048</td>\n",
       "      <td>257</td>\n",
       "      <td>NL</td>\n",
       "      <td>150351</td>\n",
       "      <td>2015-06-29</td>\n",
       "      <td>228.64</td>\n",
       "      <td>EUR</td>\n",
       "      <td>INFLOW</td>\n",
       "      <td>-48527.500000</td>\n",
       "      <td>EUR</td>\n",
       "      <td>170511</td>\n",
       "      <td>Bawag</td>\n",
       "      <td>228.64</td>\n",
       "      <td>EUR</td>\n",
       "      <td>-48527.500000</td>\n",
       "      <td>EUR</td>\n",
       "      <td>titanium-db</td>\n",
       "    </tr>\n",
       "    <tr>\n",
       "      <th>3</th>\n",
       "      <td>10048</td>\n",
       "      <td>258</td>\n",
       "      <td>NL</td>\n",
       "      <td>Kundennummer 000000086189, Hutchison Drei Aust...</td>\n",
       "      <td>2015-06-29</td>\n",
       "      <td>-30.22</td>\n",
       "      <td>EUR</td>\n",
       "      <td>OUTFLOW</td>\n",
       "      <td>-48298.859380</td>\n",
       "      <td>EUR</td>\n",
       "      <td>170511</td>\n",
       "      <td>Bawag</td>\n",
       "      <td>-30.22</td>\n",
       "      <td>EUR</td>\n",
       "      <td>-48298.859380</td>\n",
       "      <td>EUR</td>\n",
       "      <td>titanium-db</td>\n",
       "    </tr>\n",
       "    <tr>\n",
       "      <th>4</th>\n",
       "      <td>10048</td>\n",
       "      <td>259</td>\n",
       "      <td>NL</td>\n",
       "      <td>---- 0103619245 / 200003768285 ----Rechnungsnr...</td>\n",
       "      <td>2015-06-29</td>\n",
       "      <td>-34.98</td>\n",
       "      <td>EUR</td>\n",
       "      <td>OUTFLOW</td>\n",
       "      <td>-48329.078130</td>\n",
       "      <td>EUR</td>\n",
       "      <td>170511</td>\n",
       "      <td>Bawag</td>\n",
       "      <td>-34.98</td>\n",
       "      <td>EUR</td>\n",
       "      <td>-48329.078130</td>\n",
       "      <td>EUR</td>\n",
       "      <td>titanium-db</td>\n",
       "    </tr>\n",
       "  </tbody>\n",
       "</table>\n",
       "</div>"
      ],
      "text/plain": [
       "   kde_id   id country                                        description  \\\n",
       "0   10048    1      NL  AUTOMAT S6EE6080 0063 Karte3 27.06.2015 UM 18:...   \n",
       "1   10048    2      NL  ---- 0103619245 / 200003507629 ----Rechnungsnr...   \n",
       "2   10048  257      NL                                           150351     \n",
       "3   10048  258      NL  Kundennummer 000000086189, Hutchison Drei Aust...   \n",
       "4   10048  259      NL  ---- 0103619245 / 200003768285 ----Rechnungsnr...   \n",
       "\n",
       "  transactionDate  transactionAmount transactionAmountCurrency  \\\n",
       "0      2015-06-29            -400.00                       EUR   \n",
       "1      2015-06-29             -38.08                       EUR   \n",
       "2      2015-06-29             228.64                       EUR   \n",
       "3      2015-06-29             -30.22                       EUR   \n",
       "4      2015-06-29             -34.98                       EUR   \n",
       "\n",
       "  bankTransactionFlowType  currentBalanceAmount currentBalanceCurrency  \\\n",
       "0                 OUTFLOW          -6006.540039                    EUR   \n",
       "1                 OUTFLOW          -6406.540039                    EUR   \n",
       "2                  INFLOW         -48527.500000                    EUR   \n",
       "3                 OUTFLOW         -48298.859380                    EUR   \n",
       "4                 OUTFLOW         -48329.078130                    EUR   \n",
       "\n",
       "   accountIdentifier bankIdentifier  amountInFunctionalCurrencyAmount  \\\n",
       "0             170331          Bawag                           -400.00   \n",
       "1             170331          Bawag                            -38.08   \n",
       "2             170511          Bawag                            228.64   \n",
       "3             170511          Bawag                            -30.22   \n",
       "4             170511          Bawag                            -34.98   \n",
       "\n",
       "  amountInFunctionalCurrencyCurrency  \\\n",
       "0                                EUR   \n",
       "1                                EUR   \n",
       "2                                EUR   \n",
       "3                                EUR   \n",
       "4                                EUR   \n",
       "\n",
       "   currentBalanceInFunctionalCurrencyAmount  \\\n",
       "0                              -6006.540039   \n",
       "1                              -6406.540039   \n",
       "2                             -48527.500000   \n",
       "3                             -48298.859380   \n",
       "4                             -48329.078130   \n",
       "\n",
       "  currentBalanceInFunctionalCurrencyCurrency bankDataSource  \n",
       "0                                        EUR    titanium-db  \n",
       "1                                        EUR    titanium-db  \n",
       "2                                        EUR    titanium-db  \n",
       "3                                        EUR    titanium-db  \n",
       "4                                        EUR    titanium-db  "
      ]
     },
     "execution_count": 3,
     "metadata": {},
     "output_type": "execute_result"
    }
   ],
   "source": [
    "dtxn=pd.read_csv('flat_transactions.csv')\n",
    "dtxn.head()"
   ]
  },
  {
   "cell_type": "code",
   "execution_count": 4,
   "metadata": {
    "ExecuteTime": {
     "end_time": "2020-11-09T05:33:35.041515Z",
     "start_time": "2020-11-09T05:33:34.886287Z"
    },
    "hidden": true
   },
   "outputs": [],
   "source": [
    "dtoutflow=dtxn.loc[dtxn.bankTransactionFlowType=='OUTFLOW']\n",
    "dtinflow=dtxn.loc[dtxn.bankTransactionFlowType=='INFLOW']"
   ]
  },
  {
   "cell_type": "code",
   "execution_count": 5,
   "metadata": {
    "hidden": true
   },
   "outputs": [
    {
     "data": {
      "text/html": [
       "<div>\n",
       "<style scoped>\n",
       "    .dataframe tbody tr th:only-of-type {\n",
       "        vertical-align: middle;\n",
       "    }\n",
       "\n",
       "    .dataframe tbody tr th {\n",
       "        vertical-align: top;\n",
       "    }\n",
       "\n",
       "    .dataframe thead th {\n",
       "        text-align: right;\n",
       "    }\n",
       "</style>\n",
       "<table border=\"1\" class=\"dataframe\">\n",
       "  <thead>\n",
       "    <tr style=\"text-align: right;\">\n",
       "      <th></th>\n",
       "      <th>kde_id</th>\n",
       "      <th>id</th>\n",
       "      <th>country</th>\n",
       "      <th>description</th>\n",
       "      <th>transactionDate</th>\n",
       "      <th>transactionAmount</th>\n",
       "      <th>transactionAmountCurrency</th>\n",
       "      <th>bankTransactionFlowType</th>\n",
       "      <th>currentBalanceAmount</th>\n",
       "      <th>currentBalanceCurrency</th>\n",
       "      <th>accountIdentifier</th>\n",
       "      <th>bankIdentifier</th>\n",
       "      <th>amountInFunctionalCurrencyAmount</th>\n",
       "      <th>amountInFunctionalCurrencyCurrency</th>\n",
       "      <th>currentBalanceInFunctionalCurrencyAmount</th>\n",
       "      <th>currentBalanceInFunctionalCurrencyCurrency</th>\n",
       "      <th>bankDataSource</th>\n",
       "    </tr>\n",
       "  </thead>\n",
       "  <tbody>\n",
       "    <tr>\n",
       "      <th>0</th>\n",
       "      <td>10048</td>\n",
       "      <td>1</td>\n",
       "      <td>NL</td>\n",
       "      <td>AUTOMAT S6EE6080 0063 Karte3 27.06.2015 UM 18:...</td>\n",
       "      <td>2015-06-29</td>\n",
       "      <td>-400.00</td>\n",
       "      <td>EUR</td>\n",
       "      <td>OUTFLOW</td>\n",
       "      <td>-6006.540039</td>\n",
       "      <td>EUR</td>\n",
       "      <td>170331</td>\n",
       "      <td>Bawag</td>\n",
       "      <td>-400.00</td>\n",
       "      <td>EUR</td>\n",
       "      <td>-6006.540039</td>\n",
       "      <td>EUR</td>\n",
       "      <td>titanium-db</td>\n",
       "    </tr>\n",
       "    <tr>\n",
       "      <th>1</th>\n",
       "      <td>10048</td>\n",
       "      <td>2</td>\n",
       "      <td>NL</td>\n",
       "      <td>---- 0103619245 / 200003507629 ----Rechnungsnr...</td>\n",
       "      <td>2015-06-29</td>\n",
       "      <td>-38.08</td>\n",
       "      <td>EUR</td>\n",
       "      <td>OUTFLOW</td>\n",
       "      <td>-6406.540039</td>\n",
       "      <td>EUR</td>\n",
       "      <td>170331</td>\n",
       "      <td>Bawag</td>\n",
       "      <td>-38.08</td>\n",
       "      <td>EUR</td>\n",
       "      <td>-6406.540039</td>\n",
       "      <td>EUR</td>\n",
       "      <td>titanium-db</td>\n",
       "    </tr>\n",
       "    <tr>\n",
       "      <th>3</th>\n",
       "      <td>10048</td>\n",
       "      <td>258</td>\n",
       "      <td>NL</td>\n",
       "      <td>Kundennummer 000000086189, Hutchison Drei Aust...</td>\n",
       "      <td>2015-06-29</td>\n",
       "      <td>-30.22</td>\n",
       "      <td>EUR</td>\n",
       "      <td>OUTFLOW</td>\n",
       "      <td>-48298.859380</td>\n",
       "      <td>EUR</td>\n",
       "      <td>170511</td>\n",
       "      <td>Bawag</td>\n",
       "      <td>-30.22</td>\n",
       "      <td>EUR</td>\n",
       "      <td>-48298.859380</td>\n",
       "      <td>EUR</td>\n",
       "      <td>titanium-db</td>\n",
       "    </tr>\n",
       "    <tr>\n",
       "      <th>4</th>\n",
       "      <td>10048</td>\n",
       "      <td>259</td>\n",
       "      <td>NL</td>\n",
       "      <td>---- 0103619245 / 200003768285 ----Rechnungsnr...</td>\n",
       "      <td>2015-06-29</td>\n",
       "      <td>-34.98</td>\n",
       "      <td>EUR</td>\n",
       "      <td>OUTFLOW</td>\n",
       "      <td>-48329.078130</td>\n",
       "      <td>EUR</td>\n",
       "      <td>170511</td>\n",
       "      <td>Bawag</td>\n",
       "      <td>-34.98</td>\n",
       "      <td>EUR</td>\n",
       "      <td>-48329.078130</td>\n",
       "      <td>EUR</td>\n",
       "      <td>titanium-db</td>\n",
       "    </tr>\n",
       "    <tr>\n",
       "      <th>11</th>\n",
       "      <td>10048</td>\n",
       "      <td>266</td>\n",
       "      <td>NL</td>\n",
       "      <td>Kd.Nr:234545 Re.Nr:151119</td>\n",
       "      <td>2015-06-30</td>\n",
       "      <td>-378.42</td>\n",
       "      <td>EUR</td>\n",
       "      <td>OUTFLOW</td>\n",
       "      <td>-47729.261720</td>\n",
       "      <td>EUR</td>\n",
       "      <td>170511</td>\n",
       "      <td>Bawag</td>\n",
       "      <td>-378.42</td>\n",
       "      <td>EUR</td>\n",
       "      <td>-47729.261720</td>\n",
       "      <td>EUR</td>\n",
       "      <td>titanium-db</td>\n",
       "    </tr>\n",
       "  </tbody>\n",
       "</table>\n",
       "</div>"
      ],
      "text/plain": [
       "    kde_id   id country                                        description  \\\n",
       "0    10048    1      NL  AUTOMAT S6EE6080 0063 Karte3 27.06.2015 UM 18:...   \n",
       "1    10048    2      NL  ---- 0103619245 / 200003507629 ----Rechnungsnr...   \n",
       "3    10048  258      NL  Kundennummer 000000086189, Hutchison Drei Aust...   \n",
       "4    10048  259      NL  ---- 0103619245 / 200003768285 ----Rechnungsnr...   \n",
       "11   10048  266      NL                        Kd.Nr:234545 Re.Nr:151119     \n",
       "\n",
       "   transactionDate  transactionAmount transactionAmountCurrency  \\\n",
       "0       2015-06-29            -400.00                       EUR   \n",
       "1       2015-06-29             -38.08                       EUR   \n",
       "3       2015-06-29             -30.22                       EUR   \n",
       "4       2015-06-29             -34.98                       EUR   \n",
       "11      2015-06-30            -378.42                       EUR   \n",
       "\n",
       "   bankTransactionFlowType  currentBalanceAmount currentBalanceCurrency  \\\n",
       "0                  OUTFLOW          -6006.540039                    EUR   \n",
       "1                  OUTFLOW          -6406.540039                    EUR   \n",
       "3                  OUTFLOW         -48298.859380                    EUR   \n",
       "4                  OUTFLOW         -48329.078130                    EUR   \n",
       "11                 OUTFLOW         -47729.261720                    EUR   \n",
       "\n",
       "    accountIdentifier bankIdentifier  amountInFunctionalCurrencyAmount  \\\n",
       "0              170331          Bawag                           -400.00   \n",
       "1              170331          Bawag                            -38.08   \n",
       "3              170511          Bawag                            -30.22   \n",
       "4              170511          Bawag                            -34.98   \n",
       "11             170511          Bawag                           -378.42   \n",
       "\n",
       "   amountInFunctionalCurrencyCurrency  \\\n",
       "0                                 EUR   \n",
       "1                                 EUR   \n",
       "3                                 EUR   \n",
       "4                                 EUR   \n",
       "11                                EUR   \n",
       "\n",
       "    currentBalanceInFunctionalCurrencyAmount  \\\n",
       "0                               -6006.540039   \n",
       "1                               -6406.540039   \n",
       "3                              -48298.859380   \n",
       "4                              -48329.078130   \n",
       "11                             -47729.261720   \n",
       "\n",
       "   currentBalanceInFunctionalCurrencyCurrency bankDataSource  \n",
       "0                                         EUR    titanium-db  \n",
       "1                                         EUR    titanium-db  \n",
       "3                                         EUR    titanium-db  \n",
       "4                                         EUR    titanium-db  \n",
       "11                                        EUR    titanium-db  "
      ]
     },
     "execution_count": 5,
     "metadata": {},
     "output_type": "execute_result"
    }
   ],
   "source": [
    "dtoutflow.head()"
   ]
  },
  {
   "cell_type": "code",
   "execution_count": null,
   "metadata": {
    "hidden": true
   },
   "outputs": [],
   "source": []
  },
  {
   "cell_type": "markdown",
   "metadata": {
    "heading_collapsed": true
   },
   "source": [
    "### Text Data as a List for Embeddings"
   ]
  },
  {
   "cell_type": "code",
   "execution_count": 6,
   "metadata": {
    "ExecuteTime": {
     "end_time": "2020-11-09T05:33:43.381350Z",
     "start_time": "2020-11-09T05:33:43.327032Z"
    },
    "hidden": true
   },
   "outputs": [],
   "source": [
    "txtlst=dtxn.loc[dtxn.bankTransactionFlowType=='OUTFLOW','description'].tolist()\n",
    "# txtlst=dtxn.loc[dtxn.bankTransactionFlowType=='INFLOW','description'].tolist()"
   ]
  },
  {
   "cell_type": "code",
   "execution_count": 7,
   "metadata": {
    "ExecuteTime": {
     "end_time": "2020-11-09T05:33:44.469150Z",
     "start_time": "2020-11-09T05:33:44.462237Z"
    },
    "hidden": true
   },
   "outputs": [
    {
     "name": "stdout",
     "output_type": "stream",
     "text": [
      "Number of Text Records:  294120\n"
     ]
    }
   ],
   "source": [
    "print(\"Number of Text Records: \",len(txtlst))"
   ]
  },
  {
   "cell_type": "code",
   "execution_count": 8,
   "metadata": {
    "ExecuteTime": {
     "end_time": "2020-11-09T05:40:21.269289Z",
     "start_time": "2020-11-09T05:40:21.258966Z"
    },
    "hidden": true
   },
   "outputs": [],
   "source": [
    "# For Testing take 1,000 records\n",
    "txtlst=txtlst[:1000]"
   ]
  },
  {
   "cell_type": "markdown",
   "metadata": {
    "heading_collapsed": true
   },
   "source": [
    "### Vectorization of text\n",
    "Three different methods for Vectorization"
   ]
  },
  {
   "cell_type": "markdown",
   "metadata": {
    "hidden": true
   },
   "source": [
    "#### TFIDF Vectorization"
   ]
  },
  {
   "cell_type": "code",
   "execution_count": 9,
   "metadata": {
    "hidden": true
   },
   "outputs": [],
   "source": [
    "from sklearn.feature_extraction.text import TfidfVectorizer\n",
    "n_features = 1000\n",
    "vectorizer = TfidfVectorizer(max_df=0.5, max_features=n_features,min_df=2, stop_words='english')\n",
    "embeddings = vectorizer.fit_transform(txtlst)"
   ]
  },
  {
   "cell_type": "markdown",
   "metadata": {
    "hidden": true
   },
   "source": [
    "#### Google's Universal Sentence Encoder Embeddings"
   ]
  },
  {
   "cell_type": "code",
   "execution_count": null,
   "metadata": {},
   "outputs": [],
   "source": [
    "# !pip install tensorflow_hub"
   ]
  },
  {
   "cell_type": "code",
   "execution_count": 12,
   "metadata": {
    "hidden": true
   },
   "outputs": [],
   "source": [
    "import tensorflow_hub as hub\n",
    "embed = hub.load(\"https://tfhub.dev/google/universal-sentence-encoder-large/5\")\n",
    "# embed=hub.load(\"pretrained_models/universal-sentence-encoder_4\")\n",
    "embeddings=embed(txtlst)"
   ]
  },
  {
   "cell_type": "markdown",
   "metadata": {
    "hidden": true
   },
   "source": [
    "#### BERT Model Embeddings\n",
    "List of Available pre-trained models\n",
    "https://docs.google.com/spreadsheets/d/14QplCdTCDwEmTqrn1LH4yrbKvdogK4oQvYO1K1aPR5M/edit#gid=0"
   ]
  },
  {
   "cell_type": "code",
   "execution_count": 8,
   "metadata": {
    "ExecuteTime": {
     "end_time": "2020-11-09T05:41:14.971551Z",
     "start_time": "2020-11-09T05:40:25.095130Z"
    },
    "hidden": true
   },
   "outputs": [
    {
     "data": {
      "application/vnd.jupyter.widget-view+json": {
       "model_id": "50b8c730d4284318aae776eef3d58270",
       "version_major": 2,
       "version_minor": 0
      },
      "text/plain": [
       "HBox(children=(HTML(value='Batches'), FloatProgress(value=0.0, max=32.0), HTML(value='')))"
      ]
     },
     "metadata": {},
     "output_type": "display_data"
    },
    {
     "name": "stdout",
     "output_type": "stream",
     "text": [
      "\n"
     ]
    }
   ],
   "source": [
    "from sentence_transformers import SentenceTransformer\n",
    "model = SentenceTransformer('distilbert-base-nli-stsb-mean-tokens')\n",
    "embeddings = model.encode(txtlst, show_progress_bar=True)"
   ]
  },
  {
   "cell_type": "code",
   "execution_count": 9,
   "metadata": {
    "ExecuteTime": {
     "end_time": "2020-11-09T05:41:18.106291Z",
     "start_time": "2020-11-09T05:41:18.082037Z"
    },
    "hidden": true
   },
   "outputs": [
    {
     "data": {
      "text/plain": [
       "(1000, 768)"
      ]
     },
     "execution_count": 9,
     "metadata": {},
     "output_type": "execute_result"
    }
   ],
   "source": [
    "embeddings.shape"
   ]
  },
  {
   "cell_type": "markdown",
   "metadata": {
    "heading_collapsed": true
   },
   "source": [
    "### Reduce the dimensions of Embeddings \n",
    "Results in Better Clustering for HDBSCAN"
   ]
  },
  {
   "cell_type": "code",
   "execution_count": 10,
   "metadata": {
    "ExecuteTime": {
     "end_time": "2020-11-09T05:41:46.488577Z",
     "start_time": "2020-11-09T05:41:24.800015Z"
    },
    "hidden": true
   },
   "outputs": [],
   "source": [
    "from umap import UMAP\n",
    "embeddings_reduced = UMAP(n_neighbors=10,n_components=10, metric='cosine').fit_transform(embeddings)"
   ]
  },
  {
   "cell_type": "code",
   "execution_count": 11,
   "metadata": {
    "ExecuteTime": {
     "end_time": "2020-11-09T05:42:12.229388Z",
     "start_time": "2020-11-09T05:42:12.215986Z"
    },
    "hidden": true
   },
   "outputs": [
    {
     "data": {
      "text/plain": [
       "(1000, 10)"
      ]
     },
     "execution_count": 11,
     "metadata": {},
     "output_type": "execute_result"
    }
   ],
   "source": [
    "embeddings_reduced.shape"
   ]
  },
  {
   "cell_type": "markdown",
   "metadata": {
    "heading_collapsed": true
   },
   "source": [
    "### Normalize the Embeddings"
   ]
  },
  {
   "cell_type": "code",
   "execution_count": 12,
   "metadata": {
    "ExecuteTime": {
     "end_time": "2020-11-09T05:42:19.557097Z",
     "start_time": "2020-11-09T05:42:19.541872Z"
    },
    "hidden": true,
    "scrolled": true
   },
   "outputs": [
    {
     "name": "stdout",
     "output_type": "stream",
     "text": [
      "Shape of the Embeddigns:  (1000, 10)\n"
     ]
    },
    {
     "data": {
      "text/plain": [
       "array([[ 0.505014  ,  0.33204058,  0.2743354 , ...,  0.43222037,\n",
       "         0.02396787,  0.16670649],\n",
       "       [ 0.4405385 ,  0.4219402 ,  0.29253492, ...,  0.38031182,\n",
       "         0.34338686,  0.28933713],\n",
       "       [ 0.40565377,  0.35750765,  0.3374276 , ...,  0.31277385,\n",
       "         0.25131115,  0.31434304],\n",
       "       ...,\n",
       "       [-0.21629553,  0.91166437,  0.06125591, ...,  0.05537823,\n",
       "         0.05344417,  0.04802498],\n",
       "       [-0.18295628,  0.10058299,  0.84984106, ...,  0.14855747,\n",
       "         0.1737281 ,  0.18422018],\n",
       "       [-0.18589461,  0.10145242,  0.8501376 , ...,  0.1503816 ,\n",
       "         0.17330368,  0.18461928]], dtype=float32)"
      ]
     },
     "execution_count": 12,
     "metadata": {},
     "output_type": "execute_result"
    }
   ],
   "source": [
    "from sklearn.preprocessing import Normalizer\n",
    "normalizer = Normalizer(copy=False)\n",
    "embeddings_reduced = normalizer.fit_transform(embeddings_reduced)\n",
    "print(\"Shape of the Embeddigns: \",embeddings_reduced.shape)\n",
    "embeddings_reduced"
   ]
  },
  {
   "cell_type": "code",
   "execution_count": null,
   "metadata": {
    "hidden": true
   },
   "outputs": [],
   "source": [
    "# embeddings = normalizer.fit_transform(embeddings)\n",
    "# print(\"Shape of the Embeddigns: \",embeddings.shape)\n",
    "# embeddings"
   ]
  },
  {
   "cell_type": "markdown",
   "metadata": {
    "heading_collapsed": true
   },
   "source": [
    "### Clustering using Embeddings\n",
    "Methods: HDBSCAN and KMeans"
   ]
  },
  {
   "cell_type": "markdown",
   "metadata": {
    "hidden": true
   },
   "source": [
    "Cluster on the Embeddings or Reduced Embeddings"
   ]
  },
  {
   "cell_type": "code",
   "execution_count": 13,
   "metadata": {
    "ExecuteTime": {
     "end_time": "2020-11-09T05:43:36.439122Z",
     "start_time": "2020-11-09T05:43:36.431735Z"
    },
    "hidden": true
   },
   "outputs": [
    {
     "name": "stdout",
     "output_type": "stream",
     "text": [
      "Shape of Input:  (1000, 10)\n"
     ]
    }
   ],
   "source": [
    "# Cluster on the Full Embeddings\n",
    "# X = embeddings\n",
    "\n",
    "# Cluster on the Reduced Embeddings\n",
    "X = embeddings_reduced\n",
    "\n",
    "print(\"Shape of Input: \",X.shape)"
   ]
  },
  {
   "cell_type": "markdown",
   "metadata": {
    "hidden": true
   },
   "source": [
    "#### HDBSCAN Algorithm"
   ]
  },
  {
   "cell_type": "code",
   "execution_count": 14,
   "metadata": {
    "ExecuteTime": {
     "end_time": "2020-11-09T05:43:38.991151Z",
     "start_time": "2020-11-09T05:43:38.882508Z"
    },
    "hidden": true
   },
   "outputs": [
    {
     "name": "stdout",
     "output_type": "stream",
     "text": [
      "Number of Clusters found:  42\n"
     ]
    }
   ],
   "source": [
    "from hdbscan import HDBSCAN\n",
    "clusterer = HDBSCAN(min_cluster_size=10, metric='euclidean', cluster_selection_method='eom').fit(X)\n",
    "\n",
    "cluster_assignment = clusterer.labels_\n",
    "\n",
    "num_clus=clusterer.labels_.max()\n",
    "\n",
    "print(\"Number of Clusters found: \",num_clus)\n",
    "# print(\"Cluster Probabilities: \",clusterer.probabilities_)"
   ]
  },
  {
   "cell_type": "code",
   "execution_count": 15,
   "metadata": {
    "ExecuteTime": {
     "end_time": "2020-11-09T05:43:42.269207Z",
     "start_time": "2020-11-09T05:43:42.260364Z"
    },
    "hidden": true
   },
   "outputs": [
    {
     "data": {
      "text/plain": [
       "(1000,)"
      ]
     },
     "execution_count": 15,
     "metadata": {},
     "output_type": "execute_result"
    }
   ],
   "source": [
    "cluster_assignment.shape"
   ]
  },
  {
   "cell_type": "markdown",
   "metadata": {
    "heading_collapsed": true,
    "hidden": true
   },
   "source": [
    "#### KMeans Clustering"
   ]
  },
  {
   "cell_type": "markdown",
   "metadata": {
    "hidden": true
   },
   "source": [
    "Find Optimal Number of Cluster"
   ]
  },
  {
   "cell_type": "code",
   "execution_count": null,
   "metadata": {
    "hidden": true
   },
   "outputs": [],
   "source": [
    "from sklearn.cluster import KMeans\n",
    "from sklearn.metrics import silhouette_score\n",
    "\n",
    "#METHOD 1: Elbow curve based on SSE \n",
    "\n",
    "sse = {}\n",
    "slh={}\n",
    "for k in range(2, 30):\n",
    "    kmeans = KMeans(n_clusters=k, max_iter=100).fit(X)\n",
    "    sse[k] = kmeans.inertia_ \n",
    "    label  = kmeans.labels_\n",
    "    slh[k] = silhouette_score(X, label, metric='euclidean')\n",
    "#PLOT THE GRAPHS\n",
    "import matplotlib.pyplot as plt\n",
    "plt.figure(figsize=(15, 5))\n",
    "plt.plot(list(sse.keys()), list(sse.values()))\n",
    "plt.xlabel(\"Number of cluster\")\n",
    "plt.ylabel(\"SSE\")\n",
    "# plt.show()\n",
    "#METHOD 2: Using  silhouette score: higher the better\n",
    "plt.figure(figsize=(15, 5))\n",
    "plt.plot(list(slh.keys()), list(slh.values()))\n",
    "plt.xlabel(\"Number of cluster\")\n",
    "plt.ylabel(\"Silhouette Score\")\n",
    "# plt.show()"
   ]
  },
  {
   "cell_type": "code",
   "execution_count": null,
   "metadata": {
    "hidden": true
   },
   "outputs": [],
   "source": [
    "num_clus=max(slh,key=slh.get)\n",
    "print(\"Optimal Cluster for KMeans: \",num_clus)\n",
    "\n",
    "# IF NUMBER OF CLUSTERS ARE VERY HIGH LIMIT IT TO 20 CLUSTERS\n",
    "num_clus = min(20,num_clus)\n",
    "print(\"Number of Clusters for KMeans: \",num_clus)"
   ]
  },
  {
   "cell_type": "markdown",
   "metadata": {
    "hidden": true
   },
   "source": [
    "Cluster on the Embeddings or Reduced Embeddings"
   ]
  },
  {
   "cell_type": "code",
   "execution_count": null,
   "metadata": {
    "hidden": true
   },
   "outputs": [],
   "source": [
    "num_clus = num_clus\n",
    "# num_clus=20\n",
    "clusterer = KMeans(n_clusters=num_clus, init='k-means++', max_iter=100, n_init=2,random_state=123)\n",
    "clusterer.fit(X)\n",
    "cluster_assignment = clusterer.labels_"
   ]
  },
  {
   "cell_type": "code",
   "execution_count": null,
   "metadata": {
    "hidden": true
   },
   "outputs": [],
   "source": [
    "cluster_assignment.shape"
   ]
  },
  {
   "cell_type": "code",
   "execution_count": null,
   "metadata": {
    "hidden": true
   },
   "outputs": [],
   "source": []
  },
  {
   "cell_type": "code",
   "execution_count": null,
   "metadata": {
    "hidden": true
   },
   "outputs": [],
   "source": []
  },
  {
   "cell_type": "markdown",
   "metadata": {
    "heading_collapsed": true
   },
   "source": [
    "### GET TOP N WORDS BY CLUSTER\n",
    "The text is aggregated by cluster and then tfidf weighted most common words are found for each cluster"
   ]
  },
  {
   "cell_type": "code",
   "execution_count": 16,
   "metadata": {
    "ExecuteTime": {
     "end_time": "2020-11-09T05:43:59.925101Z",
     "start_time": "2020-11-09T05:43:59.800586Z"
    },
    "hidden": true
   },
   "outputs": [
    {
     "name": "stdout",
     "output_type": "stream",
     "text": [
      "                                                 Doc  Clust  Doc_ID\n",
      "0  AUTOMAT S6EE6080 0063 Karte3 27.06.2015 UM 18:...     17       0\n",
      "1  ---- 0103619245 / 200003507629 ----Rechnungsnr...     25       1\n",
      "2  Kundennummer 000000086189, Hutchison Drei Aust...     33       2\n",
      "3  ---- 0103619245 / 200003768285 ----Rechnungsnr...     25       3\n",
      "4                        Kd.Nr:234545 Re.Nr:151119       30       4\n",
      "[('hrung', 0.8415846231219198), ('entgelt', 0.6914971733648756), ('kontof', 0.6882596898665907), ('gen', 0.2846960320449817), ('manipulation', 0.2846960320449817), ('von', 0.2846960320449817), ('nichtdurchf', 0.2846960320449817), ('auftr', 0.2846960320449817), ('52834947', 0.0), ('52829560', 0.0)]\n"
     ]
    },
    {
     "name": "stderr",
     "output_type": "stream",
     "text": [
      "/Users/deepak/opt/anaconda3/envs/mynlp/lib/python3.7/site-packages/ipykernel_launcher.py:15: RuntimeWarning: invalid value encountered in true_divide\n",
      "  from ipykernel import kernelapp as app\n"
     ]
    },
    {
     "data": {
      "text/plain": [
       "{-1: ['x358853',\n",
       "  'mbs',\n",
       "  'bawag',\n",
       "  'banking',\n",
       "  'tze',\n",
       "  'ums',\n",
       "  'inkl',\n",
       "  '000003',\n",
       "  'teilnehmer',\n",
       "  'vorschreibung'],\n",
       " 0: ['zweitwohnsitzabg',\n",
       "  '52829560',\n",
       "  '52871620',\n",
       "  '52871619',\n",
       "  '52871617',\n",
       "  '52871603',\n",
       "  '52871602',\n",
       "  '52871601',\n",
       "  '52866203',\n",
       "  '52834963'],\n",
       " 1: ['hrung',\n",
       "  'entgelt',\n",
       "  'kontof',\n",
       "  'gen',\n",
       "  'manipulation',\n",
       "  'von',\n",
       "  'nichtdurchf',\n",
       "  'auftr',\n",
       "  '52834947',\n",
       "  '52829560'],\n",
       " 2: ['f006090',\n",
       "  'zweitwohnsitzabg',\n",
       "  '52834945',\n",
       "  '52871620',\n",
       "  '52871619',\n",
       "  '52871617',\n",
       "  '52871603',\n",
       "  '52871602',\n",
       "  '52871601',\n",
       "  '52866203'],\n",
       " 3: ['x731422',\n",
       "  'x789056',\n",
       "  'x041426',\n",
       "  'zweitwohnsitzabg',\n",
       "  '52834963',\n",
       "  '52834945',\n",
       "  '52834946',\n",
       "  '52834947',\n",
       "  '52834961',\n",
       "  '52834962'],\n",
       " 4: ['x046056',\n",
       "  'x036200',\n",
       "  'x635287',\n",
       "  'zweitwohnsitzabg',\n",
       "  '52834963',\n",
       "  '52834946',\n",
       "  '52834947',\n",
       "  '52834961',\n",
       "  '52834962',\n",
       "  '52866203'],\n",
       " 5: ['x358806',\n",
       "  'i780650',\n",
       "  'zweitwohnsitzabg',\n",
       "  '52866203',\n",
       "  '52834946',\n",
       "  '52834947',\n",
       "  '52834961',\n",
       "  '52834962',\n",
       "  '52834963',\n",
       "  '52871601'],\n",
       " 6: ['x342284',\n",
       "  'zweitwohnsitzabg',\n",
       "  '52829560',\n",
       "  '52871620',\n",
       "  '52871619',\n",
       "  '52871617',\n",
       "  '52871603',\n",
       "  '52871602',\n",
       "  '52871601',\n",
       "  '52866203'],\n",
       " 7: ['x254963',\n",
       "  'zweitwohnsitzabg',\n",
       "  '52829560',\n",
       "  '52871620',\n",
       "  '52871619',\n",
       "  '52871617',\n",
       "  '52871603',\n",
       "  '52871602',\n",
       "  '52871601',\n",
       "  '52866203'],\n",
       " 8: ['2206392',\n",
       "  '4022844',\n",
       "  'gas',\n",
       "  '1021692',\n",
       "  'feldweg',\n",
       "  '8605',\n",
       "  'anlage',\n",
       "  '50827k',\n",
       "  '52834946',\n",
       "  '52871617'],\n",
       " 9: ['u361349',\n",
       "  '52829560',\n",
       "  '52871620',\n",
       "  '52871619',\n",
       "  '52871617',\n",
       "  '52871603',\n",
       "  '52871602',\n",
       "  '52871601',\n",
       "  '52866203',\n",
       "  '52834963'],\n",
       " 10: ['bank',\n",
       "  'gmbh',\n",
       "  'erste',\n",
       "  'leasingprotect',\n",
       "  'sparkassen',\n",
       "  'asing',\n",
       "  'pr',\n",
       "  'tr',\n",
       "  'le',\n",
       "  'nr'],\n",
       " 11: ['201',\n",
       "  'pr',\n",
       "  'erste',\n",
       "  'sparkassen',\n",
       "  'leasingprotect',\n",
       "  'asing',\n",
       "  'tr',\n",
       "  'le',\n",
       "  'gmbh',\n",
       "  'pol'],\n",
       " 12: ['dank',\n",
       "  'ring',\n",
       "  'herzlichen',\n",
       "  'mobile',\n",
       "  'ihr',\n",
       "  'tele',\n",
       "  'team',\n",
       "  'rechnung',\n",
       "  'vom',\n",
       "  '08'],\n",
       " 13: ['kapitaltarife',\n",
       "  '0008327290',\n",
       "  'pol',\n",
       "  '2016',\n",
       "  '2015',\n",
       "  '1330851697',\n",
       "  '1325194106',\n",
       "  '1296095977',\n",
       "  '1290530701',\n",
       "  '1301574668'],\n",
       " 14: ['berweisung',\n",
       "  'auf',\n",
       "  'at920100000005504044',\n",
       "  'at391200000696216001',\n",
       "  'at513200006300089219',\n",
       "  'at783302700001900661',\n",
       "  'at851200023010094300',\n",
       "  'at161200000696212729',\n",
       "  'at221200050266084500',\n",
       "  'at251400001010060229'],\n",
       " 15: ['x328278',\n",
       "  'x327832',\n",
       "  'zweitwohnsitzabg',\n",
       "  '52834963',\n",
       "  '52834946',\n",
       "  '52834947',\n",
       "  '52834961',\n",
       "  '52834962',\n",
       "  '52866203',\n",
       "  '52829560'],\n",
       " 16: ['u361350',\n",
       "  'zweitwohnsitzabg',\n",
       "  '52829560',\n",
       "  '52871620',\n",
       "  '52871619',\n",
       "  '52871617',\n",
       "  '52871603',\n",
       "  '52871602',\n",
       "  '52871601',\n",
       "  '52866203'],\n",
       " 17: ['automat',\n",
       "  'um',\n",
       "  'karte3',\n",
       "  '0063',\n",
       "  's6ee6080',\n",
       "  'kleine',\n",
       "  'kdnr',\n",
       "  '4524221',\n",
       "  'zeitung',\n",
       "  'karte2'],\n",
       " 18: ['03',\n",
       "  '7111',\n",
       "  '171',\n",
       "  '1964',\n",
       "  'cobanoglu',\n",
       "  '7043',\n",
       "  'ulkadi',\n",
       "  'unfallversicherung',\n",
       "  'uv',\n",
       "  'abd'],\n",
       " 19: ['x038079',\n",
       "  'x041682',\n",
       "  'zweitwohnsitzabg',\n",
       "  '52871620',\n",
       "  '52871619',\n",
       "  '52871617',\n",
       "  '52871603',\n",
       "  '52871602',\n",
       "  '52871601',\n",
       "  '52866203'],\n",
       " 20: ['anlage',\n",
       "  'strom',\n",
       "  '4001748',\n",
       "  '2028913',\n",
       "  '1021692',\n",
       "  '392859',\n",
       "  '9620',\n",
       "  '82515877',\n",
       "  'sonnleitn',\n",
       "  '2193633'],\n",
       " 21: ['271006',\n",
       "  '1087',\n",
       "  'intern',\n",
       "  'kunr',\n",
       "  'renr',\n",
       "  '13452',\n",
       "  '15857',\n",
       "  '14253',\n",
       "  '14517',\n",
       "  '13987'],\n",
       " 22: ['entgelt',\n",
       "  'buchungen',\n",
       "  'stk',\n",
       "  'automatisierte',\n",
       "  'rahmenbereitstellung',\n",
       "  'bearbeitete',\n",
       "  'nd',\n",
       "  'kaufpreis',\n",
       "  'scheckauszahlung',\n",
       "  'abzgl'],\n",
       " 23: ['sky',\n",
       "  '4954481',\n",
       "  'info',\n",
       "  'mehr',\n",
       "  'konto',\n",
       "  '1120',\n",
       "  'teilbetrag',\n",
       "  '220002364238',\n",
       "  'netto',\n",
       "  'abo'],\n",
       " 24: ['porto',\n",
       "  'stk',\n",
       "  '17',\n",
       "  '13',\n",
       "  '12',\n",
       "  '52871619',\n",
       "  '52871620',\n",
       "  '52871617',\n",
       "  '52871603',\n",
       "  '52834947'],\n",
       " 25: ['0103619245',\n",
       "  'rechnungsnr',\n",
       "  '200003768285',\n",
       "  '200003507629',\n",
       "  '295128878',\n",
       "  '295120002',\n",
       "  '821',\n",
       "  '460',\n",
       "  '295130137',\n",
       "  '796'],\n",
       " 26: ['02006',\n",
       "  '108882',\n",
       "  '3740',\n",
       "  'e1000096812',\n",
       "  'e1000037272',\n",
       "  'e1000042790',\n",
       "  'e1000048256',\n",
       "  'e1000055386',\n",
       "  'e1000060801',\n",
       "  'e1000064461'],\n",
       " 27: ['stk',\n",
       "  'dauerauftr',\n",
       "  'ge',\n",
       "  'porto',\n",
       "  'kontoauszugstaschen',\n",
       "  'entgelt',\n",
       "  'spesen',\n",
       "  'kontoauszug',\n",
       "  'parschlug',\n",
       "  'u366457'],\n",
       " 28: ['stk',\n",
       "  'entgelt',\n",
       "  'kontoauszug',\n",
       "  'beleghafte',\n",
       "  'sonst',\n",
       "  'tze',\n",
       "  'ums',\n",
       "  'und',\n",
       "  'nachbearbeitete',\n",
       "  'bermittelte'],\n",
       " 29: ['x246715',\n",
       "  'trn',\n",
       "  'i6357938',\n",
       "  '20150416rx004206',\n",
       "  'i5448601',\n",
       "  'i3216697',\n",
       "  '42002015602',\n",
       "  'x040610',\n",
       "  '20150226rx006256',\n",
       "  '20150402rx002916'],\n",
       " 30: ['a1',\n",
       "  'rechnung',\n",
       "  '21910222766',\n",
       "  'intnr',\n",
       "  '22276',\n",
       "  'wert',\n",
       "  'eur450',\n",
       "  'rate',\n",
       "  '01',\n",
       "  '2015'],\n",
       " 31: ['322',\n",
       "  '21',\n",
       "  '70',\n",
       "  '51',\n",
       "  '53',\n",
       "  '4dg',\n",
       "  '404000078',\n",
       "  '268',\n",
       "  'leasingentg',\n",
       "  'kaut'],\n",
       " 32: ['banquepsafinance',\n",
       "  'peugeot',\n",
       "  'nl',\n",
       "  'oesterreich',\n",
       "  'rate',\n",
       "  'vertragsnummer',\n",
       "  '6501540961',\n",
       "  'bank',\n",
       "  '01',\n",
       "  'mer'],\n",
       " 33: ['polizze',\n",
       "  'llig',\n",
       "  'folgepr',\n",
       "  'lebensversicherung',\n",
       "  '9041274',\n",
       "  '2540000002',\n",
       "  'mie',\n",
       "  '38',\n",
       "  '33',\n",
       "  'gloriettsiedlung'],\n",
       " 34: ['kaut', 'leasingentg', 'bm', 'rnr', '20', 'ust', '79', '00', '94', '01'],\n",
       " 35: ['banking',\n",
       "  'bawag',\n",
       "  'mbs',\n",
       "  'ums',\n",
       "  'tze',\n",
       "  '000001',\n",
       "  '000008',\n",
       "  '000004',\n",
       "  '000007',\n",
       "  '000006'],\n",
       " 36: ['000002',\n",
       "  'bawag',\n",
       "  'mbs',\n",
       "  'banking',\n",
       "  'tze',\n",
       "  'ums',\n",
       "  '000012',\n",
       "  '000001',\n",
       "  'euelbagg',\n",
       "  'euelbaes'],\n",
       " 37: ['praemie',\n",
       "  'folge',\n",
       "  'lfd',\n",
       "  'ableben',\n",
       "  'er',\n",
       "  'und',\n",
       "  '16',\n",
       "  '15',\n",
       "  'projekt',\n",
       "  'treuhandauftrag'],\n",
       " 38: ['wasser',\n",
       "  'monika',\n",
       "  'anlagennr',\n",
       "  'der',\n",
       "  'mur',\n",
       "  'tzb',\n",
       "  '8600',\n",
       "  '2015',\n",
       "  'unterberger',\n",
       "  'bruck'],\n",
       " 39: ['r701',\n",
       "  'ford',\n",
       "  'gutschr',\n",
       "  'ex',\n",
       "  'kdn',\n",
       "  'krone',\n",
       "  'anz',\n",
       "  '12996016',\n",
       "  '60',\n",
       "  '23'],\n",
       " 40: ['67',\n",
       "  '112',\n",
       "  '3360300010',\n",
       "  '18',\n",
       "  'leobner',\n",
       "  'stra',\n",
       "  'der',\n",
       "  'mur',\n",
       "  'st',\n",
       "  'bruc'],\n",
       " 41: ['768',\n",
       "  '10',\n",
       "  '404000048',\n",
       "  '128',\n",
       "  '640',\n",
       "  '51ct',\n",
       "  '02',\n",
       "  '08',\n",
       "  'bm',\n",
       "  'kaut'],\n",
       " 42: ['k002',\n",
       "  'um',\n",
       "  'kurs',\n",
       "  'k003',\n",
       "  'spesen',\n",
       "  'bruck',\n",
       "  '07',\n",
       "  '6411',\n",
       "  'penny',\n",
       "  '00']}"
      ]
     },
     "execution_count": 16,
     "metadata": {},
     "output_type": "execute_result"
    }
   ],
   "source": [
    "docs_df = pd.DataFrame(txtlst, columns=[\"Doc\"])\n",
    "docs_df['Clust'] = clusterer.labels_\n",
    "docs_df['Doc_ID'] = range(len(docs_df))\n",
    "print(docs_df.head())\n",
    "docs_per_cluster = docs_df.groupby(['Clust'], as_index = False).agg({'Doc': ' '.join})\n",
    "docs_per_cluster.head()\n",
    "\n",
    "import numpy as np\n",
    "from sklearn.feature_extraction.text import CountVectorizer\n",
    "\n",
    "def c_tf_idf(documents, m, ngram_range=(1, 1)):\n",
    "    count = CountVectorizer(ngram_range=ngram_range, stop_words=\"english\").fit(documents)\n",
    "    t = count.transform(documents).toarray()\n",
    "    w = t.sum(axis=1)\n",
    "    tf = np.divide(t.T, w)\n",
    "    sum_t = t.sum(axis=0)\n",
    "    idf = np.log(np.divide(m, sum_t)).reshape(-1, 1)\n",
    "    tf_idf = np.multiply(tf, idf)\n",
    "\n",
    "    return tf_idf, count\n",
    "\n",
    "\n",
    "def extract_top_n_words_per_cluster(tf_idf, count, docs_per_cluster, n=10):\n",
    "    words = count.get_feature_names()\n",
    "    labels = list(docs_per_cluster.Clust)\n",
    "    tf_idf_transposed = tf_idf.T\n",
    "    indices = tf_idf_transposed.argsort()[:, -n:]\n",
    "    top_n_words = {label: [(words[j], tf_idf_transposed[i][j]) for j in indices[i]][::-1] for i, label in enumerate(labels)}\n",
    "    return top_n_words\n",
    "\n",
    "def extract_cluster_sizes(df):\n",
    "    cluster_sizes = (df.groupby(['Clust'])\n",
    "                     .Doc\n",
    "                     .count()\n",
    "                     .reset_index()\n",
    "                     .rename({\"Clust\": \"Clust\", \"Doc\": \"Size\"}, axis='columns')\n",
    "                     .sort_values(\"Size\", ascending=False))\n",
    "    return cluster_sizes\n",
    "\n",
    "tf_idf, count = c_tf_idf(docs_per_cluster.Doc.values, m=len(txtlst))\n",
    "top_n_words = extract_top_n_words_per_cluster(tf_idf, count, docs_per_cluster, n=10)\n",
    "# cluster_sizes = extract_cluster_sizes(docs_df)\n",
    "# print(\"Number of Clusters Found: \",cluster_sizes.shape[0])\n",
    "# cluster_sizes\n",
    "print(top_n_words[1][:10])\n",
    "\n",
    "topw={}\n",
    "for k,v in top_n_words.items():\n",
    "    topw[k]=[i[0] for i in v]\n",
    "\n",
    "topw"
   ]
  },
  {
   "cell_type": "markdown",
   "metadata": {
    "heading_collapsed": true
   },
   "source": [
    "### Assign the Clusters and Top Words in Original data"
   ]
  },
  {
   "cell_type": "code",
   "execution_count": 17,
   "metadata": {
    "ExecuteTime": {
     "end_time": "2020-11-09T05:44:27.105922Z",
     "start_time": "2020-11-09T05:44:27.045888Z"
    },
    "hidden": true,
    "scrolled": true
   },
   "outputs": [
    {
     "name": "stderr",
     "output_type": "stream",
     "text": [
      "/Users/deepak/opt/anaconda3/envs/mynlp/lib/python3.7/site-packages/ipykernel_launcher.py:1: SettingWithCopyWarning: \n",
      "A value is trying to be set on a copy of a slice from a DataFrame.\n",
      "Try using .loc[row_indexer,col_indexer] = value instead\n",
      "\n",
      "See the caveats in the documentation: https://pandas.pydata.org/pandas-docs/stable/user_guide/indexing.html#returning-a-view-versus-a-copy\n",
      "  \"\"\"Entry point for launching an IPython kernel.\n"
     ]
    },
    {
     "data": {
      "text/html": [
       "<div>\n",
       "<style scoped>\n",
       "    .dataframe tbody tr th:only-of-type {\n",
       "        vertical-align: middle;\n",
       "    }\n",
       "\n",
       "    .dataframe tbody tr th {\n",
       "        vertical-align: top;\n",
       "    }\n",
       "\n",
       "    .dataframe thead th {\n",
       "        text-align: right;\n",
       "    }\n",
       "</style>\n",
       "<table border=\"1\" class=\"dataframe\">\n",
       "  <thead>\n",
       "    <tr style=\"text-align: right;\">\n",
       "      <th></th>\n",
       "      <th>kde_id</th>\n",
       "      <th>id</th>\n",
       "      <th>country</th>\n",
       "      <th>description</th>\n",
       "      <th>transactionDate</th>\n",
       "      <th>transactionAmount</th>\n",
       "      <th>transactionAmountCurrency</th>\n",
       "      <th>bankTransactionFlowType</th>\n",
       "      <th>currentBalanceAmount</th>\n",
       "      <th>currentBalanceCurrency</th>\n",
       "      <th>accountIdentifier</th>\n",
       "      <th>bankIdentifier</th>\n",
       "      <th>amountInFunctionalCurrencyAmount</th>\n",
       "      <th>amountInFunctionalCurrencyCurrency</th>\n",
       "      <th>currentBalanceInFunctionalCurrencyAmount</th>\n",
       "      <th>currentBalanceInFunctionalCurrencyCurrency</th>\n",
       "      <th>bankDataSource</th>\n",
       "      <th>cluster_assignment</th>\n",
       "    </tr>\n",
       "  </thead>\n",
       "  <tbody>\n",
       "    <tr>\n",
       "      <th>0</th>\n",
       "      <td>10048</td>\n",
       "      <td>1</td>\n",
       "      <td>NL</td>\n",
       "      <td>AUTOMAT S6EE6080 0063 Karte3 27.06.2015 UM 18:...</td>\n",
       "      <td>2015-06-29</td>\n",
       "      <td>-400.00</td>\n",
       "      <td>EUR</td>\n",
       "      <td>OUTFLOW</td>\n",
       "      <td>-6006.540039</td>\n",
       "      <td>EUR</td>\n",
       "      <td>170331</td>\n",
       "      <td>Bawag</td>\n",
       "      <td>-400.00</td>\n",
       "      <td>EUR</td>\n",
       "      <td>-6006.540039</td>\n",
       "      <td>EUR</td>\n",
       "      <td>titanium-db</td>\n",
       "      <td>17.0</td>\n",
       "    </tr>\n",
       "    <tr>\n",
       "      <th>1</th>\n",
       "      <td>10048</td>\n",
       "      <td>2</td>\n",
       "      <td>NL</td>\n",
       "      <td>---- 0103619245 / 200003507629 ----Rechnungsnr...</td>\n",
       "      <td>2015-06-29</td>\n",
       "      <td>-38.08</td>\n",
       "      <td>EUR</td>\n",
       "      <td>OUTFLOW</td>\n",
       "      <td>-6406.540039</td>\n",
       "      <td>EUR</td>\n",
       "      <td>170331</td>\n",
       "      <td>Bawag</td>\n",
       "      <td>-38.08</td>\n",
       "      <td>EUR</td>\n",
       "      <td>-6406.540039</td>\n",
       "      <td>EUR</td>\n",
       "      <td>titanium-db</td>\n",
       "      <td>25.0</td>\n",
       "    </tr>\n",
       "    <tr>\n",
       "      <th>3</th>\n",
       "      <td>10048</td>\n",
       "      <td>258</td>\n",
       "      <td>NL</td>\n",
       "      <td>Kundennummer 000000086189, Hutchison Drei Aust...</td>\n",
       "      <td>2015-06-29</td>\n",
       "      <td>-30.22</td>\n",
       "      <td>EUR</td>\n",
       "      <td>OUTFLOW</td>\n",
       "      <td>-48298.859380</td>\n",
       "      <td>EUR</td>\n",
       "      <td>170511</td>\n",
       "      <td>Bawag</td>\n",
       "      <td>-30.22</td>\n",
       "      <td>EUR</td>\n",
       "      <td>-48298.859380</td>\n",
       "      <td>EUR</td>\n",
       "      <td>titanium-db</td>\n",
       "      <td>25.0</td>\n",
       "    </tr>\n",
       "    <tr>\n",
       "      <th>4</th>\n",
       "      <td>10048</td>\n",
       "      <td>259</td>\n",
       "      <td>NL</td>\n",
       "      <td>---- 0103619245 / 200003768285 ----Rechnungsnr...</td>\n",
       "      <td>2015-06-29</td>\n",
       "      <td>-34.98</td>\n",
       "      <td>EUR</td>\n",
       "      <td>OUTFLOW</td>\n",
       "      <td>-48329.078130</td>\n",
       "      <td>EUR</td>\n",
       "      <td>170511</td>\n",
       "      <td>Bawag</td>\n",
       "      <td>-34.98</td>\n",
       "      <td>EUR</td>\n",
       "      <td>-48329.078130</td>\n",
       "      <td>EUR</td>\n",
       "      <td>titanium-db</td>\n",
       "      <td>30.0</td>\n",
       "    </tr>\n",
       "    <tr>\n",
       "      <th>11</th>\n",
       "      <td>10048</td>\n",
       "      <td>266</td>\n",
       "      <td>NL</td>\n",
       "      <td>Kd.Nr:234545 Re.Nr:151119</td>\n",
       "      <td>2015-06-30</td>\n",
       "      <td>-378.42</td>\n",
       "      <td>EUR</td>\n",
       "      <td>OUTFLOW</td>\n",
       "      <td>-47729.261720</td>\n",
       "      <td>EUR</td>\n",
       "      <td>170511</td>\n",
       "      <td>Bawag</td>\n",
       "      <td>-378.42</td>\n",
       "      <td>EUR</td>\n",
       "      <td>-47729.261720</td>\n",
       "      <td>EUR</td>\n",
       "      <td>titanium-db</td>\n",
       "      <td>22.0</td>\n",
       "    </tr>\n",
       "  </tbody>\n",
       "</table>\n",
       "</div>"
      ],
      "text/plain": [
       "    kde_id   id country                                        description  \\\n",
       "0    10048    1      NL  AUTOMAT S6EE6080 0063 Karte3 27.06.2015 UM 18:...   \n",
       "1    10048    2      NL  ---- 0103619245 / 200003507629 ----Rechnungsnr...   \n",
       "3    10048  258      NL  Kundennummer 000000086189, Hutchison Drei Aust...   \n",
       "4    10048  259      NL  ---- 0103619245 / 200003768285 ----Rechnungsnr...   \n",
       "11   10048  266      NL                        Kd.Nr:234545 Re.Nr:151119     \n",
       "\n",
       "   transactionDate  transactionAmount transactionAmountCurrency  \\\n",
       "0       2015-06-29            -400.00                       EUR   \n",
       "1       2015-06-29             -38.08                       EUR   \n",
       "3       2015-06-29             -30.22                       EUR   \n",
       "4       2015-06-29             -34.98                       EUR   \n",
       "11      2015-06-30            -378.42                       EUR   \n",
       "\n",
       "   bankTransactionFlowType  currentBalanceAmount currentBalanceCurrency  \\\n",
       "0                  OUTFLOW          -6006.540039                    EUR   \n",
       "1                  OUTFLOW          -6406.540039                    EUR   \n",
       "3                  OUTFLOW         -48298.859380                    EUR   \n",
       "4                  OUTFLOW         -48329.078130                    EUR   \n",
       "11                 OUTFLOW         -47729.261720                    EUR   \n",
       "\n",
       "    accountIdentifier bankIdentifier  amountInFunctionalCurrencyAmount  \\\n",
       "0              170331          Bawag                           -400.00   \n",
       "1              170331          Bawag                            -38.08   \n",
       "3              170511          Bawag                            -30.22   \n",
       "4              170511          Bawag                            -34.98   \n",
       "11             170511          Bawag                           -378.42   \n",
       "\n",
       "   amountInFunctionalCurrencyCurrency  \\\n",
       "0                                 EUR   \n",
       "1                                 EUR   \n",
       "3                                 EUR   \n",
       "4                                 EUR   \n",
       "11                                EUR   \n",
       "\n",
       "    currentBalanceInFunctionalCurrencyAmount  \\\n",
       "0                               -6006.540039   \n",
       "1                               -6406.540039   \n",
       "3                              -48298.859380   \n",
       "4                              -48329.078130   \n",
       "11                             -47729.261720   \n",
       "\n",
       "   currentBalanceInFunctionalCurrencyCurrency bankDataSource  \\\n",
       "0                                         EUR    titanium-db   \n",
       "1                                         EUR    titanium-db   \n",
       "3                                         EUR    titanium-db   \n",
       "4                                         EUR    titanium-db   \n",
       "11                                        EUR    titanium-db   \n",
       "\n",
       "    cluster_assignment  \n",
       "0                 17.0  \n",
       "1                 25.0  \n",
       "3                 25.0  \n",
       "4                 30.0  \n",
       "11                22.0  "
      ]
     },
     "execution_count": 17,
     "metadata": {},
     "output_type": "execute_result"
    }
   ],
   "source": [
    "dtoutflow['cluster_assignment']=pd.Series(cluster_assignment)\n",
    "\n",
    "dtoutflow['Top_Words_in_Cluster']=dtoutflow.cluster_assignment.map(topw)\n",
    "\n",
    "dtoutflow.head()"
   ]
  },
  {
   "cell_type": "code",
   "execution_count": null,
   "metadata": {
    "hidden": true
   },
   "outputs": [],
   "source": []
  },
  {
   "cell_type": "code",
   "execution_count": null,
   "metadata": {
    "hidden": true
   },
   "outputs": [],
   "source": []
  },
  {
   "cell_type": "code",
   "execution_count": null,
   "metadata": {
    "hidden": true
   },
   "outputs": [],
   "source": [
    "###### IGNORE THIS ############################\n",
    "\n",
    "# from sklearn.feature_extraction.text import TfidfVectorizer\n",
    "# import numpy as np\n",
    "\n",
    "# # docs_per_cluster.Doc.values\n",
    "# def top_tfidf_words(docs,top_n=5):\n",
    "#     try:\n",
    "#         vectorizer = TfidfVectorizer()\n",
    "#         X = vectorizer.fit_transform(docs)\n",
    "#         indices = np.argsort(vectorizer.idf_)[::-1]\n",
    "#         features = vectorizer.get_feature_names()\n",
    "#         top_features = [features[i] for i in indices[:top_n]]\n",
    "# #         print( top_features)\n",
    "#         return list(top_features)\n",
    "#     except ValueError:\n",
    "#         return []\n",
    "\n",
    "# docs_per_cluster['top_words']=docs_per_cluster.apply(lambda row: top_tfidf_words([row['Doc']],5),axis=1)\n",
    "\n",
    "# docs_per_cluster.head(10)"
   ]
  },
  {
   "cell_type": "code",
   "execution_count": null,
   "metadata": {
    "hidden": true
   },
   "outputs": [],
   "source": []
  },
  {
   "cell_type": "code",
   "execution_count": null,
   "metadata": {
    "hidden": true
   },
   "outputs": [],
   "source": []
  },
  {
   "cell_type": "code",
   "execution_count": null,
   "metadata": {
    "hidden": true
   },
   "outputs": [],
   "source": []
  }
 ],
 "metadata": {
  "kernelspec": {
   "display_name": "Python 3",
   "language": "python",
   "name": "python3"
  },
  "language_info": {
   "codemirror_mode": {
    "name": "ipython",
    "version": 3
   },
   "file_extension": ".py",
   "mimetype": "text/x-python",
   "name": "python",
   "nbconvert_exporter": "python",
   "pygments_lexer": "ipython3",
   "version": "3.8.2"
  },
  "toc": {
   "base_numbering": 1,
   "nav_menu": {},
   "number_sections": true,
   "sideBar": true,
   "skip_h1_title": false,
   "title_cell": "Table of Contents",
   "title_sidebar": "Contents",
   "toc_cell": false,
   "toc_position": {},
   "toc_section_display": true,
   "toc_window_display": false
  },
  "varInspector": {
   "cols": {
    "lenName": 16,
    "lenType": 16,
    "lenVar": 40
   },
   "kernels_config": {
    "python": {
     "delete_cmd_postfix": "",
     "delete_cmd_prefix": "del ",
     "library": "var_list.py",
     "varRefreshCmd": "print(var_dic_list())"
    },
    "r": {
     "delete_cmd_postfix": ") ",
     "delete_cmd_prefix": "rm(",
     "library": "var_list.r",
     "varRefreshCmd": "cat(var_dic_list()) "
    }
   },
   "types_to_exclude": [
    "module",
    "function",
    "builtin_function_or_method",
    "instance",
    "_Feature"
   ],
   "window_display": false
  }
 },
 "nbformat": 4,
 "nbformat_minor": 4
}
