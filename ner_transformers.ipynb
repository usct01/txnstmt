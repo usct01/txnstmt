{
 "cells": [
  {
   "cell_type": "code",
   "execution_count": null,
   "metadata": {},
   "outputs": [],
   "source": [
    "from transformers import pipeline\n",
    "# senti=pipeline('sentiment-analysis')\n",
    "ner = pipeline(\"ner\", grouped_entities=True)"
   ]
  },
  {
   "cell_type": "code",
   "execution_count": 1,
   "metadata": {},
   "outputs": [
    {
     "name": "stderr",
     "output_type": "stream",
     "text": [
      "Some weights of the model checkpoint at dbmdz/bert-large-cased-finetuned-conll03-english were not used when initializing TFBertForTokenClassification: ['dropout_147']\n",
      "- This IS expected if you are initializing TFBertForTokenClassification from the checkpoint of a model trained on another task or with another architecture (e.g. initializing a BertForSequenceClassification model from a BertForPretraining model).\n",
      "- This IS NOT expected if you are initializing TFBertForTokenClassification from the checkpoint of a model that you expect to be exactly identical (initializing a BertForSequenceClassification model from a BertForSequenceClassification model).\n",
      "Some weights of TFBertForTokenClassification were not initialized from the model checkpoint at dbmdz/bert-large-cased-finetuned-conll03-english and are newly initialized: ['dropout_73']\n",
      "You should probably TRAIN this model on a down-stream task to be able to use it for predictions and inference.\n"
     ]
    },
    {
     "name": "stdout",
     "output_type": "stream",
     "text": [
      "[{'entity_group': 'I-ORG', 'score': 0.9970663785934448, 'word': 'Hugging Face Inc'}, {'entity_group': 'I-LOC', 'score': 0.9993778268496195, 'word': 'New York City'}, {'entity_group': 'I-LOC', 'score': 0.9571147362391154, 'word': 'DUMBO'}, {'entity_group': 'I-LOC', 'score': 0.983814150094986, 'word': 'Manhattan Bridge'}]\n"
     ]
    }
   ],
   "source": [
    "sequence = \"Hugging Face Inc. is a company based in New York City. Its headquarters are in DUMBO, therefore very close to the Manhattan Bridge which is visible from the window.\"\n",
    "output = ner(sequence)\n",
    "print(output)"
   ]
  },
  {
   "cell_type": "code",
   "execution_count": 2,
   "metadata": {},
   "outputs": [],
   "source": [
    "sequence = \"\"\"Spotcap was founded with an in depth understanding of financial services, \n",
    "an entrepreneurial spirit and a clear objective: to deliver simple and swift loans to \n",
    "businesses so that they can focus on what matters to them.\"\"\"\n",
    "\n",
    "ner(sequence)"
   ]
  },
  {
   "cell_type": "code",
   "execution_count": 27,
   "metadata": {},
   "outputs": [
    {
     "data": {
      "text/plain": [
       "[{'label': 'POSITIVE', 'score': 0.9993500709533691}]"
      ]
     },
     "execution_count": 27,
     "metadata": {},
     "output_type": "execute_result"
    }
   ],
   "source": [
    "senti(sequence)"
   ]
  },
  {
   "cell_type": "code",
   "execution_count": null,
   "metadata": {},
   "outputs": [],
   "source": []
  },
  {
   "cell_type": "code",
   "execution_count": 5,
   "metadata": {},
   "outputs": [],
   "source": [
    "batch_string=['VISA DEBIT PURCHASE CARD 8061 GOOGLE*ADWS8409660624 SINGAPORE',\n",
    "    'VISA DEBIT PURCHASE CARD 8061 RENTALCARTOLLPH131865 PARRAMATTA',\n",
    "    'Gutschrift Onlinebanking ner 2014 BG/000000217 OPSKATWW AT916000050110110437 Piratenpartei Österreichs Mitgliedsbeiträge LO-Anteil Jänner 2014',\n",
    "    'SWITCH Energievertriebsgesellschaft Bel. 613661801 EUR 3700 OG/000001242'\n",
    " ,'SIX Payment Services (Europe) S.A.'\n",
    ",'Stadt Wien Buchhaltungsabteilung 33 POS 6507 280 K001 26.08. 16:45 JET-TANKSTELLEMUENCHEN80687'\n",
    ",'Entgelt für Buchungsposten und Belege'\n",
    ",'Entgelt für Manipulation'\n",
    ",'Entgelt für Buchungsposten und Belege'\n",
    "    ]"
   ]
  },
  {
   "cell_type": "code",
   "execution_count": 6,
   "metadata": {},
   "outputs": [
    {
     "name": "stdout",
     "output_type": "stream",
     "text": [
      "SIX Payment Services (Europe) S.A.\n"
     ]
    },
    {
     "data": {
      "text/plain": [
       "[{'entity_group': 'I-ORG',\n",
       "  'score': 0.9951438426971435,\n",
       "  'word': 'SIX Payment Services'},\n",
       " {'entity_group': 'I-LOC', 'score': 0.9991500973701477, 'word': 'Europe'},\n",
       " {'entity_group': 'I-ORG', 'score': 0.9862900376319885, 'word': 'S'},\n",
       " {'entity_group': 'I-ORG', 'score': 0.8623150587081909, 'word': 'A'}]"
      ]
     },
     "execution_count": 6,
     "metadata": {},
     "output_type": "execute_result"
    }
   ],
   "source": [
    "s=batch_string[4]\n",
    "s=' '.join(x for x in s.split() if x)\n",
    "print(s)\n",
    "ner(s)"
   ]
  },
  {
   "cell_type": "code",
   "execution_count": 7,
   "metadata": {
    "scrolled": true
   },
   "outputs": [
    {
     "data": {
      "text/plain": [
       "[[],\n",
       " [{'entity_group': 'I-ORG', 'score': 0.689075231552124, 'word': 'VI'},\n",
       "  {'entity_group': 'I-ORG', 'score': 0.7900227010250092, 'word': 'REN'},\n",
       "  {'entity_group': 'I-ORG', 'score': 0.8560181558132172, 'word': '##LCAR'},\n",
       "  {'entity_group': 'I-ORG',\n",
       "   'score': 0.9562845925490061,\n",
       "   'word': 'PARRAMATTA'}],\n",
       " [{'entity_group': 'I-ORG',\n",
       "   'score': 0.8847724114145551,\n",
       "   'word': 'Gutschrift Onlinebanking'},\n",
       "  {'entity_group': 'I-ORG', 'score': 0.9304457902908325, 'word': 'OPSKAT'},\n",
       "  {'entity_group': 'I-ORG',\n",
       "   'score': 0.8471984639763832,\n",
       "   'word': 'Piratenpartei Österre'},\n",
       "  {'entity_group': 'I-MISC', 'score': 0.4645432233810425, 'word': '##ich'},\n",
       "  {'entity_group': 'I-ORG', 'score': 0.8051902651786804, 'word': 'Mi'},\n",
       "  {'entity_group': 'I-ORG', 'score': 0.7866743206977844, 'word': '##ge'},\n",
       "  {'entity_group': 'I-ORG', 'score': 0.6178044676780701, 'word': 'An'},\n",
       "  {'entity_group': 'I-ORG', 'score': 0.8137967586517334, 'word': '##il J'},\n",
       "  {'entity_group': 'I-MISC', 'score': 0.6660807132720947, 'word': '##ä'}],\n",
       " [{'entity_group': 'I-ORG',\n",
       "   'score': 0.8774272474375638,\n",
       "   'word': 'Energievertriebsgesellschaft Bel'},\n",
       "  {'entity_group': 'I-MISC', 'score': 0.6580860614776611, 'word': 'EU'}],\n",
       " [{'entity_group': 'I-ORG',\n",
       "   'score': 0.9951438426971435,\n",
       "   'word': 'SIX Payment Services'},\n",
       "  {'entity_group': 'I-LOC', 'score': 0.9991500973701477, 'word': 'Europe'},\n",
       "  {'entity_group': 'I-ORG', 'score': 0.9862900376319885, 'word': 'S'},\n",
       "  {'entity_group': 'I-ORG', 'score': 0.8623150587081909, 'word': 'A'}],\n",
       " [{'entity_group': 'I-ORG',\n",
       "   'score': 0.9911406338214874,\n",
       "   'word': 'Stadt Wien Buchhaltungsabteilung'},\n",
       "  {'entity_group': 'I-ORG', 'score': 0.5110649466514587, 'word': 'P'},\n",
       "  {'entity_group': 'I-ORG', 'score': 0.8506431579589844, 'word': 'T'},\n",
       "  {'entity_group': 'I-ORG', 'score': 0.5686869323253632, 'word': '##TELL'},\n",
       "  {'entity_group': 'I-ORG', 'score': 0.8375318050384521, 'word': '##NCHEN'}],\n",
       " [{'entity_group': 'I-ORG', 'score': 0.5796500444412231, 'word': 'En'},\n",
       "  {'entity_group': 'I-MISC', 'score': 0.6017448306083679, 'word': 'B'},\n",
       "  {'entity_group': 'I-MISC', 'score': 0.5065723061561584, 'word': 'Bel'}],\n",
       " [{'entity_group': 'I-ORG',\n",
       "   'score': 0.41675493121147156,\n",
       "   'word': 'Entgelt für'},\n",
       "  {'entity_group': 'I-MISC', 'score': 0.37763816118240356, 'word': 'Man'}],\n",
       " [{'entity_group': 'I-ORG', 'score': 0.5796500444412231, 'word': 'En'},\n",
       "  {'entity_group': 'I-MISC', 'score': 0.6017448306083679, 'word': 'B'},\n",
       "  {'entity_group': 'I-MISC', 'score': 0.5065723061561584, 'word': 'Bel'}]]"
      ]
     },
     "execution_count": 7,
     "metadata": {},
     "output_type": "execute_result"
    }
   ],
   "source": [
    "ner(batch_string)"
   ]
  },
  {
   "cell_type": "code",
   "execution_count": null,
   "metadata": {},
   "outputs": [],
   "source": []
  },
  {
   "cell_type": "code",
   "execution_count": 9,
   "metadata": {},
   "outputs": [
    {
     "name": "stderr",
     "output_type": "stream",
     "text": [
      "All model checkpoint weights were used when initializing TFBertForTokenClassification.\n",
      "\n",
      "All the weights of TFBertForTokenClassification were initialized from the model checkpoint at dbmdz/bert-large-cased-finetuned-conll03-english.\n",
      "If your task is similar to the task the model of the checkpoint was trained on, you can already use TFBertForTokenClassification for predictions without further training.\n"
     ]
    },
    {
     "data": {
      "application/vnd.jupyter.widget-view+json": {
       "model_id": "cec5ca165f8240869d1f36fd8b909c3c",
       "version_major": 2,
       "version_minor": 0
      },
      "text/plain": [
       "HBox(children=(FloatProgress(value=0.0, description='Downloading', max=433.0, style=ProgressStyle(description_…"
      ]
     },
     "metadata": {},
     "output_type": "display_data"
    },
    {
     "name": "stdout",
     "output_type": "stream",
     "text": [
      "\n"
     ]
    },
    {
     "data": {
      "application/vnd.jupyter.widget-view+json": {
       "model_id": "f3714924843d4b8ea7109ad1c7590fa0",
       "version_major": 2,
       "version_minor": 0
      },
      "text/plain": [
       "HBox(children=(FloatProgress(value=0.0, description='Downloading', max=213450.0, style=ProgressStyle(descripti…"
      ]
     },
     "metadata": {},
     "output_type": "display_data"
    },
    {
     "name": "stdout",
     "output_type": "stream",
     "text": [
      "\n"
     ]
    },
    {
     "data": {
      "text/plain": [
       "<tf.Tensor: shape=(1, 44), dtype=int64, numpy=\n",
       "array([[0, 6, 6, 0, 0, 0, 0, 0, 0, 0, 0, 0, 0, 0, 0, 0, 0, 0, 0, 0, 0, 0,\n",
       "        0, 0, 0, 0, 0, 0, 0, 0, 0, 0, 0, 0, 0, 0, 0, 0, 0, 0, 0, 0, 0, 0]])>"
      ]
     },
     "execution_count": 9,
     "metadata": {},
     "output_type": "execute_result"
    }
   ],
   "source": [
    "from transformers import TFAutoModelForTokenClassification, AutoTokenizer\n",
    "import tensorflow as tf\n",
    "model = TFAutoModelForTokenClassification.from_pretrained(\"dbmdz/bert-large-cased-finetuned-conll03-english\")\n",
    "tokenizer = AutoTokenizer.from_pretrained(\"bert-base-cased\")\n",
    "label_list = [\n",
    "    \"O\",       # Outside of a named entity\n",
    "    \"B-MISC\",  # Beginning of a miscellaneous entity right after another miscellaneous entity\n",
    "    \"I-MISC\",  # Miscellaneous entity\n",
    "    \"B-PER\",   # Beginning of a person's name right after another person's name\n",
    "    \"I-PER\",   # Person's name\n",
    "    \"B-ORG\",   # Beginning of an organisation right after another organisation\n",
    "    \"I-ORG\",   # Organisation\n",
    "    \"B-LOC\",   # Beginning of a location right after another location\n",
    "    \"I-LOC\"    # Location\n",
    "]\n",
    "sequence = \"\"\"Spotcap was founded with an in-depth understanding of financial services, an entrepreneurial spirit and a clear objective: to deliver simple and swift loans to businesses so that they can focus on what matters to them.\"\"\"\n",
    "# Bit of a hack to get the tokens with the special tokens\n",
    "tokens = tokenizer.tokenize(tokenizer.decode(tokenizer.encode(sequence)))\n",
    "inputs = tokenizer.encode(sequence, return_tensors=\"tf\")\n",
    "outputs = model(inputs)[0]\n",
    "predictions = tf.argmax(outputs, axis=2)\n",
    "predictions"
   ]
  },
  {
   "cell_type": "code",
   "execution_count": 10,
   "metadata": {},
   "outputs": [
    {
     "data": {
      "text/plain": [
       "<tf.Tensor: shape=(1, 44, 9), dtype=float32, numpy=\n",
       "array([[[ 1.05342808e+01, -1.98900318e+00, -1.52899575e+00,\n",
       "         -1.87146163e+00, -1.85586977e+00, -1.65091538e+00,\n",
       "         -1.16169572e+00, -1.65713489e+00,  2.06491515e-01],\n",
       "        [ 1.70016956e+00, -2.23279977e+00,  5.36611974e-01,\n",
       "         -3.22892427e+00,  7.17216015e-01, -1.32830763e+00,\n",
       "          5.50244617e+00, -3.15014744e+00, -9.81135011e-01],\n",
       "        [ 1.40911281e+00, -2.61523175e+00, -1.16079710e-01,\n",
       "         -3.03250360e+00,  9.33667064e-01, -1.49741876e+00,\n",
       "          5.81488848e+00, -2.85015631e+00, -6.01672053e-01],\n",
       "        [ 1.10054064e+01, -2.33733296e+00, -1.20209897e+00,\n",
       "         -2.65940404e+00, -9.94906843e-01, -1.71097553e+00,\n",
       "          8.37378442e-01, -2.11152172e+00, -7.69982517e-01],\n",
       "        [ 1.14504471e+01, -2.13699508e+00, -8.48211825e-01,\n",
       "         -2.72059083e+00, -9.43282366e-01, -2.10378718e+00,\n",
       "          1.91422477e-01, -2.14462543e+00, -5.64634621e-01],\n",
       "        [ 1.12415752e+01, -2.30828881e+00, -9.99599397e-01,\n",
       "         -2.69988966e+00, -1.21072924e+00, -1.73056269e+00,\n",
       "         -1.37075290e-01, -2.24193096e+00, -3.92712474e-01],\n",
       "        [ 1.14463167e+01, -2.22621894e+00, -1.14978862e+00,\n",
       "         -2.57975030e+00, -1.17662501e+00, -1.75778210e+00,\n",
       "          2.13921979e-01, -2.09898448e+00, -5.94973683e-01],\n",
       "        [ 1.14601192e+01, -2.15080333e+00, -8.00782919e-01,\n",
       "         -2.55560040e+00, -1.22792649e+00, -1.70622849e+00,\n",
       "         -5.66351056e-01, -2.04042125e+00, -5.60329497e-01],\n",
       "        [ 7.63442135e+00, -1.95056224e+00, -6.60937652e-02,\n",
       "         -2.17694402e+00, -2.19765633e-01, -1.22886360e+00,\n",
       "          6.64217174e-01, -1.52456510e+00, -4.64964747e-01],\n",
       "        [ 1.15111237e+01, -2.05425906e+00, -6.83006585e-01,\n",
       "         -2.59118009e+00, -1.06199837e+00, -1.70989096e+00,\n",
       "         -6.48354292e-01, -2.10529327e+00, -5.61118126e-01],\n",
       "        [ 1.14980211e+01, -2.11194324e+00, -6.62431836e-01,\n",
       "         -2.54617381e+00, -1.21247745e+00, -1.80018222e+00,\n",
       "         -3.73415709e-01, -2.01859593e+00, -4.21478748e-01],\n",
       "        [ 1.14529514e+01, -2.10733700e+00, -8.29664052e-01,\n",
       "         -2.52203774e+00, -1.35503781e+00, -1.59480643e+00,\n",
       "         -4.22719955e-01, -2.01466179e+00, -4.47892129e-01],\n",
       "        [ 1.17271852e+01, -2.24845219e+00, -7.84160554e-01,\n",
       "         -2.56072569e+00, -1.49508071e+00, -1.61699426e+00,\n",
       "         -3.53558093e-01, -1.90601850e+00, -5.99078834e-01],\n",
       "        [ 1.12645817e+01, -2.34380603e+00, -5.69839597e-01,\n",
       "         -2.66177750e+00, -1.28980255e+00, -1.68803132e+00,\n",
       "         -3.80104519e-02, -2.04576015e+00, -5.82570612e-01],\n",
       "        [ 1.02164202e+01, -2.18941998e+00, -1.22686172e+00,\n",
       "         -2.25994492e+00, -9.52198386e-01, -1.51480353e+00,\n",
       "          3.14231485e-01, -2.03077030e+00, -2.60193497e-01],\n",
       "        [ 1.14730415e+01, -2.18521333e+00, -1.21091330e+00,\n",
       "         -2.52465510e+00, -1.17943645e+00, -1.60018790e+00,\n",
       "         -1.69459268e-01, -1.98438525e+00, -5.15533268e-01],\n",
       "        [ 1.15659981e+01, -2.19713902e+00, -7.85332561e-01,\n",
       "         -2.65379119e+00, -1.20872772e+00, -1.77517772e+00,\n",
       "         -6.48896694e-01, -1.98300767e+00, -6.62498891e-01],\n",
       "        [ 1.15797567e+01, -2.29122329e+00, -1.11454797e+00,\n",
       "         -2.56654549e+00, -1.33944499e+00, -1.56860089e+00,\n",
       "         -3.29489589e-01, -2.09443450e+00, -6.49065614e-01],\n",
       "        [ 1.10481110e+01, -2.42664242e+00, -9.15644586e-01,\n",
       "         -2.57979512e+00, -9.51292157e-01, -1.88642049e+00,\n",
       "         -1.58675537e-01, -1.93414843e+00, -4.60925668e-01],\n",
       "        [ 1.09508657e+01, -2.14924097e+00, -1.48021805e+00,\n",
       "         -2.35746431e+00, -1.17046642e+00, -1.54301751e+00,\n",
       "         -8.46477598e-02, -1.86175799e+00, -3.16710800e-01],\n",
       "        [ 1.14864645e+01, -2.23293114e+00, -1.25021243e+00,\n",
       "         -2.49655652e+00, -1.29436040e+00, -1.71284378e+00,\n",
       "          6.48812577e-03, -1.97637928e+00, -6.23396993e-01],\n",
       "        [ 1.13806295e+01, -2.05503225e+00, -9.09268618e-01,\n",
       "         -2.57133627e+00, -1.16807652e+00, -1.86755705e+00,\n",
       "         -5.65038145e-01, -2.03721142e+00, -4.82097447e-01],\n",
       "        [ 1.16200552e+01, -2.11201382e+00, -9.27661061e-01,\n",
       "         -2.53533483e+00, -1.32180488e+00, -1.66218328e+00,\n",
       "         -4.96452540e-01, -2.01969123e+00, -6.05888307e-01],\n",
       "        [ 1.09879227e+01, -2.13027787e+00, -8.60635340e-01,\n",
       "         -2.67311954e+00, -9.25876081e-01, -1.55101764e+00,\n",
       "         -2.12654978e-01, -1.94969225e+00, -5.35569131e-01],\n",
       "        [ 1.15704832e+01, -2.00659490e+00, -1.00222588e+00,\n",
       "         -2.52839613e+00, -1.26973271e+00, -1.62756360e+00,\n",
       "         -3.77656609e-01, -1.91303384e+00, -6.07857168e-01],\n",
       "        [ 1.16252594e+01, -2.15987492e+00, -8.16894948e-01,\n",
       "         -2.48718452e+00, -1.32918417e+00, -1.70032084e+00,\n",
       "         -4.29496288e-01, -2.00848341e+00, -6.13019347e-01],\n",
       "        [ 1.16881866e+01, -2.03514028e+00, -6.07582450e-01,\n",
       "         -2.45104671e+00, -1.23469388e+00, -1.87312043e+00,\n",
       "         -1.02533638e+00, -1.76724446e+00, -5.81334114e-01],\n",
       "        [ 1.15520697e+01, -2.20995522e+00, -8.73206377e-01,\n",
       "         -2.34906435e+00, -1.62080944e+00, -1.59728146e+00,\n",
       "         -6.59601390e-01, -1.79475975e+00, -6.81007326e-01],\n",
       "        [ 1.16876411e+01, -2.02178955e+00, -5.88285506e-01,\n",
       "         -2.52143025e+00, -1.33299172e+00, -1.79505908e+00,\n",
       "         -7.66056299e-01, -1.74203014e+00, -6.86081469e-01],\n",
       "        [ 1.15619106e+01, -2.29269481e+00, -3.85425121e-01,\n",
       "         -2.64742112e+00, -1.43368280e+00, -1.66768014e+00,\n",
       "         -5.94748616e-01, -1.79491735e+00, -7.57139385e-01],\n",
       "        [ 1.17449980e+01, -2.12072682e+00, -7.57837832e-01,\n",
       "         -2.51662660e+00, -1.31752419e+00, -1.65838325e+00,\n",
       "         -8.03067803e-01, -1.92142367e+00, -4.61379379e-01],\n",
       "        [ 1.15301456e+01, -2.37826085e+00, -8.60240638e-01,\n",
       "         -2.86339259e+00, -1.40845025e+00, -1.88840771e+00,\n",
       "         -2.62997180e-01, -2.14389300e+00, -6.33985341e-01],\n",
       "        [ 1.16821003e+01, -2.14781117e+00, -5.93414783e-01,\n",
       "         -2.32631278e+00, -1.51341128e+00, -1.66678178e+00,\n",
       "         -7.86435902e-01, -1.87678289e+00, -6.37594223e-01],\n",
       "        [ 1.16317101e+01, -2.13856983e+00, -8.69885921e-01,\n",
       "         -2.39972639e+00, -1.46104157e+00, -1.64074552e+00,\n",
       "         -6.15690053e-01, -1.93702340e+00, -5.08283794e-01],\n",
       "        [ 1.17124119e+01, -2.23052597e+00, -1.07271934e+00,\n",
       "         -2.51330400e+00, -1.40894353e+00, -1.68678439e+00,\n",
       "         -6.96326435e-01, -1.96434844e+00, -6.38816535e-01],\n",
       "        [ 1.16820049e+01, -2.10192060e+00, -8.63063872e-01,\n",
       "         -2.35860252e+00, -1.35078049e+00, -1.63926530e+00,\n",
       "         -7.16292024e-01, -1.87705898e+00, -4.71803963e-01],\n",
       "        [ 1.15889473e+01, -2.19056535e+00, -4.21268255e-01,\n",
       "         -2.66005898e+00, -1.36192465e+00, -1.66860139e+00,\n",
       "         -6.20860934e-01, -1.91540265e+00, -5.73282123e-01],\n",
       "        [ 1.16909847e+01, -2.13198924e+00, -5.55379212e-01,\n",
       "         -2.61598063e+00, -1.43308246e+00, -1.61836779e+00,\n",
       "         -7.50515938e-01, -1.73987377e+00, -5.43746889e-01],\n",
       "        [ 1.15676727e+01, -2.12490010e+00, -6.00658774e-01,\n",
       "         -2.65511274e+00, -1.38450062e+00, -1.70698929e+00,\n",
       "         -7.61038244e-01, -1.79677606e+00, -4.60100323e-01],\n",
       "        [ 1.16922855e+01, -2.08938622e+00, -8.69878709e-01,\n",
       "         -2.45847368e+00, -1.33545601e+00, -1.61200762e+00,\n",
       "         -9.17163014e-01, -1.88097107e+00, -6.00366235e-01],\n",
       "        [ 1.15726109e+01, -2.09915018e+00, -7.84409046e-01,\n",
       "         -2.48254609e+00, -1.27267969e+00, -1.56909204e+00,\n",
       "         -9.22417223e-01, -1.87118363e+00, -3.33281994e-01],\n",
       "        [ 1.16687679e+01, -2.23183489e+00, -1.06369960e+00,\n",
       "         -2.56144857e+00, -1.42537379e+00, -1.61765945e+00,\n",
       "         -7.48696387e-01, -2.04088020e+00, -5.83214462e-01],\n",
       "        [ 1.05342808e+01, -1.98899853e+00, -1.52899575e+00,\n",
       "         -1.87146318e+00, -1.85587120e+00, -1.65091622e+00,\n",
       "         -1.16169500e+00, -1.65712714e+00,  2.06489131e-01],\n",
       "        [ 1.05342827e+01, -1.98900414e+00, -1.52899563e+00,\n",
       "         -1.87146211e+00, -1.85586977e+00, -1.65091550e+00,\n",
       "         -1.16169584e+00, -1.65713549e+00,  2.06492633e-01]]],\n",
       "      dtype=float32)>"
      ]
     },
     "execution_count": 10,
     "metadata": {},
     "output_type": "execute_result"
    }
   ],
   "source": [
    "outputs"
   ]
  },
  {
   "cell_type": "code",
   "execution_count": null,
   "metadata": {},
   "outputs": [],
   "source": [
    "tokenizer.decode(outputs)"
   ]
  },
  {
   "cell_type": "code",
   "execution_count": null,
   "metadata": {},
   "outputs": [],
   "source": []
  }
 ],
 "metadata": {
  "kernelspec": {
   "display_name": "Python 3",
   "language": "python",
   "name": "python3"
  },
  "language_info": {
   "codemirror_mode": {
    "name": "ipython",
    "version": 3
   },
   "file_extension": ".py",
   "mimetype": "text/x-python",
   "name": "python",
   "nbconvert_exporter": "python",
   "pygments_lexer": "ipython3",
   "version": "3.7.9"
  }
 },
 "nbformat": 4,
 "nbformat_minor": 4
}
