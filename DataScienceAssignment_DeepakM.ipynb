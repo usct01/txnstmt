{
 "cells": [
  {
   "cell_type": "markdown",
   "metadata": {},
   "source": [
    "# Data Science Assignment: Submitted by Deepak Mishra"
   ]
  },
  {
   "cell_type": "code",
   "execution_count": 1,
   "metadata": {},
   "outputs": [
    {
     "name": "stdout",
     "output_type": "stream",
     "text": [
      "jupyter core     : 4.7.1\n",
      "jupyter-notebook : 6.4.0\n",
      "qtconsole        : not installed\n",
      "ipython          : 7.24.1\n",
      "ipykernel        : 5.5.5\n",
      "jupyter client   : 6.1.12\n",
      "jupyter lab      : 3.0.16\n",
      "nbconvert        : 6.0.7\n",
      "ipywidgets       : 7.6.3\n",
      "nbformat         : 5.1.3\n",
      "traitlets        : 5.0.5\n"
     ]
    }
   ],
   "source": [
    "!jupyter --version"
   ]
  },
  {
   "cell_type": "code",
   "execution_count": 1,
   "metadata": {
    "ExecuteTime": {
     "end_time": "2020-07-28T07:31:53.031815Z",
     "start_time": "2020-07-28T07:31:38.156806Z"
    }
   },
   "outputs": [],
   "source": [
    "# -*- coding: utf-8 -*-\n",
    "\"\"\"\n",
    "Created on Sun Sep 23 18:30:22 2018\n",
    "\n",
    "@author: Deepak Mishra\n",
    "\"\"\"\n",
    "import pandas as pd\n",
    "\n",
    "#READ THE DATA SHEET FROM EXCEL FILE\n",
    "dt1=pd.read_excel(\"Data Science Assignment September 2018.xlsx\",'Data')"
   ]
  },
  {
   "cell_type": "code",
   "execution_count": 2,
   "metadata": {
    "ExecuteTime": {
     "end_time": "2020-07-28T07:31:55.131663Z",
     "start_time": "2020-07-28T07:31:55.113544Z"
    }
   },
   "outputs": [],
   "source": [
    "#RENAME FIELD Lead ID to Lead_ID\n",
    "dt1.rename(columns={'Lead ID':'Lead_ID'},inplace=True)\n",
    "\n",
    "#CREATE A FIELD FROM post_date to YYYY-MM\n",
    "dt1['YearMon'] = dt1.post_date.dt.to_period('M')"
   ]
  },
  {
   "cell_type": "code",
   "execution_count": 3,
   "metadata": {
    "ExecuteTime": {
     "end_time": "2020-07-28T07:31:57.884389Z",
     "start_time": "2020-07-28T07:31:57.858980Z"
    },
    "scrolled": true
   },
   "outputs": [
    {
     "name": "stdout",
     "output_type": "stream",
     "text": [
      "<class 'pandas.core.frame.DataFrame'>\n",
      "RangeIndex: 29029 entries, 0 to 29028\n",
      "Data columns (total 12 columns):\n",
      " #   Column            Non-Null Count  Dtype         \n",
      "---  ------            --------------  -----         \n",
      " 0   Lead_ID           29029 non-null  int64         \n",
      " 1   bankid            29029 non-null  int64         \n",
      " 2   bank_account_id   29029 non-null  int64         \n",
      " 3   account_number    29029 non-null  object        \n",
      " 4   Industry          29029 non-null  object        \n",
      " 5   post_date         29029 non-null  datetime64[ns]\n",
      " 6   description       29029 non-null  object        \n",
      " 7   transaction_type  29029 non-null  object        \n",
      " 8   amount            29029 non-null  float64       \n",
      " 9   running_balance   29029 non-null  float64       \n",
      " 10  trans_order       29029 non-null  int64         \n",
      " 11  YearMon           29029 non-null  period[M]     \n",
      "dtypes: datetime64[ns](1), float64(2), int64(4), object(4), period[M](1)\n",
      "memory usage: 2.7+ MB\n"
     ]
    }
   ],
   "source": [
    "#INSPECTING DATA\n",
    "dt1.info()"
   ]
  },
  {
   "cell_type": "code",
   "execution_count": 4,
   "metadata": {
    "ExecuteTime": {
     "end_time": "2020-07-28T07:32:00.515327Z",
     "start_time": "2020-07-28T07:32:00.473526Z"
    },
    "scrolled": true
   },
   "outputs": [
    {
     "data": {
      "text/html": [
       "<div>\n",
       "<style scoped>\n",
       "    .dataframe tbody tr th:only-of-type {\n",
       "        vertical-align: middle;\n",
       "    }\n",
       "\n",
       "    .dataframe tbody tr th {\n",
       "        vertical-align: top;\n",
       "    }\n",
       "\n",
       "    .dataframe thead th {\n",
       "        text-align: right;\n",
       "    }\n",
       "</style>\n",
       "<table border=\"1\" class=\"dataframe\">\n",
       "  <thead>\n",
       "    <tr style=\"text-align: right;\">\n",
       "      <th></th>\n",
       "      <th>Lead_ID</th>\n",
       "      <th>bankid</th>\n",
       "      <th>bank_account_id</th>\n",
       "      <th>account_number</th>\n",
       "      <th>Industry</th>\n",
       "      <th>post_date</th>\n",
       "      <th>description</th>\n",
       "      <th>transaction_type</th>\n",
       "      <th>amount</th>\n",
       "      <th>running_balance</th>\n",
       "      <th>trans_order</th>\n",
       "      <th>YearMon</th>\n",
       "    </tr>\n",
       "  </thead>\n",
       "  <tbody>\n",
       "    <tr>\n",
       "      <th>0</th>\n",
       "      <td>321146</td>\n",
       "      <td>10479</td>\n",
       "      <td>13971</td>\n",
       "      <td>1</td>\n",
       "      <td>Retail Trade</td>\n",
       "      <td>2017-03-02</td>\n",
       "      <td>2017-03-01 00:00:00</td>\n",
       "      <td>credit</td>\n",
       "      <td>3.00</td>\n",
       "      <td>1032.65</td>\n",
       "      <td>2</td>\n",
       "      <td>2017-03</td>\n",
       "    </tr>\n",
       "    <tr>\n",
       "      <th>1</th>\n",
       "      <td>330698</td>\n",
       "      <td>8545</td>\n",
       "      <td>14374</td>\n",
       "      <td>1693</td>\n",
       "      <td>Health Care and Social Assistance</td>\n",
       "      <td>2017-01-13</td>\n",
       "      <td>#1008 Paid Check</td>\n",
       "      <td>debit</td>\n",
       "      <td>1062.78</td>\n",
       "      <td>6889.75</td>\n",
       "      <td>6</td>\n",
       "      <td>2017-01</td>\n",
       "    </tr>\n",
       "    <tr>\n",
       "      <th>2</th>\n",
       "      <td>330698</td>\n",
       "      <td>8545</td>\n",
       "      <td>14374</td>\n",
       "      <td>1693</td>\n",
       "      <td>Health Care and Social Assistance</td>\n",
       "      <td>2017-01-13</td>\n",
       "      <td>#1009 Paid Check</td>\n",
       "      <td>debit</td>\n",
       "      <td>1063.73</td>\n",
       "      <td>11125.54</td>\n",
       "      <td>2</td>\n",
       "      <td>2017-01</td>\n",
       "    </tr>\n",
       "    <tr>\n",
       "      <th>3</th>\n",
       "      <td>330698</td>\n",
       "      <td>8545</td>\n",
       "      <td>14374</td>\n",
       "      <td>1693</td>\n",
       "      <td>Health Care and Social Assistance</td>\n",
       "      <td>2017-01-17</td>\n",
       "      <td>#1011 Paid Check</td>\n",
       "      <td>debit</td>\n",
       "      <td>600.99</td>\n",
       "      <td>45497.83</td>\n",
       "      <td>28</td>\n",
       "      <td>2017-01</td>\n",
       "    </tr>\n",
       "    <tr>\n",
       "      <th>4</th>\n",
       "      <td>330698</td>\n",
       "      <td>8545</td>\n",
       "      <td>14374</td>\n",
       "      <td>1693</td>\n",
       "      <td>Health Care and Social Assistance</td>\n",
       "      <td>2017-01-13</td>\n",
       "      <td>#1012 Paid Check</td>\n",
       "      <td>debit</td>\n",
       "      <td>1284.15</td>\n",
       "      <td>21832.54</td>\n",
       "      <td>11</td>\n",
       "      <td>2017-01</td>\n",
       "    </tr>\n",
       "  </tbody>\n",
       "</table>\n",
       "</div>"
      ],
      "text/plain": [
       "   Lead_ID  bankid  bank_account_id account_number  \\\n",
       "0   321146   10479            13971              1   \n",
       "1   330698    8545            14374           1693   \n",
       "2   330698    8545            14374           1693   \n",
       "3   330698    8545            14374           1693   \n",
       "4   330698    8545            14374           1693   \n",
       "\n",
       "                            Industry  post_date          description  \\\n",
       "0                       Retail Trade 2017-03-02  2017-03-01 00:00:00   \n",
       "1  Health Care and Social Assistance 2017-01-13     #1008 Paid Check   \n",
       "2  Health Care and Social Assistance 2017-01-13     #1009 Paid Check   \n",
       "3  Health Care and Social Assistance 2017-01-17     #1011 Paid Check   \n",
       "4  Health Care and Social Assistance 2017-01-13     #1012 Paid Check   \n",
       "\n",
       "  transaction_type   amount  running_balance  trans_order  YearMon  \n",
       "0           credit     3.00          1032.65            2  2017-03  \n",
       "1            debit  1062.78          6889.75            6  2017-01  \n",
       "2            debit  1063.73         11125.54            2  2017-01  \n",
       "3            debit   600.99         45497.83           28  2017-01  \n",
       "4            debit  1284.15         21832.54           11  2017-01  "
      ]
     },
     "execution_count": 4,
     "metadata": {},
     "output_type": "execute_result"
    }
   ],
   "source": [
    "# CHECK FIRST FEW RECORDS\n",
    "dt1.head()"
   ]
  },
  {
   "cell_type": "code",
   "execution_count": 5,
   "metadata": {
    "ExecuteTime": {
     "end_time": "2020-07-28T07:32:04.800142Z",
     "start_time": "2020-07-28T07:32:04.747430Z"
    },
    "scrolled": true
   },
   "outputs": [
    {
     "data": {
      "text/html": [
       "<div>\n",
       "<style scoped>\n",
       "    .dataframe tbody tr th:only-of-type {\n",
       "        vertical-align: middle;\n",
       "    }\n",
       "\n",
       "    .dataframe tbody tr th {\n",
       "        vertical-align: top;\n",
       "    }\n",
       "\n",
       "    .dataframe thead th {\n",
       "        text-align: right;\n",
       "    }\n",
       "</style>\n",
       "<table border=\"1\" class=\"dataframe\">\n",
       "  <thead>\n",
       "    <tr style=\"text-align: right;\">\n",
       "      <th></th>\n",
       "      <th>Lead_ID</th>\n",
       "      <th>bankid</th>\n",
       "      <th>bank_account_id</th>\n",
       "      <th>amount</th>\n",
       "      <th>running_balance</th>\n",
       "      <th>trans_order</th>\n",
       "    </tr>\n",
       "  </thead>\n",
       "  <tbody>\n",
       "    <tr>\n",
       "      <th>count</th>\n",
       "      <td>29029.000000</td>\n",
       "      <td>29029.000000</td>\n",
       "      <td>29029.000000</td>\n",
       "      <td>29029.000000</td>\n",
       "      <td>29029.000000</td>\n",
       "      <td>29029.000000</td>\n",
       "    </tr>\n",
       "    <tr>\n",
       "      <th>mean</th>\n",
       "      <td>320714.718282</td>\n",
       "      <td>8823.888491</td>\n",
       "      <td>14052.030556</td>\n",
       "      <td>1927.453475</td>\n",
       "      <td>10247.851975</td>\n",
       "      <td>5.397223</td>\n",
       "    </tr>\n",
       "    <tr>\n",
       "      <th>std</th>\n",
       "      <td>5051.317064</td>\n",
       "      <td>683.963276</td>\n",
       "      <td>703.164708</td>\n",
       "      <td>7450.638452</td>\n",
       "      <td>20055.683105</td>\n",
       "      <td>5.445505</td>\n",
       "    </tr>\n",
       "    <tr>\n",
       "      <th>min</th>\n",
       "      <td>308148.000000</td>\n",
       "      <td>6192.000000</td>\n",
       "      <td>12460.000000</td>\n",
       "      <td>0.000000</td>\n",
       "      <td>-84727.980000</td>\n",
       "      <td>1.000000</td>\n",
       "    </tr>\n",
       "    <tr>\n",
       "      <th>25%</th>\n",
       "      <td>316728.000000</td>\n",
       "      <td>8534.000000</td>\n",
       "      <td>13234.000000</td>\n",
       "      <td>29.250000</td>\n",
       "      <td>798.850000</td>\n",
       "      <td>2.000000</td>\n",
       "    </tr>\n",
       "    <tr>\n",
       "      <th>50%</th>\n",
       "      <td>321380.000000</td>\n",
       "      <td>8535.000000</td>\n",
       "      <td>14049.000000</td>\n",
       "      <td>160.500000</td>\n",
       "      <td>3820.940000</td>\n",
       "      <td>4.000000</td>\n",
       "    </tr>\n",
       "    <tr>\n",
       "      <th>75%</th>\n",
       "      <td>323253.000000</td>\n",
       "      <td>8545.000000</td>\n",
       "      <td>14636.000000</td>\n",
       "      <td>788.460000</td>\n",
       "      <td>11898.880000</td>\n",
       "      <td>7.000000</td>\n",
       "    </tr>\n",
       "    <tr>\n",
       "      <th>max</th>\n",
       "      <td>330698.000000</td>\n",
       "      <td>10656.000000</td>\n",
       "      <td>15148.000000</td>\n",
       "      <td>419000.000000</td>\n",
       "      <td>437942.290000</td>\n",
       "      <td>48.000000</td>\n",
       "    </tr>\n",
       "  </tbody>\n",
       "</table>\n",
       "</div>"
      ],
      "text/plain": [
       "             Lead_ID        bankid  bank_account_id         amount  \\\n",
       "count   29029.000000  29029.000000     29029.000000   29029.000000   \n",
       "mean   320714.718282   8823.888491     14052.030556    1927.453475   \n",
       "std      5051.317064    683.963276       703.164708    7450.638452   \n",
       "min    308148.000000   6192.000000     12460.000000       0.000000   \n",
       "25%    316728.000000   8534.000000     13234.000000      29.250000   \n",
       "50%    321380.000000   8535.000000     14049.000000     160.500000   \n",
       "75%    323253.000000   8545.000000     14636.000000     788.460000   \n",
       "max    330698.000000  10656.000000     15148.000000  419000.000000   \n",
       "\n",
       "       running_balance   trans_order  \n",
       "count     29029.000000  29029.000000  \n",
       "mean      10247.851975      5.397223  \n",
       "std       20055.683105      5.445505  \n",
       "min      -84727.980000      1.000000  \n",
       "25%         798.850000      2.000000  \n",
       "50%        3820.940000      4.000000  \n",
       "75%       11898.880000      7.000000  \n",
       "max      437942.290000     48.000000  "
      ]
     },
     "execution_count": 5,
     "metadata": {},
     "output_type": "execute_result"
    }
   ],
   "source": [
    "#SEE THE DESCRIPTIVE STATS\n",
    "dt1.describe()"
   ]
  },
  {
   "cell_type": "markdown",
   "metadata": {},
   "source": [
    "## Exercises"
   ]
  },
  {
   "cell_type": "markdown",
   "metadata": {},
   "source": [
    "### Solutions to exercises in order"
   ]
  },
  {
   "cell_type": "markdown",
   "metadata": {},
   "source": [
    "####  Exercise #1. Count the number of merchants, bank accounts and tabulate:"
   ]
  },
  {
   "cell_type": "code",
   "execution_count": 6,
   "metadata": {
    "ExecuteTime": {
     "end_time": "2020-07-28T07:33:25.288005Z",
     "start_time": "2020-07-28T07:33:25.279363Z"
    }
   },
   "outputs": [
    {
     "name": "stdout",
     "output_type": "stream",
     "text": [
      "Number of Unique Merchants:  21\n"
     ]
    }
   ],
   "source": [
    "Num_Merchants=dt1.Lead_ID.nunique()\n",
    "print(\"Number of Unique Merchants: \",Num_Merchants)\n",
    "#Number of Unique Merchants:   21"
   ]
  },
  {
   "cell_type": "markdown",
   "metadata": {},
   "source": [
    "##### Check If bank account_id and account_number are unique"
   ]
  },
  {
   "cell_type": "code",
   "execution_count": 7,
   "metadata": {
    "ExecuteTime": {
     "end_time": "2020-07-28T07:33:29.437154Z",
     "start_time": "2020-07-28T07:33:29.407651Z"
    }
   },
   "outputs": [
    {
     "name": "stderr",
     "output_type": "stream",
     "text": [
      "/Users/deepak/opt/anaconda3/lib/python3.7/site-packages/ipykernel_launcher.py:1: FutureWarning: Indexing with multiple keys (implicitly converted to a tuple of keys) will be deprecated, use a list instead.\n",
      "  \"\"\"Entry point for launching an IPython kernel.\n"
     ]
    },
    {
     "data": {
      "text/plain": [
       "bank_account_id    53\n",
       "account_number     52\n",
       "dtype: int64"
      ]
     },
     "execution_count": 7,
     "metadata": {},
     "output_type": "execute_result"
    }
   ],
   "source": [
    "dt1.groupby('Lead_ID')['bank_account_id','account_number'].nunique().sum()"
   ]
  },
  {
   "cell_type": "markdown",
   "metadata": {},
   "source": [
    "<b>There is one account number associated with 2 bank account id, this seems suspicious</b>"
   ]
  },
  {
   "cell_type": "markdown",
   "metadata": {},
   "source": [
    "#### Exercise 1. (i) the number of bank accounts for each merchant"
   ]
  },
  {
   "cell_type": "code",
   "execution_count": 8,
   "metadata": {
    "ExecuteTime": {
     "end_time": "2020-07-28T07:33:56.554138Z",
     "start_time": "2020-07-28T07:33:56.520101Z"
    },
    "scrolled": true
   },
   "outputs": [
    {
     "name": "stderr",
     "output_type": "stream",
     "text": [
      "/Users/deepak/opt/anaconda3/lib/python3.7/site-packages/ipykernel_launcher.py:1: FutureWarning: Indexing with multiple keys (implicitly converted to a tuple of keys) will be deprecated, use a list instead.\n",
      "  \"\"\"Entry point for launching an IPython kernel.\n"
     ]
    },
    {
     "data": {
      "text/html": [
       "<div>\n",
       "<style scoped>\n",
       "    .dataframe tbody tr th:only-of-type {\n",
       "        vertical-align: middle;\n",
       "    }\n",
       "\n",
       "    .dataframe tbody tr th {\n",
       "        vertical-align: top;\n",
       "    }\n",
       "\n",
       "    .dataframe thead th {\n",
       "        text-align: right;\n",
       "    }\n",
       "</style>\n",
       "<table border=\"1\" class=\"dataframe\">\n",
       "  <thead>\n",
       "    <tr style=\"text-align: right;\">\n",
       "      <th></th>\n",
       "      <th>bank_account_id</th>\n",
       "      <th>account_number</th>\n",
       "    </tr>\n",
       "    <tr>\n",
       "      <th>Lead_ID</th>\n",
       "      <th></th>\n",
       "      <th></th>\n",
       "    </tr>\n",
       "  </thead>\n",
       "  <tbody>\n",
       "    <tr>\n",
       "      <th>308148</th>\n",
       "      <td>1</td>\n",
       "      <td>1</td>\n",
       "    </tr>\n",
       "    <tr>\n",
       "      <th>310443</th>\n",
       "      <td>2</td>\n",
       "      <td>2</td>\n",
       "    </tr>\n",
       "    <tr>\n",
       "      <th>312745</th>\n",
       "      <td>5</td>\n",
       "      <td>5</td>\n",
       "    </tr>\n",
       "    <tr>\n",
       "      <th>313082</th>\n",
       "      <td>1</td>\n",
       "      <td>1</td>\n",
       "    </tr>\n",
       "    <tr>\n",
       "      <th>314036</th>\n",
       "      <td>1</td>\n",
       "      <td>1</td>\n",
       "    </tr>\n",
       "    <tr>\n",
       "      <th>314559</th>\n",
       "      <td>2</td>\n",
       "      <td>2</td>\n",
       "    </tr>\n",
       "    <tr>\n",
       "      <th>316728</th>\n",
       "      <td>6</td>\n",
       "      <td>6</td>\n",
       "    </tr>\n",
       "    <tr>\n",
       "      <th>318465</th>\n",
       "      <td>7</td>\n",
       "      <td>7</td>\n",
       "    </tr>\n",
       "    <tr>\n",
       "      <th>321146</th>\n",
       "      <td>2</td>\n",
       "      <td>1</td>\n",
       "    </tr>\n",
       "    <tr>\n",
       "      <th>321218</th>\n",
       "      <td>1</td>\n",
       "      <td>1</td>\n",
       "    </tr>\n",
       "    <tr>\n",
       "      <th>321356</th>\n",
       "      <td>5</td>\n",
       "      <td>5</td>\n",
       "    </tr>\n",
       "    <tr>\n",
       "      <th>321380</th>\n",
       "      <td>8</td>\n",
       "      <td>8</td>\n",
       "    </tr>\n",
       "    <tr>\n",
       "      <th>321671</th>\n",
       "      <td>1</td>\n",
       "      <td>1</td>\n",
       "    </tr>\n",
       "    <tr>\n",
       "      <th>323253</th>\n",
       "      <td>2</td>\n",
       "      <td>2</td>\n",
       "    </tr>\n",
       "    <tr>\n",
       "      <th>325142</th>\n",
       "      <td>1</td>\n",
       "      <td>1</td>\n",
       "    </tr>\n",
       "    <tr>\n",
       "      <th>325330</th>\n",
       "      <td>1</td>\n",
       "      <td>1</td>\n",
       "    </tr>\n",
       "    <tr>\n",
       "      <th>326050</th>\n",
       "      <td>1</td>\n",
       "      <td>1</td>\n",
       "    </tr>\n",
       "    <tr>\n",
       "      <th>326062</th>\n",
       "      <td>3</td>\n",
       "      <td>3</td>\n",
       "    </tr>\n",
       "    <tr>\n",
       "      <th>328212</th>\n",
       "      <td>1</td>\n",
       "      <td>1</td>\n",
       "    </tr>\n",
       "    <tr>\n",
       "      <th>329803</th>\n",
       "      <td>1</td>\n",
       "      <td>1</td>\n",
       "    </tr>\n",
       "    <tr>\n",
       "      <th>330698</th>\n",
       "      <td>1</td>\n",
       "      <td>1</td>\n",
       "    </tr>\n",
       "  </tbody>\n",
       "</table>\n",
       "</div>"
      ],
      "text/plain": [
       "         bank_account_id  account_number\n",
       "Lead_ID                                 \n",
       "308148                 1               1\n",
       "310443                 2               2\n",
       "312745                 5               5\n",
       "313082                 1               1\n",
       "314036                 1               1\n",
       "314559                 2               2\n",
       "316728                 6               6\n",
       "318465                 7               7\n",
       "321146                 2               1\n",
       "321218                 1               1\n",
       "321356                 5               5\n",
       "321380                 8               8\n",
       "321671                 1               1\n",
       "323253                 2               2\n",
       "325142                 1               1\n",
       "325330                 1               1\n",
       "326050                 1               1\n",
       "326062                 3               3\n",
       "328212                 1               1\n",
       "329803                 1               1\n",
       "330698                 1               1"
      ]
     },
     "execution_count": 8,
     "metadata": {},
     "output_type": "execute_result"
    }
   ],
   "source": [
    "dt1.groupby('Lead_ID')['bank_account_id','account_number'].nunique()"
   ]
  },
  {
   "cell_type": "markdown",
   "metadata": {},
   "source": [
    "<b>There customer 321146 one account number associated with 2 bank account id, this seems suspicious</b>"
   ]
  },
  {
   "cell_type": "markdown",
   "metadata": {},
   "source": [
    "#### Exercise 1. (ii) the number of months of each bank account for which data is available."
   ]
  },
  {
   "cell_type": "code",
   "execution_count": 9,
   "metadata": {
    "ExecuteTime": {
     "end_time": "2020-07-28T07:35:13.600284Z",
     "start_time": "2020-07-28T07:35:13.046991Z"
    }
   },
   "outputs": [
    {
     "name": "stdout",
     "output_type": "stream",
     "text": [
      "   Lead_ID  bank_account_id  YearMon\n",
      "0   308148            12460       10\n",
      "1   310443            12654        7\n",
      "2   310443            12655       12\n",
      "3   312745            12835        5\n",
      "4   312745            12836        5\n"
     ]
    },
    {
     "data": {
      "text/html": [
       "<div>\n",
       "<style scoped>\n",
       "    .dataframe tbody tr th:only-of-type {\n",
       "        vertical-align: middle;\n",
       "    }\n",
       "\n",
       "    .dataframe tbody tr th {\n",
       "        vertical-align: top;\n",
       "    }\n",
       "\n",
       "    .dataframe thead th {\n",
       "        text-align: right;\n",
       "    }\n",
       "</style>\n",
       "<table border=\"1\" class=\"dataframe\">\n",
       "  <thead>\n",
       "    <tr style=\"text-align: right;\">\n",
       "      <th></th>\n",
       "      <th>Lead_ID</th>\n",
       "      <th>bankid</th>\n",
       "      <th>bank_account_id</th>\n",
       "      <th>account_number</th>\n",
       "      <th>Industry</th>\n",
       "      <th>post_date</th>\n",
       "      <th>description</th>\n",
       "      <th>transaction_type</th>\n",
       "      <th>amount</th>\n",
       "      <th>running_balance</th>\n",
       "      <th>trans_order</th>\n",
       "      <th>YearMon</th>\n",
       "    </tr>\n",
       "  </thead>\n",
       "  <tbody>\n",
       "    <tr>\n",
       "      <th>15906</th>\n",
       "      <td>326062</td>\n",
       "      <td>8535</td>\n",
       "      <td>14045</td>\n",
       "      <td>xxxx5576</td>\n",
       "      <td>Accommodation and Food Services</td>\n",
       "      <td>2017-01-25</td>\n",
       "      <td>Online Transfer to CHK ...0403 transaction#: x...</td>\n",
       "      <td>debit</td>\n",
       "      <td>0.54</td>\n",
       "      <td>50.00</td>\n",
       "      <td>1</td>\n",
       "      <td>2017-01</td>\n",
       "    </tr>\n",
       "    <tr>\n",
       "      <th>16120</th>\n",
       "      <td>326062</td>\n",
       "      <td>8535</td>\n",
       "      <td>14045</td>\n",
       "      <td>xxxx5576</td>\n",
       "      <td>Accommodation and Food Services</td>\n",
       "      <td>2016-12-05</td>\n",
       "      <td>Online Transfer to CHK ...9573 transaction#: x...</td>\n",
       "      <td>debit</td>\n",
       "      <td>50.00</td>\n",
       "      <td>50.54</td>\n",
       "      <td>1</td>\n",
       "      <td>2016-12</td>\n",
       "    </tr>\n",
       "  </tbody>\n",
       "</table>\n",
       "</div>"
      ],
      "text/plain": [
       "       Lead_ID  bankid  bank_account_id account_number  \\\n",
       "15906   326062    8535            14045       xxxx5576   \n",
       "16120   326062    8535            14045       xxxx5576   \n",
       "\n",
       "                              Industry  post_date  \\\n",
       "15906  Accommodation and Food Services 2017-01-25   \n",
       "16120  Accommodation and Food Services 2016-12-05   \n",
       "\n",
       "                                             description transaction_type  \\\n",
       "15906  Online Transfer to CHK ...0403 transaction#: x...            debit   \n",
       "16120  Online Transfer to CHK ...9573 transaction#: x...            debit   \n",
       "\n",
       "       amount  running_balance  trans_order  YearMon  \n",
       "15906    0.54            50.00            1  2017-01  \n",
       "16120   50.00            50.54            1  2016-12  "
      ]
     },
     "execution_count": 9,
     "metadata": {},
     "output_type": "execute_result"
    }
   ],
   "source": [
    "#  convert the result to dataframe for better looks and analysis\n",
    "res_ii=dt1.groupby(['Lead_ID','bank_account_id']).YearMon.nunique().reset_index()\n",
    "print(res_ii.head())\n",
    "\n",
    "#verify above result\n",
    "dt1.loc[ dt1.bank_account_id==14045]"
   ]
  },
  {
   "cell_type": "markdown",
   "metadata": {},
   "source": [
    "##### Exercise 1. #(iii) the total number of credits (deposits), debits (withdrawals) and their averages per month for each bank account and each merchant\n"
   ]
  },
  {
   "cell_type": "code",
   "execution_count": 10,
   "metadata": {
    "ExecuteTime": {
     "end_time": "2020-07-28T07:35:23.769418Z",
     "start_time": "2020-07-28T07:35:23.688620Z"
    },
    "scrolled": true
   },
   "outputs": [
    {
     "name": "stdout",
     "output_type": "stream",
     "text": [
      "  Lead_ID bank_account_id transaction_type amount              \n",
      "                                             size          mean\n",
      "0  308148           12460           credit    172    387.273430\n",
      "1  308148           12460            debit    320    193.123844\n",
      "2  310443           12654           credit     27  11434.547407\n",
      "3  310443           12654            debit    223   1474.867175\n",
      "4  310443           12655           credit      8   2050.055000\n",
      "  Lead_ID bank_account_id transaction_type amount         \n",
      "                                             size     mean\n",
      "8  312745           12836           credit      3  6351.93\n",
      "9  312745           12836            debit      5  3807.00\n"
     ]
    },
    {
     "data": {
      "text/html": [
       "<div>\n",
       "<style scoped>\n",
       "    .dataframe tbody tr th:only-of-type {\n",
       "        vertical-align: middle;\n",
       "    }\n",
       "\n",
       "    .dataframe tbody tr th {\n",
       "        vertical-align: top;\n",
       "    }\n",
       "\n",
       "    .dataframe thead th {\n",
       "        text-align: right;\n",
       "    }\n",
       "</style>\n",
       "<table border=\"1\" class=\"dataframe\">\n",
       "  <thead>\n",
       "    <tr style=\"text-align: right;\">\n",
       "      <th></th>\n",
       "      <th>Lead_ID</th>\n",
       "      <th>bankid</th>\n",
       "      <th>bank_account_id</th>\n",
       "      <th>account_number</th>\n",
       "      <th>Industry</th>\n",
       "      <th>post_date</th>\n",
       "      <th>description</th>\n",
       "      <th>transaction_type</th>\n",
       "      <th>amount</th>\n",
       "      <th>running_balance</th>\n",
       "      <th>trans_order</th>\n",
       "      <th>YearMon</th>\n",
       "    </tr>\n",
       "  </thead>\n",
       "  <tbody>\n",
       "    <tr>\n",
       "      <th>10263</th>\n",
       "      <td>312745</td>\n",
       "      <td>8544</td>\n",
       "      <td>12836</td>\n",
       "      <td>7186</td>\n",
       "      <td>Professional, Scientific, and Technical Services</td>\n",
       "      <td>2016-06-03</td>\n",
       "      <td>DEPOSIT</td>\n",
       "      <td>credit</td>\n",
       "      <td>2555.79</td>\n",
       "      <td>2555.79</td>\n",
       "      <td>1</td>\n",
       "      <td>2016-06</td>\n",
       "    </tr>\n",
       "    <tr>\n",
       "      <th>10677</th>\n",
       "      <td>312745</td>\n",
       "      <td>8544</td>\n",
       "      <td>12836</td>\n",
       "      <td>7186</td>\n",
       "      <td>Professional, Scientific, and Technical Services</td>\n",
       "      <td>2016-08-23</td>\n",
       "      <td>DEPOSIT MADE IN A BRANCH/STORE #xxxxx3963</td>\n",
       "      <td>credit</td>\n",
       "      <td>1500.00</td>\n",
       "      <td>2020.79</td>\n",
       "      <td>1</td>\n",
       "      <td>2016-08</td>\n",
       "    </tr>\n",
       "    <tr>\n",
       "      <th>10764</th>\n",
       "      <td>312745</td>\n",
       "      <td>8544</td>\n",
       "      <td>12836</td>\n",
       "      <td>7186</td>\n",
       "      <td>Professional, Scientific, and Technical Services</td>\n",
       "      <td>2016-06-15</td>\n",
       "      <td>DEPOSIT MADE IN A BRANCH/STORE #xxxxx6367</td>\n",
       "      <td>credit</td>\n",
       "      <td>15000.00</td>\n",
       "      <td>15555.79</td>\n",
       "      <td>1</td>\n",
       "      <td>2016-06</td>\n",
       "    </tr>\n",
       "    <tr>\n",
       "      <th>14358</th>\n",
       "      <td>312745</td>\n",
       "      <td>8544</td>\n",
       "      <td>12836</td>\n",
       "      <td>7186</td>\n",
       "      <td>Professional, Scientific, and Technical Services</td>\n",
       "      <td>2016-06-17</td>\n",
       "      <td>NSF RETURN ITEM FEE FOR A TRANSACTION RECEIVED...</td>\n",
       "      <td>debit</td>\n",
       "      <td>35.00</td>\n",
       "      <td>15520.79</td>\n",
       "      <td>1</td>\n",
       "      <td>2016-06</td>\n",
       "    </tr>\n",
       "    <tr>\n",
       "      <th>16443</th>\n",
       "      <td>312745</td>\n",
       "      <td>8544</td>\n",
       "      <td>12836</td>\n",
       "      <td>7186</td>\n",
       "      <td>Professional, Scientific, and Technical Services</td>\n",
       "      <td>2016-11-21</td>\n",
       "      <td>ONLINE TRANSFER TO RANGOLI LLC BUSINESS CHECKI...</td>\n",
       "      <td>debit</td>\n",
       "      <td>500.00</td>\n",
       "      <td>20.79</td>\n",
       "      <td>1</td>\n",
       "      <td>2016-11</td>\n",
       "    </tr>\n",
       "    <tr>\n",
       "      <th>16447</th>\n",
       "      <td>312745</td>\n",
       "      <td>8544</td>\n",
       "      <td>12836</td>\n",
       "      <td>7186</td>\n",
       "      <td>Professional, Scientific, and Technical Services</td>\n",
       "      <td>2016-10-06</td>\n",
       "      <td>ONLINE TRANSFER TO RANGOLI LLC BUSINESS CHECKI...</td>\n",
       "      <td>debit</td>\n",
       "      <td>1500.00</td>\n",
       "      <td>520.79</td>\n",
       "      <td>1</td>\n",
       "      <td>2016-10</td>\n",
       "    </tr>\n",
       "    <tr>\n",
       "      <th>24265</th>\n",
       "      <td>312745</td>\n",
       "      <td>8544</td>\n",
       "      <td>12836</td>\n",
       "      <td>7186</td>\n",
       "      <td>Professional, Scientific, and Technical Services</td>\n",
       "      <td>2016-06-09</td>\n",
       "      <td>WITHDRAWAL MADE IN A BRANCH/STORE</td>\n",
       "      <td>debit</td>\n",
       "      <td>2000.00</td>\n",
       "      <td>555.79</td>\n",
       "      <td>1</td>\n",
       "      <td>2016-06</td>\n",
       "    </tr>\n",
       "    <tr>\n",
       "      <th>24266</th>\n",
       "      <td>312745</td>\n",
       "      <td>8544</td>\n",
       "      <td>12836</td>\n",
       "      <td>7186</td>\n",
       "      <td>Professional, Scientific, and Technical Services</td>\n",
       "      <td>2016-07-06</td>\n",
       "      <td>WITHDRAWAL MADE IN A BRANCH/STORE</td>\n",
       "      <td>debit</td>\n",
       "      <td>15000.00</td>\n",
       "      <td>520.79</td>\n",
       "      <td>1</td>\n",
       "      <td>2016-07</td>\n",
       "    </tr>\n",
       "  </tbody>\n",
       "</table>\n",
       "</div>"
      ],
      "text/plain": [
       "       Lead_ID  bankid  bank_account_id account_number  \\\n",
       "10263   312745    8544            12836           7186   \n",
       "10677   312745    8544            12836           7186   \n",
       "10764   312745    8544            12836           7186   \n",
       "14358   312745    8544            12836           7186   \n",
       "16443   312745    8544            12836           7186   \n",
       "16447   312745    8544            12836           7186   \n",
       "24265   312745    8544            12836           7186   \n",
       "24266   312745    8544            12836           7186   \n",
       "\n",
       "                                               Industry  post_date  \\\n",
       "10263  Professional, Scientific, and Technical Services 2016-06-03   \n",
       "10677  Professional, Scientific, and Technical Services 2016-08-23   \n",
       "10764  Professional, Scientific, and Technical Services 2016-06-15   \n",
       "14358  Professional, Scientific, and Technical Services 2016-06-17   \n",
       "16443  Professional, Scientific, and Technical Services 2016-11-21   \n",
       "16447  Professional, Scientific, and Technical Services 2016-10-06   \n",
       "24265  Professional, Scientific, and Technical Services 2016-06-09   \n",
       "24266  Professional, Scientific, and Technical Services 2016-07-06   \n",
       "\n",
       "                                             description transaction_type  \\\n",
       "10263                                            DEPOSIT           credit   \n",
       "10677          DEPOSIT MADE IN A BRANCH/STORE #xxxxx3963           credit   \n",
       "10764          DEPOSIT MADE IN A BRANCH/STORE #xxxxx6367           credit   \n",
       "14358  NSF RETURN ITEM FEE FOR A TRANSACTION RECEIVED...            debit   \n",
       "16443  ONLINE TRANSFER TO RANGOLI LLC BUSINESS CHECKI...            debit   \n",
       "16447  ONLINE TRANSFER TO RANGOLI LLC BUSINESS CHECKI...            debit   \n",
       "24265                  WITHDRAWAL MADE IN A BRANCH/STORE            debit   \n",
       "24266                  WITHDRAWAL MADE IN A BRANCH/STORE            debit   \n",
       "\n",
       "         amount  running_balance  trans_order  YearMon  \n",
       "10263   2555.79          2555.79            1  2016-06  \n",
       "10677   1500.00          2020.79            1  2016-08  \n",
       "10764  15000.00         15555.79            1  2016-06  \n",
       "14358     35.00         15520.79            1  2016-06  \n",
       "16443    500.00            20.79            1  2016-11  \n",
       "16447   1500.00           520.79            1  2016-10  \n",
       "24265   2000.00           555.79            1  2016-06  \n",
       "24266  15000.00           520.79            1  2016-07  "
      ]
     },
     "execution_count": 10,
     "metadata": {},
     "output_type": "execute_result"
    }
   ],
   "source": [
    "res_iii=dt1.groupby(['Lead_ID','bank_account_id','transaction_type']\n",
    "            ).agg({'amount': ['size','mean']}).reset_index()\n",
    "print(res_iii.head())\n",
    "#verify results\n",
    "print(res_iii.loc[res_iii.bank_account_id==12836])\n",
    "dt1.loc[ dt1.bank_account_id==12836]"
   ]
  },
  {
   "cell_type": "markdown",
   "metadata": {},
   "source": [
    "##### Exercise 1. (iv) the total dollar value of credits, debits and their averages per month for each bank account and each merchant"
   ]
  },
  {
   "cell_type": "code",
   "execution_count": 11,
   "metadata": {
    "ExecuteTime": {
     "end_time": "2020-07-28T07:35:26.105103Z",
     "start_time": "2020-07-28T07:35:26.016932Z"
    }
   },
   "outputs": [
    {
     "data": {
      "text/html": [
       "<div>\n",
       "<style scoped>\n",
       "    .dataframe tbody tr th:only-of-type {\n",
       "        vertical-align: middle;\n",
       "    }\n",
       "\n",
       "    .dataframe tbody tr th {\n",
       "        vertical-align: top;\n",
       "    }\n",
       "\n",
       "    .dataframe thead tr th {\n",
       "        text-align: left;\n",
       "    }\n",
       "</style>\n",
       "<table border=\"1\" class=\"dataframe\">\n",
       "  <thead>\n",
       "    <tr>\n",
       "      <th></th>\n",
       "      <th>Lead_ID</th>\n",
       "      <th>bank_account_id</th>\n",
       "      <th>transaction_type</th>\n",
       "      <th>YearMon</th>\n",
       "      <th colspan=\"3\" halign=\"left\">amount</th>\n",
       "    </tr>\n",
       "    <tr>\n",
       "      <th></th>\n",
       "      <th></th>\n",
       "      <th></th>\n",
       "      <th></th>\n",
       "      <th></th>\n",
       "      <th>size</th>\n",
       "      <th>sum</th>\n",
       "      <th>mean</th>\n",
       "    </tr>\n",
       "  </thead>\n",
       "  <tbody>\n",
       "    <tr>\n",
       "      <th>0</th>\n",
       "      <td>308148</td>\n",
       "      <td>12460</td>\n",
       "      <td>credit</td>\n",
       "      <td>2016-03</td>\n",
       "      <td>5</td>\n",
       "      <td>6098.62</td>\n",
       "      <td>1219.7240</td>\n",
       "    </tr>\n",
       "    <tr>\n",
       "      <th>1</th>\n",
       "      <td>308148</td>\n",
       "      <td>12460</td>\n",
       "      <td>credit</td>\n",
       "      <td>2016-04</td>\n",
       "      <td>1</td>\n",
       "      <td>1500.00</td>\n",
       "      <td>1500.0000</td>\n",
       "    </tr>\n",
       "    <tr>\n",
       "      <th>2</th>\n",
       "      <td>308148</td>\n",
       "      <td>12460</td>\n",
       "      <td>credit</td>\n",
       "      <td>2016-05</td>\n",
       "      <td>4</td>\n",
       "      <td>774.95</td>\n",
       "      <td>193.7375</td>\n",
       "    </tr>\n",
       "    <tr>\n",
       "      <th>3</th>\n",
       "      <td>308148</td>\n",
       "      <td>12460</td>\n",
       "      <td>credit</td>\n",
       "      <td>2016-06</td>\n",
       "      <td>4</td>\n",
       "      <td>2369.38</td>\n",
       "      <td>592.3450</td>\n",
       "    </tr>\n",
       "    <tr>\n",
       "      <th>4</th>\n",
       "      <td>308148</td>\n",
       "      <td>12460</td>\n",
       "      <td>credit</td>\n",
       "      <td>2016-07</td>\n",
       "      <td>20</td>\n",
       "      <td>8105.04</td>\n",
       "      <td>405.2520</td>\n",
       "    </tr>\n",
       "  </tbody>\n",
       "</table>\n",
       "</div>"
      ],
      "text/plain": [
       "  Lead_ID bank_account_id transaction_type  YearMon amount                    \n",
       "                                                      size      sum       mean\n",
       "0  308148           12460           credit  2016-03      5  6098.62  1219.7240\n",
       "1  308148           12460           credit  2016-04      1  1500.00  1500.0000\n",
       "2  308148           12460           credit  2016-05      4   774.95   193.7375\n",
       "3  308148           12460           credit  2016-06      4  2369.38   592.3450\n",
       "4  308148           12460           credit  2016-07     20  8105.04   405.2520"
      ]
     },
     "execution_count": 11,
     "metadata": {},
     "output_type": "execute_result"
    }
   ],
   "source": [
    "res_iv=dt1.groupby(['Lead_ID','bank_account_id','transaction_type','YearMon']\n",
    "            ).agg({'amount': ['size','sum','mean']}).reset_index()\n",
    "res_iv.head()"
   ]
  },
  {
   "cell_type": "markdown",
   "metadata": {},
   "source": [
    "##### Exercise 1. (v) Aggregate the answers to (iii) and (iv) at the merchant level, industry level and bankid level"
   ]
  },
  {
   "cell_type": "code",
   "execution_count": 12,
   "metadata": {
    "ExecuteTime": {
     "end_time": "2020-07-28T07:35:47.331208Z",
     "start_time": "2020-07-28T07:35:47.278977Z"
    }
   },
   "outputs": [
    {
     "data": {
      "text/html": [
       "<div>\n",
       "<style scoped>\n",
       "    .dataframe tbody tr th:only-of-type {\n",
       "        vertical-align: middle;\n",
       "    }\n",
       "\n",
       "    .dataframe tbody tr th {\n",
       "        vertical-align: top;\n",
       "    }\n",
       "\n",
       "    .dataframe thead tr th {\n",
       "        text-align: left;\n",
       "    }\n",
       "</style>\n",
       "<table border=\"1\" class=\"dataframe\">\n",
       "  <thead>\n",
       "    <tr>\n",
       "      <th></th>\n",
       "      <th>Lead_ID</th>\n",
       "      <th>bankid</th>\n",
       "      <th>Industry</th>\n",
       "      <th colspan=\"3\" halign=\"left\">amount</th>\n",
       "    </tr>\n",
       "    <tr>\n",
       "      <th></th>\n",
       "      <th></th>\n",
       "      <th></th>\n",
       "      <th></th>\n",
       "      <th>size</th>\n",
       "      <th>sum</th>\n",
       "      <th>mean</th>\n",
       "    </tr>\n",
       "  </thead>\n",
       "  <tbody>\n",
       "    <tr>\n",
       "      <th>0</th>\n",
       "      <td>308148</td>\n",
       "      <td>8535</td>\n",
       "      <td>Accommodation and Food Services</td>\n",
       "      <td>492</td>\n",
       "      <td>128410.66</td>\n",
       "      <td>260.997276</td>\n",
       "    </tr>\n",
       "    <tr>\n",
       "      <th>1</th>\n",
       "      <td>310443</td>\n",
       "      <td>6192</td>\n",
       "      <td>Construction</td>\n",
       "      <td>281</td>\n",
       "      <td>671795.26</td>\n",
       "      <td>2390.730463</td>\n",
       "    </tr>\n",
       "    <tr>\n",
       "      <th>2</th>\n",
       "      <td>312745</td>\n",
       "      <td>8544</td>\n",
       "      <td>Professional, Scientific, and Technical Services</td>\n",
       "      <td>760</td>\n",
       "      <td>1432688.42</td>\n",
       "      <td>1885.116342</td>\n",
       "    </tr>\n",
       "    <tr>\n",
       "      <th>3</th>\n",
       "      <td>313082</td>\n",
       "      <td>8535</td>\n",
       "      <td>Professional, Scientific, and Technical Services</td>\n",
       "      <td>1138</td>\n",
       "      <td>1105902.61</td>\n",
       "      <td>971.794912</td>\n",
       "    </tr>\n",
       "    <tr>\n",
       "      <th>4</th>\n",
       "      <td>314036</td>\n",
       "      <td>9966</td>\n",
       "      <td>Retail Trade</td>\n",
       "      <td>2261</td>\n",
       "      <td>878894.92</td>\n",
       "      <td>388.719558</td>\n",
       "    </tr>\n",
       "  </tbody>\n",
       "</table>\n",
       "</div>"
      ],
      "text/plain": [
       "  Lead_ID bankid                                          Industry amount  \\\n",
       "                                                                     size   \n",
       "0  308148   8535                   Accommodation and Food Services    492   \n",
       "1  310443   6192                                      Construction    281   \n",
       "2  312745   8544  Professional, Scientific, and Technical Services    760   \n",
       "3  313082   8535  Professional, Scientific, and Technical Services   1138   \n",
       "4  314036   9966                                      Retail Trade   2261   \n",
       "\n",
       "                            \n",
       "          sum         mean  \n",
       "0   128410.66   260.997276  \n",
       "1   671795.26  2390.730463  \n",
       "2  1432688.42  1885.116342  \n",
       "3  1105902.61   971.794912  \n",
       "4   878894.92   388.719558  "
      ]
     },
     "execution_count": 12,
     "metadata": {},
     "output_type": "execute_result"
    }
   ],
   "source": [
    "res_v=dt1.groupby(['Lead_ID','bankid','Industry']\n",
    "            ).agg({'amount': ['size','sum','mean']}).reset_index()\n",
    "res_v.head()"
   ]
  },
  {
   "cell_type": "markdown",
   "metadata": {},
   "source": [
    "##### Exercise 1. (vi) Develop a slide visualizing the relationship between LeadID, bankid, bank_account_id and account_number "
   ]
  },
  {
   "cell_type": "code",
   "execution_count": 13,
   "metadata": {
    "ExecuteTime": {
     "end_time": "2020-07-28T07:35:56.669261Z",
     "start_time": "2020-07-28T07:35:56.643587Z"
    },
    "scrolled": true
   },
   "outputs": [
    {
     "data": {
      "text/plain": [
       "Lead_ID  bankid  bank_account_id  account_number\n",
       "308148   8535    12460            xxxx9928           492\n",
       "310443   6192    12654            xxxx9363           250\n",
       "                 12655            xxxx9355            31\n",
       "312745   8544    12835            2549                18\n",
       "                 12836            7186                 8\n",
       "                 12837            3266                 1\n",
       "                 12838            8423                82\n",
       "                 12839            3582               651\n",
       "313082   8535    13233            xxxx4241          1138\n",
       "314036   9966    13226            xxxx7053          2261\n",
       "314559   8534    13271            xxxx3965           415\n",
       "                 13273            xxxx3981            12\n",
       "316728   8534    13272            xxxx4095           123\n",
       "         8544    13228            8151               479\n",
       "                 13230            4615                87\n",
       "                 13232            8118              1708\n",
       "                 13234            8126               195\n",
       "                 13235            7285                20\n",
       "318465   9262    13419            xxxx7330          1361\n",
       "                 13420            xxxx0978             8\n",
       "                 13421            xxxx1620             2\n",
       "                 13422            xxxx1696           200\n",
       "                 13423            xxxx4335           191\n",
       "                 13424            xxxx1584           100\n",
       "                 13425            xxxx6643           201\n",
       "321146   10479   13970            1                  421\n",
       "                 13971            1                  154\n",
       "321218   10656   14779            x0441              906\n",
       "321356   8544    15142            3695               404\n",
       "                 15144            6314               235\n",
       "                 15146            9793               784\n",
       "                 15147            8284                33\n",
       "                 15148            3282                29\n",
       "321380   8534    14634            xxxx4184            97\n",
       "                 14635            xxxx4197            95\n",
       "                 14636            xxxx4207          2536\n",
       "                 14637            xxxx4210          2395\n",
       "         10591   14630            xxxx1985           142\n",
       "                 14631            xxxx1993           128\n",
       "                 14632            xxxx2009           138\n",
       "                 14633            xxxx1977           181\n",
       "321671   8534    14629            xxxx0273          2430\n",
       "323253   8545    13877            4342                24\n",
       "                 13879            1384               709\n",
       "325142   8535    14049            xxxx3690           991\n",
       "325330   8544    15002            5367               569\n",
       "326050   8534    14206            xxxx1093           649\n",
       "326062   8535    14044            xxxx9573          1025\n",
       "                 14045            xxxx5576             2\n",
       "                 14046            xxxx0403          1268\n",
       "328212   8535    14981            xxxx3380           627\n",
       "329803   8535    14339            xxxx9013           771\n",
       "330698   8545    14374            1693              1252\n",
       "dtype: int64"
      ]
     },
     "execution_count": 13,
     "metadata": {},
     "output_type": "execute_result"
    }
   ],
   "source": [
    "dt1.groupby(['Lead_ID','bankid','bank_account_id','account_number']).size()"
   ]
  },
  {
   "cell_type": "markdown",
   "metadata": {},
   "source": [
    "\n",
    "\n",
    "### Exercise 2. Consider Lead ID: 318465, bank_account_id: 13419  \n",
    "#### - plot the withdrawals, deposits and end-of-day daily balance \n",
    "#### -as a daily time series; do the same for Lead ID: 316728, bank_account_id : 13232."
   ]
  },
  {
   "cell_type": "code",
   "execution_count": 14,
   "metadata": {
    "ExecuteTime": {
     "end_time": "2020-07-28T07:36:03.961239Z",
     "start_time": "2020-07-28T07:36:02.975082Z"
    },
    "scrolled": true
   },
   "outputs": [
    {
     "name": "stdout",
     "output_type": "stream",
     "text": [
      "     Lead_ID  bankid  bank_account_id  post_date  amount  EOD_BAL\n",
      "0     318465    9262            13419 2016-04-12  587.52   587.52\n",
      "1     318465    9262            13419 2016-04-13 -238.65   348.87\n",
      "2     318465    9262            13419 2016-04-14  -97.34   251.53\n",
      "3     318465    9262            13419 2016-04-15 -187.37    64.16\n",
      "4     318465    9262            13419 2016-04-16  418.15   482.31\n",
      "..       ...     ...              ...        ...     ...      ...\n",
      "219   318465    9262            13419 2016-12-11  -42.52  1436.25\n",
      "220   318465    9262            13419 2016-12-12 -215.03  1221.22\n",
      "221   318465    9262            13419 2016-12-13 -662.83   558.39\n",
      "222   318465    9262            13419 2016-12-14  690.79  1249.18\n",
      "223   318465    9262            13419 2016-12-15  738.81  1987.99\n",
      "\n",
      "[224 rows x 6 columns]\n"
     ]
    },
    {
     "name": "stderr",
     "output_type": "stream",
     "text": [
      "/Users/deepak/opt/anaconda3/lib/python3.7/site-packages/pandas/core/indexing.py:670: SettingWithCopyWarning: \n",
      "A value is trying to be set on a copy of a slice from a DataFrame\n",
      "\n",
      "See the caveats in the documentation: https://pandas.pydata.org/pandas-docs/stable/user_guide/indexing.html#returning-a-view-versus-a-copy\n",
      "  self._setitem_with_indexer(indexer, value)\n"
     ]
    }
   ],
   "source": [
    "#SELECT DESIRED ACCOUNT ID\n",
    "dt1=dt1.loc[(dt1.Lead_ID==318465) &  (dt1.bank_account_id==13419)].reset_index()\n",
    "\n",
    "#MULTIPLY THE DEBIT AMOUNTS BY -1\n",
    "dt1.loc[dt1.transaction_type=='debit','amount']=-1*dt1.amount\n",
    "\n",
    "#SORT THE DATA BY DATE AND TRANSACTION ORDER\n",
    "dt1.sort_values(['Lead_ID','bankid','bank_account_id','post_date','trans_order'], inplace=True)\n",
    "\n",
    "#SET THE OPENING BALANCE FOR EACH ACCOUNT\n",
    "dt1['amount'].iloc[0]= dt1['running_balance'].values[0]\n",
    "\n",
    "#COMPUTE EOD BALANCE\n",
    "grpby=dt1.groupby(['Lead_ID','bankid','bank_account_id','post_date'])['amount'].sum().reset_index()\n",
    "grpby['EOD_BAL']=grpby.amount.cumsum()\n",
    "print(grpby)"
   ]
  },
  {
   "cell_type": "code",
   "execution_count": 15,
   "metadata": {
    "ExecuteTime": {
     "end_time": "2020-07-28T07:36:20.220837Z",
     "start_time": "2020-07-28T07:36:15.668430Z"
    }
   },
   "outputs": [
    {
     "data": {
      "text/plain": [
       "<matplotlib.axes._subplots.AxesSubplot at 0x7f9b6d0f15d0>"
      ]
     },
     "execution_count": 15,
     "metadata": {},
     "output_type": "execute_result"
    },
    {
     "data": {
      "image/png": "[encoded data removed]",
      "text/plain": [
       "<Figure size 432x288 with 1 Axes>"
      ]
     },
     "metadata": {
      "needs_background": "light"
     },
     "output_type": "display_data"
    }
   ],
   "source": [
    "#PLOT THE EOD BALANCES\n",
    "grpby.plot(x='post_date',y='EOD_BAL',kind='bar')"
   ]
  },
  {
   "cell_type": "code",
   "execution_count": 16,
   "metadata": {
    "ExecuteTime": {
     "end_time": "2020-07-28T07:36:23.017661Z",
     "start_time": "2020-07-28T07:36:22.810748Z"
    }
   },
   "outputs": [
    {
     "data": {
      "text/plain": [
       "<matplotlib.axes._subplots.AxesSubplot at 0x7f9b6b303e50>"
      ]
     },
     "execution_count": 16,
     "metadata": {},
     "output_type": "execute_result"
    },
    {
     "data": {
      "image/png": "[encoded data removed]",
      "text/plain": [
       "<Figure size 432x288 with 1 Axes>"
      ]
     },
     "metadata": {
      "needs_background": "light"
     },
     "output_type": "display_data"
    }
   ],
   "source": [
    "#CHECK THE DISTRIBUTION OF EOD BALANCE\n",
    "grpby.EOD_BAL.hist()"
   ]
  },
  {
   "cell_type": "code",
   "execution_count": 17,
   "metadata": {
    "ExecuteTime": {
     "end_time": "2020-07-28T07:36:28.417527Z",
     "start_time": "2020-07-28T07:36:28.403801Z"
    }
   },
   "outputs": [
    {
     "data": {
      "text/plain": [
       "count     224.000000\n",
       "mean      746.001696\n",
       "std       808.487639\n",
       "min     -1316.100000\n",
       "25%       242.440000\n",
       "50%       499.220000\n",
       "75%      1250.092500\n",
       "max      3508.180000\n",
       "Name: EOD_BAL, dtype: float64"
      ]
     },
     "execution_count": 17,
     "metadata": {},
     "output_type": "execute_result"
    }
   ],
   "source": [
    "#DESCRIPTIVE STATS OF EOD BALANCES\n",
    "grpby.EOD_BAL.describe()"
   ]
  },
  {
   "cell_type": "code",
   "execution_count": 18,
   "metadata": {
    "ExecuteTime": {
     "end_time": "2020-07-28T07:36:42.014548Z",
     "start_time": "2020-07-28T07:36:41.939354Z"
    }
   },
   "outputs": [],
   "source": [
    "#DATA FOR WITHDRAWL AND DEPOSITS/ CREDIT AND DEBIT\n",
    "#GET THE CREDIT AND DEBIT BY EOD\n",
    "crdr=dt1.groupby(['Lead_ID','bankid','bank_account_id','post_date','transaction_type'])['amount'].sum().reset_index()\n",
    "#GET THE CREDIT DEBIT AS SEPARATE COLUMNS FOR PLOTTING\n",
    "pivt=(crdr.pivot_table(index=['Lead_ID','bankid','bank_account_id','post_date']\n",
    "                      ,columns=  'transaction_type',values='amount' ).reset_index()\n",
    "      )\n",
    "pivt.fillna(value=0,inplace=True)"
   ]
  },
  {
   "cell_type": "code",
   "execution_count": 19,
   "metadata": {
    "ExecuteTime": {
     "end_time": "2020-07-28T07:36:47.857036Z",
     "start_time": "2020-07-28T07:36:44.451282Z"
    }
   },
   "outputs": [
    {
     "data": {
      "text/plain": [
       "<matplotlib.axes._subplots.AxesSubplot at 0x7f9b6d0f1650>"
      ]
     },
     "execution_count": 19,
     "metadata": {},
     "output_type": "execute_result"
    },
    {
     "data": {
      "image/png": "[encoded data removed]",
      "text/plain": [
       "<Figure size 432x288 with 1 Axes>"
      ]
     },
     "metadata": {
      "needs_background": "light"
     },
     "output_type": "display_data"
    }
   ],
   "source": [
    "pivt.plot(x='post_date',y='credit',kind='bar')"
   ]
  },
  {
   "cell_type": "code",
   "execution_count": 20,
   "metadata": {
    "ExecuteTime": {
     "end_time": "2020-07-28T07:36:53.353406Z",
     "start_time": "2020-07-28T07:36:50.131546Z"
    }
   },
   "outputs": [
    {
     "data": {
      "text/plain": [
       "<matplotlib.axes._subplots.AxesSubplot at 0x7f9b6c9ee490>"
      ]
     },
     "execution_count": 20,
     "metadata": {},
     "output_type": "execute_result"
    },
    {
     "data": {
      "image/png": "[encoded data removed]",
      "text/plain": [
       "<Figure size 432x288 with 1 Axes>"
      ]
     },
     "metadata": {
      "needs_background": "light"
     },
     "output_type": "display_data"
    }
   ],
   "source": [
    "pivt.plot(x='post_date',y='debit',kind='bar')"
   ]
  },
  {
   "cell_type": "markdown",
   "metadata": {},
   "source": [
    "### 3. For the merchants with the above Lead IDs, plot the withdrawals, deposits \n",
    "#### and end-of-day daily balance as a daily time series \n",
    "#### (aggregate over all their bank accounts)"
   ]
  },
  {
   "cell_type": "code",
   "execution_count": 22,
   "metadata": {
    "ExecuteTime": {
     "end_time": "2020-07-28T07:37:41.367401Z",
     "start_time": "2020-07-28T07:37:41.245989Z"
    }
   },
   "outputs": [
    {
     "name": "stdout",
     "output_type": "stream",
     "text": [
      "count     224.000000\n",
      "mean      746.001696\n",
      "std       808.487639\n",
      "min     -1316.100000\n",
      "25%       242.440000\n",
      "50%       499.220000\n",
      "75%      1250.092500\n",
      "max      3508.180000\n",
      "Name: EOD_BAL, dtype: float64\n",
      "transaction_type   Lead_ID  bankid  bank_account_id        credit  \\\n",
      "count                224.0   224.0            224.0    224.000000   \n",
      "mean              318465.0  9262.0          13419.0    479.227813   \n",
      "std                    0.0     0.0              0.0   1849.529488   \n",
      "min               318465.0  9262.0          13419.0      0.000000   \n",
      "25%               318465.0  9262.0          13419.0      0.000000   \n",
      "50%               318465.0  9262.0          13419.0     51.040000   \n",
      "75%               318465.0  9262.0          13419.0    500.000000   \n",
      "max               318465.0  9262.0          13419.0  26523.590000   \n",
      "\n",
      "transaction_type         debit  \n",
      "count               224.000000  \n",
      "mean               -470.352857  \n",
      "std                1834.700882  \n",
      "min              -26925.500000  \n",
      "25%                -427.442500  \n",
      "50%                -214.340000  \n",
      "75%                 -85.390000  \n",
      "max                   0.000000  \n"
     ]
    },
    {
     "name": "stderr",
     "output_type": "stream",
     "text": [
      "/Users/deepak/opt/anaconda3/lib/python3.7/site-packages/pandas/core/indexing.py:670: SettingWithCopyWarning: \n",
      "A value is trying to be set on a copy of a slice from a DataFrame\n",
      "\n",
      "See the caveats in the documentation: https://pandas.pydata.org/pandas-docs/stable/user_guide/indexing.html#returning-a-view-versus-a-copy\n",
      "  self._setitem_with_indexer(indexer, value)\n"
     ]
    }
   ],
   "source": [
    "#COMPUTE EOD BALANCE\n",
    "#MULTIPLY THE DEBIT AMOUNTS BY -1\n",
    "dt1.loc[dt1.transaction_type=='debit','amount']=-1*dt1.amount\n",
    "# SELECT THE DATA FOR LEAD ID\n",
    "dt11=dt1.loc[(dt1.Lead_ID==318465)].reset_index()\n",
    "allacct = pd.DataFrame()\n",
    "allpivt=pd.DataFrame()\n",
    "#LOOP THOURGH ALL ACCOUNT ID OF A LEAD ID\n",
    "for acct in dt11.bank_account_id.unique().tolist():\n",
    "    #SELECT DESIRED ACCOUNT ID\n",
    "    dt1=dt11.loc[(dt11.bank_account_id==acct)]\n",
    "    \n",
    "    #SORT THE DATA BY DATE AND TRANSACTION ORDER\n",
    "    dt1.sort_values(['Lead_ID','bankid','bank_account_id','post_date','trans_order'], inplace=True)\n",
    "    \n",
    "    #SET THE OPENING BALANCE FOR EACH ACCOUNT\n",
    "    dt1['amount'].iloc[0]= dt1['running_balance'].values[0]\n",
    "    \n",
    "    #COMPUTE EOD BALANCE\n",
    "    grpby=dt1.groupby(['Lead_ID','bankid','bank_account_id','post_date'])['amount'].sum().reset_index()\n",
    "    grpby['EOD_BAL']=grpby.amount.cumsum()\n",
    "    allacct = allacct.append(grpby)\n",
    "    print(grpby.EOD_BAL.describe())\n",
    "    #GET THE CREDIT AND DEBIT BY EOD\n",
    "    crdr=dt1.groupby(['Lead_ID','bankid','bank_account_id','post_date','transaction_type'])['amount'].sum().reset_index()\n",
    "    #GET THE CREDIT DEBIT AS SEPARATE COLUMNS FOR PLOTTING\n",
    "    pivt=(crdr.pivot_table(index=['Lead_ID','bankid','bank_account_id','post_date']\n",
    "                          ,columns=  'transaction_type',values='amount' ).reset_index()\n",
    "          )\n",
    "    pivt.fillna(value=0,inplace=True)\n",
    "    allpivt=allpivt.append(pivt)\n",
    "    print(pivt.describe())\n",
    "\n",
    "#NOW CREATE EOD BALANCE AT MERCHANT LEVEL\n",
    "#COMPUTE EOD BALANCE\n",
    "mrhtEOD=allacct.groupby(['Lead_ID','post_date'])['amount'].sum().reset_index()\n",
    "mrhtEOD['EOD_BAL']=mrhtEOD.amount.cumsum()"
   ]
  },
  {
   "cell_type": "code",
   "execution_count": 23,
   "metadata": {
    "ExecuteTime": {
     "end_time": "2020-07-28T07:37:55.208236Z",
     "start_time": "2020-07-28T07:37:51.715067Z"
    }
   },
   "outputs": [
    {
     "data": {
      "text/plain": [
       "<matplotlib.axes._subplots.AxesSubplot at 0x7f9b6da3ea50>"
      ]
     },
     "execution_count": 23,
     "metadata": {},
     "output_type": "execute_result"
    },
    {
     "data": {
      "image/png": "[encoded data removed]",
      "text/plain": [
       "<Figure size 432x288 with 1 Axes>"
      ]
     },
     "metadata": {
      "needs_background": "light"
     },
     "output_type": "display_data"
    }
   ],
   "source": [
    "#PLOT THE EOD BALANCES\n",
    "mrhtEOD.plot(x='post_date',y='EOD_BAL',kind='bar')"
   ]
  },
  {
   "cell_type": "code",
   "execution_count": 24,
   "metadata": {
    "ExecuteTime": {
     "end_time": "2020-07-28T07:39:08.609280Z",
     "start_time": "2020-07-28T07:39:05.155654Z"
    }
   },
   "outputs": [
    {
     "name": "stderr",
     "output_type": "stream",
     "text": [
      "/Users/deepak/opt/anaconda3/lib/python3.7/site-packages/ipykernel_launcher.py:2: FutureWarning: Indexing with multiple keys (implicitly converted to a tuple of keys) will be deprecated, use a list instead.\n",
      "  \n"
     ]
    },
    {
     "data": {
      "text/plain": [
       "<matplotlib.axes._subplots.AxesSubplot at 0x7f9b6db0ed50>"
      ]
     },
     "execution_count": 24,
     "metadata": {},
     "output_type": "execute_result"
    },
    {
     "data": {
      "image/png": "[encoded data removed]",
      "text/plain": [
       "<Figure size 432x288 with 1 Axes>"
      ]
     },
     "metadata": {
      "needs_background": "light"
     },
     "output_type": "display_data"
    }
   ],
   "source": [
    "#CREDIT DEBIT AT MERCHANT LEVEL\n",
    "crdrall=allpivt.groupby(['Lead_ID','post_date'])['credit','debit'].sum().reset_index()\n",
    "crdrall.plot(x='post_date',y='credit',kind='bar')"
   ]
  },
  {
   "cell_type": "code",
   "execution_count": 25,
   "metadata": {
    "ExecuteTime": {
     "end_time": "2020-07-28T07:39:13.133154Z",
     "start_time": "2020-07-28T07:39:09.981687Z"
    }
   },
   "outputs": [
    {
     "data": {
      "text/plain": [
       "<matplotlib.axes._subplots.AxesSubplot at 0x7f9b6f3bdb10>"
      ]
     },
     "execution_count": 25,
     "metadata": {},
     "output_type": "execute_result"
    },
    {
     "data": {
      "image/png": "[encoded data removed]",
      "text/plain": [
       "<Figure size 432x288 with 1 Axes>"
      ]
     },
     "metadata": {
      "needs_background": "light"
     },
     "output_type": "display_data"
    }
   ],
   "source": [
    "crdrall.plot(x='post_date',y='debit',kind='bar')"
   ]
  },
  {
   "cell_type": "markdown",
   "metadata": {},
   "source": [
    "### EXERCISE #4. The cash flow of a business has many dimensions \n",
    "#### [for example, top 5 deposits/Total deposits,  \n",
    "#### average # of days between two withdrawals, \n",
    "#### coefficient of variation of the daily balance] \n",
    "#### that are potentially relevant to a borrower’s ability to repay. \n",
    "#### Can you obtain the value of these variables for each merchant?\n",
    "#### What other cash flow variables can you hypothesize that could be relevant  for predicting merchant default?"
   ]
  },
  {
   "cell_type": "code",
   "execution_count": 26,
   "metadata": {
    "ExecuteTime": {
     "end_time": "2020-07-28T07:39:15.988603Z",
     "start_time": "2020-07-28T07:39:15.959221Z"
    },
    "scrolled": true
   },
   "outputs": [
    {
     "name": "stdout",
     "output_type": "stream",
     "text": [
      "   index  Lead_ID  post_date    amount\n",
      "0    109   318465 2016-11-14  26523.59\n",
      "1     88   318465 2016-10-07   3907.08\n",
      "2     16   318465 2016-05-12   3167.12\n",
      "3     64   318465 2016-08-15   2718.20\n",
      "4     23   318465 2016-05-25   2462.92\n"
     ]
    }
   ],
   "source": [
    "#TOP 5 DEPOSITS FOR EACH MERCHANT\n",
    "deposits=dt1.loc[dt1.transaction_type=='credit']\n",
    "topdep=deposits.groupby(['Lead_ID','post_date']).amount.sum().reset_index()\n",
    "topdep.sort_values(by=['Lead_ID','amount'],ascending=[True,False],inplace=True)\n",
    "Top5Dep=topdep.groupby('Lead_ID').head(5).reset_index()\n",
    "print(Top5Dep)"
   ]
  },
  {
   "cell_type": "code",
   "execution_count": 27,
   "metadata": {
    "ExecuteTime": {
     "end_time": "2020-07-28T07:39:25.507631Z",
     "start_time": "2020-07-28T07:39:25.496516Z"
    },
    "scrolled": true
   },
   "outputs": [
    {
     "name": "stdout",
     "output_type": "stream",
     "text": [
      "   Lead_ID     amount\n",
      "0   318465  107347.03\n"
     ]
    }
   ],
   "source": [
    "#TOTAL DEPOSIT FOR EACH MERCHANT\n",
    "TotalDep=topdep.groupby('Lead_ID').amount.sum().reset_index()\n",
    "print(TotalDep)"
   ]
  },
  {
   "cell_type": "code",
   "execution_count": 28,
   "metadata": {
    "ExecuteTime": {
     "end_time": "2020-07-28T07:39:30.108253Z",
     "start_time": "2020-07-28T07:39:30.085016Z"
    },
    "scrolled": true
   },
   "outputs": [
    {
     "name": "stdout",
     "output_type": "stream",
     "text": [
      "   Lead_ID  Top5Deposits     amount     Ratio\n",
      "0   318465      38778.91  107347.03  0.361248\n"
     ]
    }
   ],
   "source": [
    "#RATIO OF TOP 5 DEPOSITIS TO TOTAL DEPOSITS\n",
    "Top5Dep=Top5Dep.groupby('Lead_ID').amount.sum().reset_index()\n",
    "Top5Dep.rename(columns={'amount':'Top5Deposits'},inplace=True)\n",
    "ratioDep=pd.merge(Top5Dep,TotalDep,on='Lead_ID')\n",
    "ratioDep['Ratio']=ratioDep.Top5Deposits/ratioDep.amount\n",
    "print(ratioDep)"
   ]
  },
  {
   "cell_type": "code",
   "execution_count": 29,
   "metadata": {
    "ExecuteTime": {
     "end_time": "2020-07-28T07:39:38.103778Z",
     "start_time": "2020-07-28T07:39:38.052067Z"
    }
   },
   "outputs": [
    {
     "data": {
      "text/html": [
       "<div>\n",
       "<style scoped>\n",
       "    .dataframe tbody tr th:only-of-type {\n",
       "        vertical-align: middle;\n",
       "    }\n",
       "\n",
       "    .dataframe tbody tr th {\n",
       "        vertical-align: top;\n",
       "    }\n",
       "\n",
       "    .dataframe thead th {\n",
       "        text-align: right;\n",
       "    }\n",
       "</style>\n",
       "<table border=\"1\" class=\"dataframe\">\n",
       "  <thead>\n",
       "    <tr style=\"text-align: right;\">\n",
       "      <th></th>\n",
       "      <th>Lead_ID</th>\n",
       "      <th>amount</th>\n",
       "      <th>days_elapsed</th>\n",
       "    </tr>\n",
       "  </thead>\n",
       "  <tbody>\n",
       "    <tr>\n",
       "      <th>count</th>\n",
       "      <td>128.0</td>\n",
       "      <td>128.000000</td>\n",
       "      <td>127.000000</td>\n",
       "    </tr>\n",
       "    <tr>\n",
       "      <th>mean</th>\n",
       "      <td>318465.0</td>\n",
       "      <td>838.648672</td>\n",
       "      <td>1.944882</td>\n",
       "    </tr>\n",
       "    <tr>\n",
       "      <th>std</th>\n",
       "      <td>0.0</td>\n",
       "      <td>2388.038710</td>\n",
       "      <td>1.415936</td>\n",
       "    </tr>\n",
       "    <tr>\n",
       "      <th>min</th>\n",
       "      <td>318465.0</td>\n",
       "      <td>0.750000</td>\n",
       "      <td>1.000000</td>\n",
       "    </tr>\n",
       "    <tr>\n",
       "      <th>25%</th>\n",
       "      <td>318465.0</td>\n",
       "      <td>165.552500</td>\n",
       "      <td>1.000000</td>\n",
       "    </tr>\n",
       "    <tr>\n",
       "      <th>50%</th>\n",
       "      <td>318465.0</td>\n",
       "      <td>432.185000</td>\n",
       "      <td>1.000000</td>\n",
       "    </tr>\n",
       "    <tr>\n",
       "      <th>75%</th>\n",
       "      <td>318465.0</td>\n",
       "      <td>861.465000</td>\n",
       "      <td>2.000000</td>\n",
       "    </tr>\n",
       "    <tr>\n",
       "      <th>max</th>\n",
       "      <td>318465.0</td>\n",
       "      <td>26523.590000</td>\n",
       "      <td>9.000000</td>\n",
       "    </tr>\n",
       "  </tbody>\n",
       "</table>\n",
       "</div>"
      ],
      "text/plain": [
       "        Lead_ID        amount  days_elapsed\n",
       "count     128.0    128.000000    127.000000\n",
       "mean   318465.0    838.648672      1.944882\n",
       "std         0.0   2388.038710      1.415936\n",
       "min    318465.0      0.750000      1.000000\n",
       "25%    318465.0    165.552500      1.000000\n",
       "50%    318465.0    432.185000      1.000000\n",
       "75%    318465.0    861.465000      2.000000\n",
       "max    318465.0  26523.590000      9.000000"
      ]
     },
     "execution_count": 29,
     "metadata": {},
     "output_type": "execute_result"
    }
   ],
   "source": [
    "# average # of days between two withdrawals, \n",
    "withdrawls=dt1.loc[dt1.transaction_type=='debit']\n",
    "withdrawls=deposits.groupby(['Lead_ID','post_date']).amount.sum().reset_index()\n",
    "withdrawls['days_elapsed']=withdrawls.sort_values(['Lead_ID','post_date']).groupby('Lead_ID').post_date.diff().dt.days\n",
    "withdrawls.describe()"
   ]
  },
  {
   "cell_type": "code",
   "execution_count": 30,
   "metadata": {
    "ExecuteTime": {
     "end_time": "2020-07-28T07:39:40.318296Z",
     "start_time": "2020-07-28T07:39:40.304671Z"
    },
    "scrolled": true
   },
   "outputs": [
    {
     "name": "stdout",
     "output_type": "stream",
     "text": [
      "   Lead_ID  days_elapsed\n",
      "0   318465      1.944882\n"
     ]
    }
   ],
   "source": [
    "avgdays=withdrawls.groupby('Lead_ID').days_elapsed.mean().reset_index()\n",
    "print(avgdays)"
   ]
  },
  {
   "cell_type": "code",
   "execution_count": 31,
   "metadata": {
    "ExecuteTime": {
     "end_time": "2020-07-28T07:39:54.741251Z",
     "start_time": "2020-07-28T07:39:52.576192Z"
    }
   },
   "outputs": [
    {
     "data": {
      "text/html": [
       "<div>\n",
       "<style scoped>\n",
       "    .dataframe tbody tr th:only-of-type {\n",
       "        vertical-align: middle;\n",
       "    }\n",
       "\n",
       "    .dataframe tbody tr th {\n",
       "        vertical-align: top;\n",
       "    }\n",
       "\n",
       "    .dataframe thead th {\n",
       "        text-align: right;\n",
       "    }\n",
       "</style>\n",
       "<table border=\"1\" class=\"dataframe\">\n",
       "  <thead>\n",
       "    <tr style=\"text-align: right;\">\n",
       "      <th></th>\n",
       "      <th>Lead_ID</th>\n",
       "      <th>EOD_BAL</th>\n",
       "    </tr>\n",
       "  </thead>\n",
       "  <tbody>\n",
       "    <tr>\n",
       "      <th>0</th>\n",
       "      <td>318465</td>\n",
       "      <td>1.081339</td>\n",
       "    </tr>\n",
       "  </tbody>\n",
       "</table>\n",
       "</div>"
      ],
      "text/plain": [
       "   Lead_ID   EOD_BAL\n",
       "0   318465  1.081339"
      ]
     },
     "execution_count": 31,
     "metadata": {},
     "output_type": "execute_result"
    }
   ],
   "source": [
    "# coefficient of variation of the daily balance\n",
    "from scipy.stats import variation \n",
    "mrhtEOD.groupby(['Lead_ID']).EOD_BAL.apply(lambda x: variation(x)).reset_index()"
   ]
  },
  {
   "cell_type": "markdown",
   "metadata": {},
   "source": [
    "### What other cash flow variables can you hypothesize that could be relevant for predicting merchant default?\n",
    "#### Number of times running balance is negative in last 12 months\n",
    "#### Number of months when the average daily withdrawl is more than average daily deposits\n",
    "#### Trends in EOD balance, is it increasing or decreasing recently\n",
    "#### Variation in amount of deposits/ withdrawls i.e., consistent transaction of average amounts or few high value transactions\n",
    "#### Source/ mode of transactions"
   ]
  },
  {
   "cell_type": "markdown",
   "metadata": {},
   "source": [
    "### Exercise 5. Develop a program by which clusters of similar transactions for a merchant can be identified from transaction descriptions and other information\n",
    "\n",
    "#### There are many ways to analyzing this problem\n",
    "##### - one way is Clustering the Description of transactions\n",
    "##### - Topic Modeling is another possibility"
   ]
  },
  {
   "cell_type": "code",
   "execution_count": 33,
   "metadata": {
    "ExecuteTime": {
     "end_time": "2020-07-28T07:40:11.960869Z",
     "start_time": "2020-07-28T07:40:11.929508Z"
    }
   },
   "outputs": [
    {
     "data": {
      "text/plain": [
       "['Deposit - Online Banking Transfer from xxxxxx1584 CK',\n",
       " 'Deposit - Mobile Banking',\n",
       " 'Deposit - Mobile Banking',\n",
       " 'External Deposit - ADVOCARE - PAYMENTS',\n",
       " 'POS Deposit - AIRBNB 888 BRANNAN STREET SAN FRANCISCOCAUS - Card Ending In 2706',\n",
       " 'Deposit - Transfer from ******1696',\n",
       " 'Deposit - Mobile Banking',\n",
       " 'Dividend/Interest',\n",
       " 'Deposit - Online Banking Transfer from xxxxxx6643 CK',\n",
       " 'Deposit - Online Banking Transfer from xxxxxx1696 CK']"
      ]
     },
     "execution_count": 33,
     "metadata": {},
     "output_type": "execute_result"
    }
   ],
   "source": [
    "dt11=dt1.loc[(dt1.Lead_ID==318465) & (dt1.transaction_type=='credit')]\n",
    "#GET THE TRANSACTION DESCRIPTION AS A LIST TO PROCESS\n",
    "desc_trans=dt11.description.values.tolist()\n",
    "#CHECK FEW VALUES\n",
    "desc_trans[:10]"
   ]
  },
  {
   "cell_type": "code",
   "execution_count": 34,
   "metadata": {
    "ExecuteTime": {
     "end_time": "2020-07-28T07:40:38.154699Z",
     "start_time": "2020-07-28T07:40:24.472813Z"
    }
   },
   "outputs": [],
   "source": [
    "#WE WILL USE K MEANS CLUSTERING ON DESCRIPTIONS\n",
    "from sklearn.feature_extraction.text import TfidfVectorizer\n",
    "from sklearn.cluster import KMeans\n",
    "from sklearn.metrics import silhouette_score\n",
    "\n",
    "# CONVERT THE DESCRIPTION TEXT TO VECTORS\n",
    "vectorizer = TfidfVectorizer(stop_words='english')\n",
    "X = vectorizer.fit_transform(desc_trans)"
   ]
  },
  {
   "cell_type": "code",
   "execution_count": 35,
   "metadata": {
    "ExecuteTime": {
     "end_time": "2020-07-28T07:40:44.470471Z",
     "start_time": "2020-07-28T07:40:43.286283Z"
    }
   },
   "outputs": [
    {
     "data": {
      "text/plain": [
       "Text(0, 0.5, 'SSE')"
      ]
     },
     "execution_count": 35,
     "metadata": {},
     "output_type": "execute_result"
    },
    {
     "data": {
      "image/png": "[encoded data removed]",
      "text/plain": [
       "<Figure size 432x288 with 1 Axes>"
      ]
     },
     "metadata": {
      "needs_background": "light"
     },
     "output_type": "display_data"
    }
   ],
   "source": [
    "#FIND OUT OPTIMAL NUMBER OF CLUSTERS\n",
    "#METHOD 1: Elbow curve based on SSE \n",
    "sse = {}\n",
    "slh={}\n",
    "for k in range(2, 10):\n",
    "    kmeans = KMeans(n_clusters=k, max_iter=1000).fit(X)\n",
    "    sse[k] = kmeans.inertia_ \n",
    "#    this is to find silhouette score\n",
    "    label = kmeans.labels_\n",
    "    slh[k] = silhouette_score(X, label, metric='euclidean')\n",
    "#PLOT THE GRAPHS\n",
    "import matplotlib.pyplot as plt\n",
    "plt.figure()\n",
    "plt.plot(list(sse.keys()), list(sse.values()))\n",
    "plt.xlabel(\"Number of cluster\")\n",
    "plt.ylabel(\"SSE\")\n",
    "# plt.show()"
   ]
  },
  {
   "cell_type": "code",
   "execution_count": 36,
   "metadata": {
    "ExecuteTime": {
     "end_time": "2020-07-28T07:40:58.297109Z",
     "start_time": "2020-07-28T07:40:58.071639Z"
    }
   },
   "outputs": [
    {
     "data": {
      "text/plain": [
       "Text(0, 0.5, 'Silhouette Score')"
      ]
     },
     "execution_count": 36,
     "metadata": {},
     "output_type": "execute_result"
    },
    {
     "data": {
      "image/png": "[encoded data removed]",
      "text/plain": [
       "<Figure size 432x288 with 1 Axes>"
      ]
     },
     "metadata": {
      "needs_background": "light"
     },
     "output_type": "display_data"
    }
   ],
   "source": [
    "#METHOD 2: Using  silhouette score: higher the better\n",
    "plt.figure()\n",
    "plt.plot(list(slh.keys()), list(slh.values()))\n",
    "plt.xlabel(\"Number of cluster\")\n",
    "plt.ylabel(\"Silhouette Score\")\n",
    "# plt.show()"
   ]
  },
  {
   "cell_type": "code",
   "execution_count": 37,
   "metadata": {
    "ExecuteTime": {
     "end_time": "2020-07-28T07:41:13.903101Z",
     "start_time": "2020-07-28T07:41:13.849217Z"
    },
    "scrolled": true
   },
   "outputs": [
    {
     "name": "stdout",
     "output_type": "stream",
     "text": [
      "Top terms per cluster:\n",
      "Cluster 0:\n",
      " advocare\n",
      " payments\n",
      " external\n",
      " deposit\n",
      " card\n",
      " cash\n",
      " cellars\n",
      " callahan\n",
      " dep\n",
      " ck\n",
      "Cluster 1:\n",
      " ck\n",
      " online\n",
      " transfer\n",
      " xxxxxx1696\n",
      " banking\n",
      " deposit\n",
      " xxxxxx6643\n",
      " xxxxxx4335\n",
      " xxxxxx1584\n",
      " cindra\n",
      "Cluster 2:\n",
      " mobile\n",
      " deposit\n",
      " banking\n",
      " ending\n",
      " card\n",
      " waus\n",
      " pos\n",
      " sq\n",
      " bothell\n",
      " atm\n",
      "Cluster 3:\n",
      " dividend\n",
      " xxxxxxxxxxx40\n",
      " ck\n",
      " demand\n",
      " cs\n",
      " creek\n",
      " courtesy\n",
      " comcast\n",
      " cindra\n",
      " deposit\n"
     ]
    }
   ],
   "source": [
    "#####################################################\n",
    "#GET num_clus FROM ABOVE 2 METHODS AND FIT THE FINAL CLSUTER\n",
    "num_clus = 4\n",
    "model = KMeans(n_clusters=num_clus, init='k-means++', max_iter=100, n_init=2)\n",
    "model.fit(X)\n",
    "\n",
    "print(\"Top terms per cluster:\")\n",
    "clus_cent = model.cluster_centers_.argsort()[:, ::-1]\n",
    "terms = vectorizer.get_feature_names()\n",
    "for i in range(num_clus):\n",
    "    print(\"Cluster %d:\" % i),\n",
    "    for ind in clus_cent[i, :10]:\n",
    "        print(' %s' % terms[ind]),\n",
    "    print"
   ]
  },
  {
   "cell_type": "code",
   "execution_count": 38,
   "metadata": {
    "ExecuteTime": {
     "end_time": "2020-07-28T07:41:25.518291Z",
     "start_time": "2020-07-28T07:41:25.509357Z"
    }
   },
   "outputs": [
    {
     "name": "stdout",
     "output_type": "stream",
     "text": [
      "[2]\n"
     ]
    }
   ],
   "source": [
    "# The model can be used to predict the cluster of new transaction\n",
    "Y = vectorizer.transform(['ATM Deposit - BECU 317 NW GILMAN BLVD ISSAQUAH WAUS - Card Ending In 8648'])\n",
    "prediction = model.predict(Y)\n",
    "print(prediction)"
   ]
  },
  {
   "cell_type": "markdown",
   "metadata": {},
   "source": [
    "The above transaction belongs to Cluster 2"
   ]
  },
  {
   "cell_type": "code",
   "execution_count": 43,
   "metadata": {
    "ExecuteTime": {
     "end_time": "2020-07-28T07:43:37.762501Z",
     "start_time": "2020-07-28T07:43:37.699744Z"
    }
   },
   "outputs": [
    {
     "name": "stdout",
     "output_type": "stream",
     "text": [
      "[1]\n",
      "[2]\n",
      "[2]\n",
      "[0]\n",
      "[2]\n",
      "[2]\n",
      "[2]\n",
      "[3]\n",
      "[1]\n",
      "[1]\n"
     ]
    }
   ],
   "source": [
    "for tx in desc_trans[:10]:\n",
    "    Y = vectorizer.transform([tx])\n",
    "    print(model.predict(Y))\n",
    "\n"
   ]
  },
  {
   "cell_type": "code",
   "execution_count": null,
   "metadata": {},
   "outputs": [],
   "source": []
  }
 ],
 "metadata": {
  "kernelspec": {
   "display_name": "Python 3",
   "language": "python",
   "name": "python3"
  },
  "language_info": {
   "codemirror_mode": {
    "name": "ipython",
    "version": 3
   },
   "file_extension": ".py",
   "mimetype": "text/x-python",
   "name": "python",
   "nbconvert_exporter": "python",
   "pygments_lexer": "ipython3",
   "version": "3.8.2"
  },
  "toc": {
   "base_numbering": 1,
   "nav_menu": {},
   "number_sections": true,
   "sideBar": true,
   "skip_h1_title": false,
   "title_cell": "Table of Contents",
   "title_sidebar": "Contents",
   "toc_cell": false,
   "toc_position": {},
   "toc_section_display": true,
   "toc_window_display": false
  },
  "varInspector": {
   "cols": {
    "lenName": 16,
    "lenType": 16,
    "lenVar": 40
   },
   "kernels_config": {
    "python": {
     "delete_cmd_postfix": "",
     "delete_cmd_prefix": "del ",
     "library": "var_list.py",
     "varRefreshCmd": "print(var_dic_list())"
    },
    "r": {
     "delete_cmd_postfix": ") ",
     "delete_cmd_prefix": "rm(",
     "library": "var_list.r",
     "varRefreshCmd": "cat(var_dic_list()) "
    }
   },
   "types_to_exclude": [
    "module",
    "function",
    "builtin_function_or_method",
    "instance",
    "_Feature"
   ],
   "window_display": false
  }
 },
 "nbformat": 4,
 "nbformat_minor": 2
}
